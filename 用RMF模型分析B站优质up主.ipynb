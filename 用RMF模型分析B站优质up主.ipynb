{
 "cells": [
  {
   "cell_type": "markdown",
   "metadata": {},
   "source": [
    "## 分析目的\n",
    "### 对2019年1月~2020年3月发布的视频进行分析，挑选出视频质量高，值得关注的up主\n",
    "\n",
    "## 数据来源\n",
    "### 分析数据基于 bilibili 网站上的公开信息，主要爬取了以下数据维度：\n",
    "### 2019年1月~2020年3月，科技区播放量过5w视频的分区名称、作者名称、作者id、发布时间、播放数、硬币数、弹幕数、收藏数、点赞数、分享数、评论数，共计50130行"
   ]
  },
  {
   "cell_type": "markdown",
   "metadata": {},
   "source": [
    "## 导入数据"
   ]
  },
  {
   "cell_type": "code",
   "execution_count": 15,
   "metadata": {},
   "outputs": [],
   "source": [
    "import numpy as np\n",
    "import pandas as pd"
   ]
  },
  {
   "cell_type": "code",
   "execution_count": 103,
   "metadata": {},
   "outputs": [],
   "source": [
    "data = pd.read_csv(r'D:\\数据分析资料\\b站up主分析数据\\b站科技区.csv',encoding = 'gb18030')"
   ]
  },
  {
   "cell_type": "code",
   "execution_count": 24,
   "metadata": {},
   "outputs": [
    {
     "data": {
      "text/html": [
       "<div>\n",
       "<style scoped>\n",
       "    .dataframe tbody tr th:only-of-type {\n",
       "        vertical-align: middle;\n",
       "    }\n",
       "\n",
       "    .dataframe tbody tr th {\n",
       "        vertical-align: top;\n",
       "    }\n",
       "\n",
       "    .dataframe thead th {\n",
       "        text-align: right;\n",
       "    }\n",
       "</style>\n",
       "<table border=\"1\" class=\"dataframe\">\n",
       "  <thead>\n",
       "    <tr style=\"text-align: right;\">\n",
       "      <th></th>\n",
       "      <th>分区</th>\n",
       "      <th>bv</th>\n",
       "      <th>author</th>\n",
       "      <th>mid</th>\n",
       "      <th>date</th>\n",
       "      <th>url</th>\n",
       "      <th>title</th>\n",
       "      <th>coins</th>\n",
       "      <th>danmu</th>\n",
       "      <th>favorite</th>\n",
       "      <th>likes</th>\n",
       "      <th>replay</th>\n",
       "      <th>share</th>\n",
       "      <th>view</th>\n",
       "    </tr>\n",
       "  </thead>\n",
       "  <tbody>\n",
       "    <tr>\n",
       "      <th>0</th>\n",
       "      <td>科学科普</td>\n",
       "      <td>BV1jb411H7aa</td>\n",
       "      <td>芳斯塔芙</td>\n",
       "      <td>72270557.0</td>\n",
       "      <td>2019/3/14 16:50</td>\n",
       "      <td>http://www.bilibili.com/video/av46213558</td>\n",
       "      <td>【鬼谷说】三叶虫：一个平凡家族的不屈与彷徨</td>\n",
       "      <td>102514.0</td>\n",
       "      <td>10851.0</td>\n",
       "      <td>39963.0</td>\n",
       "      <td>99928.0</td>\n",
       "      <td>5536.0</td>\n",
       "      <td>10320.0</td>\n",
       "      <td>1909236.0</td>\n",
       "    </tr>\n",
       "    <tr>\n",
       "      <th>1</th>\n",
       "      <td>科学科普</td>\n",
       "      <td>BV1vb411K737</td>\n",
       "      <td>黑白键伯辽兹</td>\n",
       "      <td>135398825.0</td>\n",
       "      <td>2019/4/13 11:09</td>\n",
       "      <td>http://www.bilibili.com/video/av49146332</td>\n",
       "      <td>我们的一生，在这部短片前1分钟就结束了</td>\n",
       "      <td>71591.0</td>\n",
       "      <td>38311.0</td>\n",
       "      <td>241565.0</td>\n",
       "      <td>153592.0</td>\n",
       "      <td>13092.0</td>\n",
       "      <td>39198.0</td>\n",
       "      <td>2768916.0</td>\n",
       "    </tr>\n",
       "    <tr>\n",
       "      <th>2</th>\n",
       "      <td>科学科普</td>\n",
       "      <td>BV1Ut411p7xq</td>\n",
       "      <td>嘿手视频</td>\n",
       "      <td>383164174.0</td>\n",
       "      <td>2019/1/11 10:08</td>\n",
       "      <td>http://www.bilibili.com/video/av40436817</td>\n",
       "      <td>水蛭那么喜欢吸血，吸了502胶水会怎么样？真过瘾！</td>\n",
       "      <td>367.0</td>\n",
       "      <td>1859.0</td>\n",
       "      <td>1774.0</td>\n",
       "      <td>8533.0</td>\n",
       "      <td>1033.0</td>\n",
       "      <td>312.0</td>\n",
       "      <td>2375931.0</td>\n",
       "    </tr>\n",
       "    <tr>\n",
       "      <th>3</th>\n",
       "      <td>科学科普</td>\n",
       "      <td>BV1Nb411h7bc</td>\n",
       "      <td>芳斯塔芙</td>\n",
       "      <td>72270557.0</td>\n",
       "      <td>2019/2/27 17:00</td>\n",
       "      <td>http://www.bilibili.com/video/av44815270</td>\n",
       "      <td>【鬼谷说】棘皮动物：六亲不认的演化步伐</td>\n",
       "      <td>87330.0</td>\n",
       "      <td>15528.0</td>\n",
       "      <td>47185.0</td>\n",
       "      <td>98254.0</td>\n",
       "      <td>4016.0</td>\n",
       "      <td>25713.0</td>\n",
       "      <td>2846369.0</td>\n",
       "    </tr>\n",
       "    <tr>\n",
       "      <th>4</th>\n",
       "      <td>科学科普</td>\n",
       "      <td>BV1Sb411G726</td>\n",
       "      <td>芳斯塔芙</td>\n",
       "      <td>72270557.0</td>\n",
       "      <td>2019/4/19 18:46</td>\n",
       "      <td>http://www.bilibili.com/video/av49810786</td>\n",
       "      <td>【鬼谷说】软体动物（其三）：远古王者的不屈征途</td>\n",
       "      <td>93172.0</td>\n",
       "      <td>11946.0</td>\n",
       "      <td>32203.0</td>\n",
       "      <td>88683.0</td>\n",
       "      <td>4950.0</td>\n",
       "      <td>6110.0</td>\n",
       "      <td>1834372.0</td>\n",
       "    </tr>\n",
       "  </tbody>\n",
       "</table>\n",
       "</div>"
      ],
      "text/plain": [
       "     分区            bv  author          mid             date  \\\n",
       "0  科学科普  BV1jb411H7aa    芳斯塔芙   72270557.0  2019/3/14 16:50   \n",
       "1  科学科普  BV1vb411K737  黑白键伯辽兹  135398825.0  2019/4/13 11:09   \n",
       "2  科学科普  BV1Ut411p7xq    嘿手视频  383164174.0  2019/1/11 10:08   \n",
       "3  科学科普  BV1Nb411h7bc    芳斯塔芙   72270557.0  2019/2/27 17:00   \n",
       "4  科学科普  BV1Sb411G726    芳斯塔芙   72270557.0  2019/4/19 18:46   \n",
       "\n",
       "                                        url                      title  \\\n",
       "0  http://www.bilibili.com/video/av46213558      【鬼谷说】三叶虫：一个平凡家族的不屈与彷徨   \n",
       "1  http://www.bilibili.com/video/av49146332        我们的一生，在这部短片前1分钟就结束了   \n",
       "2  http://www.bilibili.com/video/av40436817  水蛭那么喜欢吸血，吸了502胶水会怎么样？真过瘾！   \n",
       "3  http://www.bilibili.com/video/av44815270        【鬼谷说】棘皮动物：六亲不认的演化步伐   \n",
       "4  http://www.bilibili.com/video/av49810786    【鬼谷说】软体动物（其三）：远古王者的不屈征途   \n",
       "\n",
       "      coins    danmu  favorite     likes   replay    share       view  \n",
       "0  102514.0  10851.0   39963.0   99928.0   5536.0  10320.0  1909236.0  \n",
       "1   71591.0  38311.0  241565.0  153592.0  13092.0  39198.0  2768916.0  \n",
       "2     367.0   1859.0    1774.0    8533.0   1033.0    312.0  2375931.0  \n",
       "3   87330.0  15528.0   47185.0   98254.0   4016.0  25713.0  2846369.0  \n",
       "4   93172.0  11946.0   32203.0   88683.0   4950.0   6110.0  1834372.0  "
      ]
     },
     "execution_count": 24,
     "metadata": {},
     "output_type": "execute_result"
    }
   ],
   "source": [
    "data.head()"
   ]
  },
  {
   "cell_type": "raw",
   "metadata": {},
   "source": [
    "coins：投硬币数\n",
    "danmu：弹幕数\n",
    "favorite：收藏数\n",
    "likes：点赞数\n",
    "replay：评论数\n",
    "share：分享数\n",
    "view：播放量"
   ]
  },
  {
   "cell_type": "code",
   "execution_count": 22,
   "metadata": {},
   "outputs": [
    {
     "data": {
      "text/plain": [
       "(50129, 14)"
      ]
     },
     "execution_count": 22,
     "metadata": {},
     "output_type": "execute_result"
    }
   ],
   "source": [
    "data.shape"
   ]
  },
  {
   "cell_type": "code",
   "execution_count": 25,
   "metadata": {},
   "outputs": [
    {
     "name": "stdout",
     "output_type": "stream",
     "text": [
      "<class 'pandas.core.frame.DataFrame'>\n",
      "RangeIndex: 50129 entries, 0 to 50128\n",
      "Data columns (total 14 columns):\n",
      " #   Column    Non-Null Count  Dtype  \n",
      "---  ------    --------------  -----  \n",
      " 0   分区        50129 non-null  object \n",
      " 1   bv        50127 non-null  object \n",
      " 2   author    50127 non-null  object \n",
      " 3   mid       50127 non-null  float64\n",
      " 4   date      50126 non-null  object \n",
      " 5   url       50126 non-null  object \n",
      " 6   title     50126 non-null  object \n",
      " 7   coins     50124 non-null  float64\n",
      " 8   danmu     50124 non-null  float64\n",
      " 9   favorite  50124 non-null  float64\n",
      " 10  likes     50124 non-null  float64\n",
      " 11  replay    50124 non-null  float64\n",
      " 12  share     50124 non-null  float64\n",
      " 13  view      50124 non-null  float64\n",
      "dtypes: float64(8), object(6)\n",
      "memory usage: 5.4+ MB\n"
     ]
    }
   ],
   "source": [
    "data.info()"
   ]
  },
  {
   "cell_type": "code",
   "execution_count": 27,
   "metadata": {},
   "outputs": [
    {
     "data": {
      "text/plain": [
       "分区          0.00000\n",
       "bv          0.00004\n",
       "author      0.00004\n",
       "mid         0.00004\n",
       "date        0.00006\n",
       "url         0.00006\n",
       "title       0.00006\n",
       "coins       0.00010\n",
       "danmu       0.00010\n",
       "favorite    0.00010\n",
       "likes       0.00010\n",
       "replay      0.00010\n",
       "share       0.00010\n",
       "view        0.00010\n",
       "dtype: float64"
      ]
     },
     "execution_count": 27,
     "metadata": {},
     "output_type": "execute_result"
    }
   ],
   "source": [
    "#查看缺失值\n",
    "data.isnull().mean()"
   ]
  },
  {
   "cell_type": "code",
   "execution_count": 107,
   "metadata": {},
   "outputs": [
    {
     "name": "stdout",
     "output_type": "stream",
     "text": [
      "<class 'pandas.core.frame.DataFrame'>\n",
      "Int64Index: 50124 entries, 0 to 50128\n",
      "Data columns (total 14 columns):\n",
      " #   Column    Non-Null Count  Dtype  \n",
      "---  ------    --------------  -----  \n",
      " 0   分区        50124 non-null  object \n",
      " 1   bv        50124 non-null  object \n",
      " 2   author    50124 non-null  object \n",
      " 3   mid       50124 non-null  float64\n",
      " 4   date      50124 non-null  object \n",
      " 5   url       50124 non-null  object \n",
      " 6   title     50124 non-null  object \n",
      " 7   coins     50124 non-null  float64\n",
      " 8   danmu     50124 non-null  float64\n",
      " 9   favorite  50124 non-null  float64\n",
      " 10  likes     50124 non-null  float64\n",
      " 11  replay    50124 non-null  float64\n",
      " 12  share     50124 non-null  float64\n",
      " 13  view      50124 non-null  float64\n",
      "dtypes: float64(8), object(6)\n",
      "memory usage: 5.7+ MB\n"
     ]
    }
   ],
   "source": [
    "#因为缺失值占比很小，故可以删掉\n",
    "data = data.dropna()\n",
    "data.info()"
   ]
  },
  {
   "cell_type": "code",
   "execution_count": 108,
   "metadata": {},
   "outputs": [
    {
     "name": "stdout",
     "output_type": "stream",
     "text": [
      "<class 'pandas.core.frame.DataFrame'>\n",
      "Int64Index: 48812 entries, 0 to 50128\n",
      "Data columns (total 14 columns):\n",
      " #   Column    Non-Null Count  Dtype  \n",
      "---  ------    --------------  -----  \n",
      " 0   分区        48812 non-null  object \n",
      " 1   bv        48812 non-null  object \n",
      " 2   author    48812 non-null  object \n",
      " 3   mid       48812 non-null  float64\n",
      " 4   date      48812 non-null  object \n",
      " 5   url       48812 non-null  object \n",
      " 6   title     48812 non-null  object \n",
      " 7   coins     48812 non-null  float64\n",
      " 8   danmu     48812 non-null  float64\n",
      " 9   favorite  48812 non-null  float64\n",
      " 10  likes     48812 non-null  float64\n",
      " 11  replay    48812 non-null  float64\n",
      " 12  share     48812 non-null  float64\n",
      " 13  view      48812 non-null  float64\n",
      "dtypes: float64(8), object(6)\n",
      "memory usage: 5.6+ MB\n"
     ]
    }
   ],
   "source": [
    "#删去重复值\n",
    "data = data.drop_duplicates()\n",
    "data.info()"
   ]
  },
  {
   "cell_type": "code",
   "execution_count": 165,
   "metadata": {},
   "outputs": [
    {
     "data": {
      "text/html": [
       "<div>\n",
       "<style scoped>\n",
       "    .dataframe tbody tr th:only-of-type {\n",
       "        vertical-align: middle;\n",
       "    }\n",
       "\n",
       "    .dataframe tbody tr th {\n",
       "        vertical-align: top;\n",
       "    }\n",
       "\n",
       "    .dataframe thead th {\n",
       "        text-align: right;\n",
       "    }\n",
       "</style>\n",
       "<table border=\"1\" class=\"dataframe\">\n",
       "  <thead>\n",
       "    <tr style=\"text-align: right;\">\n",
       "      <th></th>\n",
       "      <th>分区</th>\n",
       "      <th>author</th>\n",
       "      <th>date</th>\n",
       "      <th>coins</th>\n",
       "      <th>danmu</th>\n",
       "      <th>favorite</th>\n",
       "      <th>likes</th>\n",
       "      <th>replay</th>\n",
       "      <th>share</th>\n",
       "      <th>view</th>\n",
       "    </tr>\n",
       "  </thead>\n",
       "  <tbody>\n",
       "    <tr>\n",
       "      <th>0</th>\n",
       "      <td>科学科普</td>\n",
       "      <td>芳斯塔芙</td>\n",
       "      <td>2019/3/14 16:50</td>\n",
       "      <td>102514.0</td>\n",
       "      <td>10851.0</td>\n",
       "      <td>39963.0</td>\n",
       "      <td>99928.0</td>\n",
       "      <td>5536.0</td>\n",
       "      <td>10320.0</td>\n",
       "      <td>1909236.0</td>\n",
       "    </tr>\n",
       "    <tr>\n",
       "      <th>1</th>\n",
       "      <td>科学科普</td>\n",
       "      <td>黑白键伯辽兹</td>\n",
       "      <td>2019/4/13 11:09</td>\n",
       "      <td>71591.0</td>\n",
       "      <td>38311.0</td>\n",
       "      <td>241565.0</td>\n",
       "      <td>153592.0</td>\n",
       "      <td>13092.0</td>\n",
       "      <td>39198.0</td>\n",
       "      <td>2768916.0</td>\n",
       "    </tr>\n",
       "    <tr>\n",
       "      <th>2</th>\n",
       "      <td>科学科普</td>\n",
       "      <td>嘿手视频</td>\n",
       "      <td>2019/1/11 10:08</td>\n",
       "      <td>367.0</td>\n",
       "      <td>1859.0</td>\n",
       "      <td>1774.0</td>\n",
       "      <td>8533.0</td>\n",
       "      <td>1033.0</td>\n",
       "      <td>312.0</td>\n",
       "      <td>2375931.0</td>\n",
       "    </tr>\n",
       "    <tr>\n",
       "      <th>3</th>\n",
       "      <td>科学科普</td>\n",
       "      <td>芳斯塔芙</td>\n",
       "      <td>2019/2/27 17:00</td>\n",
       "      <td>87330.0</td>\n",
       "      <td>15528.0</td>\n",
       "      <td>47185.0</td>\n",
       "      <td>98254.0</td>\n",
       "      <td>4016.0</td>\n",
       "      <td>25713.0</td>\n",
       "      <td>2846369.0</td>\n",
       "    </tr>\n",
       "    <tr>\n",
       "      <th>4</th>\n",
       "      <td>科学科普</td>\n",
       "      <td>芳斯塔芙</td>\n",
       "      <td>2019/4/19 18:46</td>\n",
       "      <td>93172.0</td>\n",
       "      <td>11946.0</td>\n",
       "      <td>32203.0</td>\n",
       "      <td>88683.0</td>\n",
       "      <td>4950.0</td>\n",
       "      <td>6110.0</td>\n",
       "      <td>1834372.0</td>\n",
       "    </tr>\n",
       "  </tbody>\n",
       "</table>\n",
       "</div>"
      ],
      "text/plain": [
       "     分区  author             date     coins    danmu  favorite     likes  \\\n",
       "0  科学科普    芳斯塔芙  2019/3/14 16:50  102514.0  10851.0   39963.0   99928.0   \n",
       "1  科学科普  黑白键伯辽兹  2019/4/13 11:09   71591.0  38311.0  241565.0  153592.0   \n",
       "2  科学科普    嘿手视频  2019/1/11 10:08     367.0   1859.0    1774.0    8533.0   \n",
       "3  科学科普    芳斯塔芙  2019/2/27 17:00   87330.0  15528.0   47185.0   98254.0   \n",
       "4  科学科普    芳斯塔芙  2019/4/19 18:46   93172.0  11946.0   32203.0   88683.0   \n",
       "\n",
       "    replay    share       view  \n",
       "0   5536.0  10320.0  1909236.0  \n",
       "1  13092.0  39198.0  2768916.0  \n",
       "2   1033.0    312.0  2375931.0  \n",
       "3   4016.0  25713.0  2846369.0  \n",
       "4   4950.0   6110.0  1834372.0  "
      ]
     },
     "execution_count": 165,
     "metadata": {},
     "output_type": "execute_result"
    }
   ],
   "source": [
    "#提取所需关键词\n",
    "df = data[['分区', 'author','date','coins','danmu','favorite','likes','replay','share','view']]\n",
    "df.head()"
   ]
  },
  {
   "cell_type": "code",
   "execution_count": 167,
   "metadata": {},
   "outputs": [
    {
     "name": "stderr",
     "output_type": "stream",
     "text": [
      "D:\\develop\\python\\Anaconda3\\lib\\site-packages\\ipykernel_launcher.py:2: SettingWithCopyWarning: \n",
      "A value is trying to be set on a copy of a slice from a DataFrame.\n",
      "Try using .loc[row_indexer,col_indexer] = value instead\n",
      "\n",
      "See the caveats in the documentation: https://pandas.pydata.org/pandas-docs/stable/user_guide/indexing.html#returning-a-view-versus-a-copy\n",
      "  \n"
     ]
    }
   ],
   "source": [
    "#修改日期列类型，为后期计算\n",
    "df['date'] = pd.to_datetime(df['date'],format='%Y/%m/%d ')"
   ]
  },
  {
   "cell_type": "markdown",
   "metadata": {},
   "source": [
    "# 构建模型"
   ]
  },
  {
   "cell_type": "raw",
   "metadata": {},
   "source": [
    "RFM模型是衡量客户价值和创利能力的重要工具和手段。通过一个客户近期购买行为、购买的总体频率以及消费金额三项指标来描述客户的价值状况。\n",
    "R：最近一次消费时间（最近一次消费到参考时间的间隔）\n",
    "F：消费的频率(消费了多少次）\n",
    "M：消费的金额 （总消费金额）\n",
    "\n",
    "但RFM模型并不能评价视频的质量，所以在这里针对up主的视频信息构建了IFL模型，以评估视频的质量。\n",
    "I(Interaction_rate)：\n",
    "I值反映的是平均每个视频的互动率，互动率越高，表明其视频更能产生用户的共鸣，使其有话题感。"
   ]
  },
  {
   "cell_type": "markdown",
   "metadata": {},
   "source": [
    "![title](1.png)"
   ]
  },
  {
   "cell_type": "raw",
   "metadata": {},
   "source": [
    "F(Frequence)：\n",
    "F值表示的是每个视频的平均发布周期，每个视频之间的发布周期越短，说明内容生产者创作视频的时间也就越短，创作时间太长，不是忠实粉丝的用户可能将其遗忘。"
   ]
  },
  {
   "cell_type": "markdown",
   "metadata": {},
   "source": [
    "![title](2.png)"
   ]
  },
  {
   "cell_type": "raw",
   "metadata": {},
   "source": [
    "L(Like_rate)：\n",
    "L值表示的是统计时间内发布视频的平均点赞率，越大表示视频质量越稳定，用户对up主的认可度也就越高。"
   ]
  },
  {
   "cell_type": "markdown",
   "metadata": {},
   "source": [
    "![title](3.png)"
   ]
  },
  {
   "cell_type": "raw",
   "metadata": {},
   "source": [
    "根据不同的分区进行IFL打分，这里以科普区为例"
   ]
  },
  {
   "cell_type": "code",
   "execution_count": 168,
   "metadata": {},
   "outputs": [
    {
     "name": "stdout",
     "output_type": "stream",
     "text": [
      "<class 'pandas.core.frame.DataFrame'>\n",
      "Int64Index: 6405 entries, 0 to 47744\n",
      "Data columns (total 10 columns):\n",
      " #   Column    Non-Null Count  Dtype         \n",
      "---  ------    --------------  -----         \n",
      " 0   分区        6405 non-null   object        \n",
      " 1   author    6405 non-null   object        \n",
      " 2   date      6405 non-null   datetime64[ns]\n",
      " 3   coins     6405 non-null   float64       \n",
      " 4   danmu     6405 non-null   float64       \n",
      " 5   favorite  6405 non-null   float64       \n",
      " 6   likes     6405 non-null   float64       \n",
      " 7   replay    6405 non-null   float64       \n",
      " 8   share     6405 non-null   float64       \n",
      " 9   view      6405 non-null   float64       \n",
      "dtypes: datetime64[ns](1), float64(7), object(2)\n",
      "memory usage: 550.4+ KB\n"
     ]
    }
   ],
   "source": [
    "sc = df.loc[df['分区'] == '科学科普']\n",
    "so = df.loc[df['分区'] == '社科人文']\n",
    "ma = df.loc[df['分区'] == '机械']\n",
    "tec = df.loc[df['分区'] == '野生技术协会']\n",
    "mi = df.loc[df['分区'] == '星海'] # 一般发布军事内容\n",
    "car = df.loc[df['分区'] == '汽车']\n",
    "sc.info()"
   ]
  },
  {
   "cell_type": "markdown",
   "metadata": {},
   "source": [
    "### 关键词构造"
   ]
  },
  {
   "cell_type": "raw",
   "metadata": {},
   "source": [
    "F值：首先，先筛选出发布视频大于5的up主，视频播放量在5W以上的视频数少于5，说明可能是有些视频标题取得好播放量才高，而不是视频质量稳定的up主。"
   ]
  },
  {
   "cell_type": "code",
   "execution_count": 169,
   "metadata": {},
   "outputs": [],
   "source": [
    "# 计算发布视频的次数\n",
    "count = sc.groupby('author')['date'].count().reset_index()\n",
    "count.columns = ['author','times']"
   ]
  },
  {
   "cell_type": "code",
   "execution_count": 170,
   "metadata": {},
   "outputs": [
    {
     "data": {
      "text/html": [
       "<div>\n",
       "<style scoped>\n",
       "    .dataframe tbody tr th:only-of-type {\n",
       "        vertical-align: middle;\n",
       "    }\n",
       "\n",
       "    .dataframe tbody tr th {\n",
       "        vertical-align: top;\n",
       "    }\n",
       "\n",
       "    .dataframe thead th {\n",
       "        text-align: right;\n",
       "    }\n",
       "</style>\n",
       "<table border=\"1\" class=\"dataframe\">\n",
       "  <thead>\n",
       "    <tr style=\"text-align: right;\">\n",
       "      <th></th>\n",
       "      <th>author</th>\n",
       "      <th>times</th>\n",
       "    </tr>\n",
       "  </thead>\n",
       "  <tbody>\n",
       "    <tr>\n",
       "      <th>0</th>\n",
       "      <td>-LKs-</td>\n",
       "      <td>5</td>\n",
       "    </tr>\n",
       "    <tr>\n",
       "      <th>1</th>\n",
       "      <td>-古人云-</td>\n",
       "      <td>2</td>\n",
       "    </tr>\n",
       "    <tr>\n",
       "      <th>2</th>\n",
       "      <td>-墓场-</td>\n",
       "      <td>2</td>\n",
       "    </tr>\n",
       "    <tr>\n",
       "      <th>3</th>\n",
       "      <td>-搬-运-人-</td>\n",
       "      <td>2</td>\n",
       "    </tr>\n",
       "    <tr>\n",
       "      <th>4</th>\n",
       "      <td>-狐思乱想-</td>\n",
       "      <td>6</td>\n",
       "    </tr>\n",
       "    <tr>\n",
       "      <th>5</th>\n",
       "      <td>-獄龍-</td>\n",
       "      <td>1</td>\n",
       "    </tr>\n",
       "    <tr>\n",
       "      <th>6</th>\n",
       "      <td>-阿健-</td>\n",
       "      <td>1</td>\n",
       "    </tr>\n",
       "    <tr>\n",
       "      <th>7</th>\n",
       "      <td>-黄文轩-</td>\n",
       "      <td>2</td>\n",
       "    </tr>\n",
       "    <tr>\n",
       "      <th>8</th>\n",
       "      <td>1235623345</td>\n",
       "      <td>1</td>\n",
       "    </tr>\n",
       "    <tr>\n",
       "      <th>9</th>\n",
       "      <td>18487150435</td>\n",
       "      <td>4</td>\n",
       "    </tr>\n",
       "  </tbody>\n",
       "</table>\n",
       "</div>"
      ],
      "text/plain": [
       "        author  times\n",
       "0        -LKs-      5\n",
       "1        -古人云-      2\n",
       "2         -墓场-      2\n",
       "3      -搬-运-人-      2\n",
       "4       -狐思乱想-      6\n",
       "5         -獄龍-      1\n",
       "6         -阿健-      1\n",
       "7        -黄文轩-      2\n",
       "8   1235623345      1\n",
       "9  18487150435      4"
      ]
     },
     "execution_count": 170,
     "metadata": {},
     "output_type": "execute_result"
    }
   ],
   "source": [
    "count.head(10)"
   ]
  },
  {
   "cell_type": "code",
   "execution_count": 171,
   "metadata": {},
   "outputs": [
    {
     "name": "stdout",
     "output_type": "stream",
     "text": [
      "<class 'pandas.core.frame.DataFrame'>\n",
      "Int64Index: 208 entries, 4 to 1063\n",
      "Data columns (total 2 columns):\n",
      " #   Column  Non-Null Count  Dtype \n",
      "---  ------  --------------  ----- \n",
      " 0   author  208 non-null    object\n",
      " 1   times   208 non-null    int64 \n",
      "dtypes: int64(1), object(1)\n",
      "memory usage: 4.9+ KB\n"
     ]
    }
   ],
   "source": [
    "#删除掉发布视频数少于5次的up主\n",
    "com_m = count[count['times']>5]\n",
    "com_m.info()"
   ]
  },
  {
   "cell_type": "markdown",
   "metadata": {},
   "source": [
    "筛选完只剩下208个up主的视频数在5个以上："
   ]
  },
  {
   "cell_type": "code",
   "execution_count": 172,
   "metadata": {},
   "outputs": [],
   "source": [
    "# 最晚发布日期减去最早之间的天数/发布次数\n",
    "last = sc.groupby('author')['date'].max().reset_index()\n",
    "late = sc.groupby('author')['date'].min().reset_index()\n",
    "day = (last['date']-late['date']).dt.days\n",
    "F = round(day/count['times'])\n",
    "F = pd.concat([last['author'],F],axis=1)\n",
    "F.columns = ['author','F']"
   ]
  },
  {
   "cell_type": "code",
   "execution_count": 173,
   "metadata": {},
   "outputs": [
    {
     "data": {
      "text/html": [
       "<div>\n",
       "<style scoped>\n",
       "    .dataframe tbody tr th:only-of-type {\n",
       "        vertical-align: middle;\n",
       "    }\n",
       "\n",
       "    .dataframe tbody tr th {\n",
       "        vertical-align: top;\n",
       "    }\n",
       "\n",
       "    .dataframe thead th {\n",
       "        text-align: right;\n",
       "    }\n",
       "</style>\n",
       "<table border=\"1\" class=\"dataframe\">\n",
       "  <thead>\n",
       "    <tr style=\"text-align: right;\">\n",
       "      <th></th>\n",
       "      <th>times</th>\n",
       "      <th>F</th>\n",
       "    </tr>\n",
       "  </thead>\n",
       "  <tbody>\n",
       "    <tr>\n",
       "      <th>count</th>\n",
       "      <td>208.000000</td>\n",
       "      <td>208.000000</td>\n",
       "    </tr>\n",
       "    <tr>\n",
       "      <th>mean</th>\n",
       "      <td>22.182692</td>\n",
       "      <td>14.370192</td>\n",
       "    </tr>\n",
       "    <tr>\n",
       "      <th>std</th>\n",
       "      <td>27.656717</td>\n",
       "      <td>11.629235</td>\n",
       "    </tr>\n",
       "    <tr>\n",
       "      <th>min</th>\n",
       "      <td>6.000000</td>\n",
       "      <td>0.000000</td>\n",
       "    </tr>\n",
       "    <tr>\n",
       "      <th>25%</th>\n",
       "      <td>7.000000</td>\n",
       "      <td>5.000000</td>\n",
       "    </tr>\n",
       "    <tr>\n",
       "      <th>50%</th>\n",
       "      <td>12.000000</td>\n",
       "      <td>12.000000</td>\n",
       "    </tr>\n",
       "    <tr>\n",
       "      <th>75%</th>\n",
       "      <td>21.250000</td>\n",
       "      <td>20.250000</td>\n",
       "    </tr>\n",
       "    <tr>\n",
       "      <th>max</th>\n",
       "      <td>170.000000</td>\n",
       "      <td>64.000000</td>\n",
       "    </tr>\n",
       "  </tbody>\n",
       "</table>\n",
       "</div>"
      ],
      "text/plain": [
       "            times           F\n",
       "count  208.000000  208.000000\n",
       "mean    22.182692   14.370192\n",
       "std     27.656717   11.629235\n",
       "min      6.000000    0.000000\n",
       "25%      7.000000    5.000000\n",
       "50%     12.000000   12.000000\n",
       "75%     21.250000   20.250000\n",
       "max    170.000000   64.000000"
      ]
     },
     "execution_count": 173,
     "metadata": {},
     "output_type": "execute_result"
    }
   ],
   "source": [
    "F = pd.merge(com_m,F,on='author',how='inner')\n",
    "F.describe()"
   ]
  },
  {
   "cell_type": "raw",
   "metadata": {},
   "source": [
    "通过describe()方法发现，最晚发布日期与最早发布日期为0的现象，猜测是在同一天内发布了大量的视频。"
   ]
  },
  {
   "cell_type": "code",
   "execution_count": 174,
   "metadata": {},
   "outputs": [
    {
     "data": {
      "text/plain": [
       "author    揭露真相事实\n",
       "times         10\n",
       "F              0\n",
       "Name: 112, dtype: object"
      ]
     },
     "execution_count": 174,
     "metadata": {},
     "output_type": "execute_result"
    }
   ],
   "source": [
    "# 查找的一天内发布视频数大于5的人\n",
    "F.loc[F['F'].idxmin()]"
   ]
  },
  {
   "cell_type": "raw",
   "metadata": {},
   "source": [
    "通过网站可以发现该账户所发布的皆为转载短视频，将其剔除统计范围内"
   ]
  },
  {
   "cell_type": "code",
   "execution_count": 175,
   "metadata": {},
   "outputs": [
    {
     "data": {
      "text/html": [
       "<div>\n",
       "<style scoped>\n",
       "    .dataframe tbody tr th:only-of-type {\n",
       "        vertical-align: middle;\n",
       "    }\n",
       "\n",
       "    .dataframe tbody tr th {\n",
       "        vertical-align: top;\n",
       "    }\n",
       "\n",
       "    .dataframe thead th {\n",
       "        text-align: right;\n",
       "    }\n",
       "</style>\n",
       "<table border=\"1\" class=\"dataframe\">\n",
       "  <thead>\n",
       "    <tr style=\"text-align: right;\">\n",
       "      <th></th>\n",
       "      <th>times</th>\n",
       "      <th>F</th>\n",
       "    </tr>\n",
       "  </thead>\n",
       "  <tbody>\n",
       "    <tr>\n",
       "      <th>count</th>\n",
       "      <td>205.000000</td>\n",
       "      <td>205.000000</td>\n",
       "    </tr>\n",
       "    <tr>\n",
       "      <th>mean</th>\n",
       "      <td>22.400000</td>\n",
       "      <td>14.580488</td>\n",
       "    </tr>\n",
       "    <tr>\n",
       "      <th>std</th>\n",
       "      <td>27.799281</td>\n",
       "      <td>11.582171</td>\n",
       "    </tr>\n",
       "    <tr>\n",
       "      <th>min</th>\n",
       "      <td>6.000000</td>\n",
       "      <td>1.000000</td>\n",
       "    </tr>\n",
       "    <tr>\n",
       "      <th>25%</th>\n",
       "      <td>7.000000</td>\n",
       "      <td>6.000000</td>\n",
       "    </tr>\n",
       "    <tr>\n",
       "      <th>50%</th>\n",
       "      <td>12.000000</td>\n",
       "      <td>13.000000</td>\n",
       "    </tr>\n",
       "    <tr>\n",
       "      <th>75%</th>\n",
       "      <td>22.000000</td>\n",
       "      <td>21.000000</td>\n",
       "    </tr>\n",
       "    <tr>\n",
       "      <th>max</th>\n",
       "      <td>170.000000</td>\n",
       "      <td>64.000000</td>\n",
       "    </tr>\n",
       "  </tbody>\n",
       "</table>\n",
       "</div>"
      ],
      "text/plain": [
       "            times           F\n",
       "count  205.000000  205.000000\n",
       "mean    22.400000   14.580488\n",
       "std     27.799281   11.582171\n",
       "min      6.000000    1.000000\n",
       "25%      7.000000    6.000000\n",
       "50%     12.000000   13.000000\n",
       "75%     22.000000   21.000000\n",
       "max    170.000000   64.000000"
      ]
     },
     "execution_count": 175,
     "metadata": {},
     "output_type": "execute_result"
    }
   ],
   "source": [
    "F = F.loc[F['F']>0]\n",
    "F.describe()"
   ]
  },
  {
   "cell_type": "raw",
   "metadata": {},
   "source": [
    "I值反映的是平均每个视频的互动率,总弹幕数+总评论数/总播放量/统计范围内视频数量"
   ]
  },
  {
   "cell_type": "code",
   "execution_count": 190,
   "metadata": {},
   "outputs": [],
   "source": [
    "danmu = sc.groupby('author')['danmu'].sum()\n",
    "replay = sc.groupby('author')['replay'].sum()\n",
    "view = sc.groupby('author')['view'].sum()\n",
    "count = sc.groupby('author')['date'].count()"
   ]
  },
  {
   "cell_type": "code",
   "execution_count": 198,
   "metadata": {},
   "outputs": [],
   "source": [
    "I = round((danmu+replay)/view/count*100,2).reset_index()\n",
    "I.columns = ['author','I']\n",
    "F_I = pd.merge(F,I,on='author',how='inner')"
   ]
  },
  {
   "cell_type": "code",
   "execution_count": 202,
   "metadata": {},
   "outputs": [
    {
     "data": {
      "text/html": [
       "<div>\n",
       "<style scoped>\n",
       "    .dataframe tbody tr th:only-of-type {\n",
       "        vertical-align: middle;\n",
       "    }\n",
       "\n",
       "    .dataframe tbody tr th {\n",
       "        vertical-align: top;\n",
       "    }\n",
       "\n",
       "    .dataframe thead th {\n",
       "        text-align: right;\n",
       "    }\n",
       "</style>\n",
       "<table border=\"1\" class=\"dataframe\">\n",
       "  <thead>\n",
       "    <tr style=\"text-align: right;\">\n",
       "      <th></th>\n",
       "      <th>author</th>\n",
       "      <th>times</th>\n",
       "      <th>F</th>\n",
       "      <th>I</th>\n",
       "    </tr>\n",
       "  </thead>\n",
       "  <tbody>\n",
       "    <tr>\n",
       "      <th>0</th>\n",
       "      <td>-狐思乱想-</td>\n",
       "      <td>6</td>\n",
       "      <td>29.0</td>\n",
       "      <td>0.22</td>\n",
       "    </tr>\n",
       "    <tr>\n",
       "      <th>1</th>\n",
       "      <td>3Blue1Brown</td>\n",
       "      <td>28</td>\n",
       "      <td>15.0</td>\n",
       "      <td>0.03</td>\n",
       "    </tr>\n",
       "    <tr>\n",
       "      <th>2</th>\n",
       "      <td>404NotFound错误页面</td>\n",
       "      <td>19</td>\n",
       "      <td>22.0</td>\n",
       "      <td>0.05</td>\n",
       "    </tr>\n",
       "    <tr>\n",
       "      <th>3</th>\n",
       "      <td>Alien老吴</td>\n",
       "      <td>15</td>\n",
       "      <td>20.0</td>\n",
       "      <td>0.07</td>\n",
       "    </tr>\n",
       "    <tr>\n",
       "      <th>4</th>\n",
       "      <td>B站好物推荐官</td>\n",
       "      <td>8</td>\n",
       "      <td>4.0</td>\n",
       "      <td>0.14</td>\n",
       "    </tr>\n",
       "  </tbody>\n",
       "</table>\n",
       "</div>"
      ],
      "text/plain": [
       "            author  times     F     I\n",
       "0           -狐思乱想-      6  29.0  0.22\n",
       "1      3Blue1Brown     28  15.0  0.03\n",
       "2  404NotFound错误页面     19  22.0  0.05\n",
       "3          Alien老吴     15  20.0  0.07\n",
       "4          B站好物推荐官      8   4.0  0.14"
      ]
     },
     "execution_count": 202,
     "metadata": {},
     "output_type": "execute_result"
    }
   ],
   "source": [
    "F_I.head()"
   ]
  },
  {
   "cell_type": "raw",
   "metadata": {},
   "source": [
    "L值表示的是统计时间内发布视频的平均点赞率"
   ]
  },
  {
   "cell_type": "code",
   "execution_count": 203,
   "metadata": {},
   "outputs": [
    {
     "name": "stderr",
     "output_type": "stream",
     "text": [
      "D:\\develop\\python\\Anaconda3\\lib\\site-packages\\ipykernel_launcher.py:2: SettingWithCopyWarning: \n",
      "A value is trying to be set on a copy of a slice from a DataFrame.\n",
      "Try using .loc[row_indexer,col_indexer] = value instead\n",
      "\n",
      "See the caveats in the documentation: https://pandas.pydata.org/pandas-docs/stable/user_guide/indexing.html#returning-a-view-versus-a-copy\n",
      "  \n"
     ]
    },
    {
     "data": {
      "text/html": [
       "<div>\n",
       "<style scoped>\n",
       "    .dataframe tbody tr th:only-of-type {\n",
       "        vertical-align: middle;\n",
       "    }\n",
       "\n",
       "    .dataframe tbody tr th {\n",
       "        vertical-align: top;\n",
       "    }\n",
       "\n",
       "    .dataframe thead th {\n",
       "        text-align: right;\n",
       "    }\n",
       "</style>\n",
       "<table border=\"1\" class=\"dataframe\">\n",
       "  <thead>\n",
       "    <tr style=\"text-align: right;\">\n",
       "      <th></th>\n",
       "      <th>分区</th>\n",
       "      <th>author</th>\n",
       "      <th>date</th>\n",
       "      <th>coins</th>\n",
       "      <th>danmu</th>\n",
       "      <th>favorite</th>\n",
       "      <th>likes</th>\n",
       "      <th>replay</th>\n",
       "      <th>share</th>\n",
       "      <th>view</th>\n",
       "      <th>L</th>\n",
       "    </tr>\n",
       "  </thead>\n",
       "  <tbody>\n",
       "    <tr>\n",
       "      <th>0</th>\n",
       "      <td>科学科普</td>\n",
       "      <td>芳斯塔芙</td>\n",
       "      <td>2019-03-14 16:50:00</td>\n",
       "      <td>102514.0</td>\n",
       "      <td>10851.0</td>\n",
       "      <td>39963.0</td>\n",
       "      <td>99928.0</td>\n",
       "      <td>5536.0</td>\n",
       "      <td>10320.0</td>\n",
       "      <td>1909236.0</td>\n",
       "      <td>22.252095</td>\n",
       "    </tr>\n",
       "    <tr>\n",
       "      <th>1</th>\n",
       "      <td>科学科普</td>\n",
       "      <td>黑白键伯辽兹</td>\n",
       "      <td>2019-04-13 11:09:00</td>\n",
       "      <td>71591.0</td>\n",
       "      <td>38311.0</td>\n",
       "      <td>241565.0</td>\n",
       "      <td>153592.0</td>\n",
       "      <td>13092.0</td>\n",
       "      <td>39198.0</td>\n",
       "      <td>2768916.0</td>\n",
       "      <td>36.890574</td>\n",
       "    </tr>\n",
       "    <tr>\n",
       "      <th>2</th>\n",
       "      <td>科学科普</td>\n",
       "      <td>嘿手视频</td>\n",
       "      <td>2019-01-11 10:08:00</td>\n",
       "      <td>367.0</td>\n",
       "      <td>1859.0</td>\n",
       "      <td>1774.0</td>\n",
       "      <td>8533.0</td>\n",
       "      <td>1033.0</td>\n",
       "      <td>312.0</td>\n",
       "      <td>2375931.0</td>\n",
       "      <td>0.614033</td>\n",
       "    </tr>\n",
       "    <tr>\n",
       "      <th>3</th>\n",
       "      <td>科学科普</td>\n",
       "      <td>芳斯塔芙</td>\n",
       "      <td>2019-02-27 17:00:00</td>\n",
       "      <td>87330.0</td>\n",
       "      <td>15528.0</td>\n",
       "      <td>47185.0</td>\n",
       "      <td>98254.0</td>\n",
       "      <td>4016.0</td>\n",
       "      <td>25713.0</td>\n",
       "      <td>2846369.0</td>\n",
       "      <td>14.561324</td>\n",
       "    </tr>\n",
       "    <tr>\n",
       "      <th>4</th>\n",
       "      <td>科学科普</td>\n",
       "      <td>芳斯塔芙</td>\n",
       "      <td>2019-04-19 18:46:00</td>\n",
       "      <td>93172.0</td>\n",
       "      <td>11946.0</td>\n",
       "      <td>32203.0</td>\n",
       "      <td>88683.0</td>\n",
       "      <td>4950.0</td>\n",
       "      <td>6110.0</td>\n",
       "      <td>1834372.0</td>\n",
       "      <td>20.259577</td>\n",
       "    </tr>\n",
       "  </tbody>\n",
       "</table>\n",
       "</div>"
      ],
      "text/plain": [
       "     分区  author                date     coins    danmu  favorite     likes  \\\n",
       "0  科学科普    芳斯塔芙 2019-03-14 16:50:00  102514.0  10851.0   39963.0   99928.0   \n",
       "1  科学科普  黑白键伯辽兹 2019-04-13 11:09:00   71591.0  38311.0  241565.0  153592.0   \n",
       "2  科学科普    嘿手视频 2019-01-11 10:08:00     367.0   1859.0    1774.0    8533.0   \n",
       "3  科学科普    芳斯塔芙 2019-02-27 17:00:00   87330.0  15528.0   47185.0   98254.0   \n",
       "4  科学科普    芳斯塔芙 2019-04-19 18:46:00   93172.0  11946.0   32203.0   88683.0   \n",
       "\n",
       "    replay    share       view          L  \n",
       "0   5536.0  10320.0  1909236.0  22.252095  \n",
       "1  13092.0  39198.0  2768916.0  36.890574  \n",
       "2   1033.0    312.0  2375931.0   0.614033  \n",
       "3   4016.0  25713.0  2846369.0  14.561324  \n",
       "4   4950.0   6110.0  1834372.0  20.259577  "
      ]
     },
     "execution_count": 203,
     "metadata": {},
     "output_type": "execute_result"
    }
   ],
   "source": [
    "#先计算所有视频的点赞率\n",
    "sc['L'] = (sc['likes']+sc['coins']*2+sc['favorite']*3)/sc['view']*100\n",
    "sc.head()"
   ]
  },
  {
   "cell_type": "code",
   "execution_count": 204,
   "metadata": {},
   "outputs": [
    {
     "data": {
      "text/html": [
       "<div>\n",
       "<style scoped>\n",
       "    .dataframe tbody tr th:only-of-type {\n",
       "        vertical-align: middle;\n",
       "    }\n",
       "\n",
       "    .dataframe tbody tr th {\n",
       "        vertical-align: top;\n",
       "    }\n",
       "\n",
       "    .dataframe thead th {\n",
       "        text-align: right;\n",
       "    }\n",
       "</style>\n",
       "<table border=\"1\" class=\"dataframe\">\n",
       "  <thead>\n",
       "    <tr style=\"text-align: right;\">\n",
       "      <th></th>\n",
       "      <th>author</th>\n",
       "      <th>I</th>\n",
       "      <th>F</th>\n",
       "      <th>L</th>\n",
       "    </tr>\n",
       "  </thead>\n",
       "  <tbody>\n",
       "    <tr>\n",
       "      <th>0</th>\n",
       "      <td>-狐思乱想-</td>\n",
       "      <td>0.22</td>\n",
       "      <td>29.0</td>\n",
       "      <td>5.020618</td>\n",
       "    </tr>\n",
       "    <tr>\n",
       "      <th>1</th>\n",
       "      <td>3Blue1Brown</td>\n",
       "      <td>0.03</td>\n",
       "      <td>15.0</td>\n",
       "      <td>21.403255</td>\n",
       "    </tr>\n",
       "    <tr>\n",
       "      <th>2</th>\n",
       "      <td>404NotFound错误页面</td>\n",
       "      <td>0.05</td>\n",
       "      <td>22.0</td>\n",
       "      <td>3.360935</td>\n",
       "    </tr>\n",
       "    <tr>\n",
       "      <th>3</th>\n",
       "      <td>Alien老吴</td>\n",
       "      <td>0.07</td>\n",
       "      <td>20.0</td>\n",
       "      <td>12.520942</td>\n",
       "    </tr>\n",
       "    <tr>\n",
       "      <th>4</th>\n",
       "      <td>B站好物推荐官</td>\n",
       "      <td>0.14</td>\n",
       "      <td>4.0</td>\n",
       "      <td>2.022601</td>\n",
       "    </tr>\n",
       "  </tbody>\n",
       "</table>\n",
       "</div>"
      ],
      "text/plain": [
       "            author     I     F          L\n",
       "0           -狐思乱想-  0.22  29.0   5.020618\n",
       "1      3Blue1Brown  0.03  15.0  21.403255\n",
       "2  404NotFound错误页面  0.05  22.0   3.360935\n",
       "3          Alien老吴  0.07  20.0  12.520942\n",
       "4          B站好物推荐官  0.14   4.0   2.022601"
      ]
     },
     "execution_count": 204,
     "metadata": {},
     "output_type": "execute_result"
    }
   ],
   "source": [
    "L =(sc.groupby('author')['L'].sum()/sc.groupby('author')['date'].count()).reset_index()\n",
    "L.columns =['author', 'L']\n",
    "IFL = pd.merge(F_I, L, on='author',how='inner')\n",
    "IFL = IFL[['author', 'I','F','L']]\n",
    "IFL.head()"
   ]
  },
  {
   "cell_type": "markdown",
   "metadata": {},
   "source": [
    "# 总维度打分"
   ]
  },
  {
   "cell_type": "raw",
   "metadata": {},
   "source": [
    "维度确认的核心是分值确定，按照设定的标准，我们给每个消费者的I/F/L值打分，分值的大小取决于我们的偏好，即我们越喜欢的行为，打的分数就越高：\n",
    "I值，I代表了up主视频的平均评论率，这个值越大，就说明其视频越能使用户有话题，当I值越大时，分值越大。\n",
    "F值表示视频的平均发布周期，我们当然想要经常看到，所以这个值越大时，分值越小。\n",
    "L值表示发布视频的平均点赞率，L值越大时，质量越稳定，分值也就越大。I、L值根据四分位数打分，F值根据更新周期打分。"
   ]
  },
  {
   "cell_type": "code",
   "execution_count": 205,
   "metadata": {},
   "outputs": [
    {
     "data": {
      "text/html": [
       "<div>\n",
       "<style scoped>\n",
       "    .dataframe tbody tr th:only-of-type {\n",
       "        vertical-align: middle;\n",
       "    }\n",
       "\n",
       "    .dataframe tbody tr th {\n",
       "        vertical-align: top;\n",
       "    }\n",
       "\n",
       "    .dataframe thead th {\n",
       "        text-align: right;\n",
       "    }\n",
       "</style>\n",
       "<table border=\"1\" class=\"dataframe\">\n",
       "  <thead>\n",
       "    <tr style=\"text-align: right;\">\n",
       "      <th></th>\n",
       "      <th>I</th>\n",
       "      <th>F</th>\n",
       "      <th>L</th>\n",
       "    </tr>\n",
       "  </thead>\n",
       "  <tbody>\n",
       "    <tr>\n",
       "      <th>count</th>\n",
       "      <td>205.000000</td>\n",
       "      <td>205.000000</td>\n",
       "      <td>205.000000</td>\n",
       "    </tr>\n",
       "    <tr>\n",
       "      <th>mean</th>\n",
       "      <td>0.082537</td>\n",
       "      <td>14.580488</td>\n",
       "      <td>10.138460</td>\n",
       "    </tr>\n",
       "    <tr>\n",
       "      <th>std</th>\n",
       "      <td>0.075818</td>\n",
       "      <td>11.582171</td>\n",
       "      <td>7.860772</td>\n",
       "    </tr>\n",
       "    <tr>\n",
       "      <th>min</th>\n",
       "      <td>0.000000</td>\n",
       "      <td>1.000000</td>\n",
       "      <td>0.792259</td>\n",
       "    </tr>\n",
       "    <tr>\n",
       "      <th>25%</th>\n",
       "      <td>0.030000</td>\n",
       "      <td>6.000000</td>\n",
       "      <td>4.645136</td>\n",
       "    </tr>\n",
       "    <tr>\n",
       "      <th>50%</th>\n",
       "      <td>0.060000</td>\n",
       "      <td>13.000000</td>\n",
       "      <td>7.494541</td>\n",
       "    </tr>\n",
       "    <tr>\n",
       "      <th>75%</th>\n",
       "      <td>0.110000</td>\n",
       "      <td>21.000000</td>\n",
       "      <td>13.501420</td>\n",
       "    </tr>\n",
       "    <tr>\n",
       "      <th>max</th>\n",
       "      <td>0.540000</td>\n",
       "      <td>64.000000</td>\n",
       "      <td>38.608865</td>\n",
       "    </tr>\n",
       "  </tbody>\n",
       "</table>\n",
       "</div>"
      ],
      "text/plain": [
       "                I           F           L\n",
       "count  205.000000  205.000000  205.000000\n",
       "mean     0.082537   14.580488   10.138460\n",
       "std      0.075818   11.582171    7.860772\n",
       "min      0.000000    1.000000    0.792259\n",
       "25%      0.030000    6.000000    4.645136\n",
       "50%      0.060000   13.000000    7.494541\n",
       "75%      0.110000   21.000000   13.501420\n",
       "max      0.540000   64.000000   38.608865"
      ]
     },
     "execution_count": 205,
     "metadata": {},
     "output_type": "execute_result"
    }
   ],
   "source": [
    "IFL.describe()"
   ]
  },
  {
   "cell_type": "markdown",
   "metadata": {},
   "source": [
    "## 分值计算"
   ]
  },
  {
   "cell_type": "markdown",
   "metadata": {},
   "source": [
    "![title](4.png)"
   ]
  },
  {
   "cell_type": "code",
   "execution_count": 206,
   "metadata": {},
   "outputs": [],
   "source": [
    "# bins参数代表我们按照什么区间进行分组\n",
    "# labels和bins切分的数组前后呼应,给每个分组打标签\n",
    "# right表示了右侧区间是开还是闭，即包不包括右边的数值，如果设置成False，就代表[0,30)\n",
    "IFL['I_SCORE'] = pd.cut(IFL['I'],bins=[0,0.03,0.06,0.11,1],labels=[1,2,3,4],right=False).astype(float)\n",
    "IFL['F_SCORE'] = pd.cut(IFL['F'],bins=[0,7,15,30,90,1000],labels=[5,4,3,2,1],right=False).astype(float)\n",
    "IFL['L_SCORE'] = pd.cut(IFL['L'],bins=[0,4.65,7.49,13.5,100],labels=[1,2,3,4],right=False).astype(float)"
   ]
  },
  {
   "cell_type": "code",
   "execution_count": 208,
   "metadata": {},
   "outputs": [
    {
     "data": {
      "text/html": [
       "<div>\n",
       "<style scoped>\n",
       "    .dataframe tbody tr th:only-of-type {\n",
       "        vertical-align: middle;\n",
       "    }\n",
       "\n",
       "    .dataframe tbody tr th {\n",
       "        vertical-align: top;\n",
       "    }\n",
       "\n",
       "    .dataframe thead th {\n",
       "        text-align: right;\n",
       "    }\n",
       "</style>\n",
       "<table border=\"1\" class=\"dataframe\">\n",
       "  <thead>\n",
       "    <tr style=\"text-align: right;\">\n",
       "      <th></th>\n",
       "      <th>author</th>\n",
       "      <th>I</th>\n",
       "      <th>F</th>\n",
       "      <th>L</th>\n",
       "      <th>I_SCORE</th>\n",
       "      <th>F_SCORE</th>\n",
       "      <th>L_SCORE</th>\n",
       "    </tr>\n",
       "  </thead>\n",
       "  <tbody>\n",
       "    <tr>\n",
       "      <th>0</th>\n",
       "      <td>-狐思乱想-</td>\n",
       "      <td>0.22</td>\n",
       "      <td>29.0</td>\n",
       "      <td>5.020618</td>\n",
       "      <td>4.0</td>\n",
       "      <td>3.0</td>\n",
       "      <td>2.0</td>\n",
       "    </tr>\n",
       "    <tr>\n",
       "      <th>1</th>\n",
       "      <td>3Blue1Brown</td>\n",
       "      <td>0.03</td>\n",
       "      <td>15.0</td>\n",
       "      <td>21.403255</td>\n",
       "      <td>2.0</td>\n",
       "      <td>3.0</td>\n",
       "      <td>4.0</td>\n",
       "    </tr>\n",
       "    <tr>\n",
       "      <th>2</th>\n",
       "      <td>404NotFound错误页面</td>\n",
       "      <td>0.05</td>\n",
       "      <td>22.0</td>\n",
       "      <td>3.360935</td>\n",
       "      <td>2.0</td>\n",
       "      <td>3.0</td>\n",
       "      <td>1.0</td>\n",
       "    </tr>\n",
       "    <tr>\n",
       "      <th>3</th>\n",
       "      <td>Alien老吴</td>\n",
       "      <td>0.07</td>\n",
       "      <td>20.0</td>\n",
       "      <td>12.520942</td>\n",
       "      <td>3.0</td>\n",
       "      <td>3.0</td>\n",
       "      <td>3.0</td>\n",
       "    </tr>\n",
       "    <tr>\n",
       "      <th>4</th>\n",
       "      <td>B站好物推荐官</td>\n",
       "      <td>0.14</td>\n",
       "      <td>4.0</td>\n",
       "      <td>2.022601</td>\n",
       "      <td>4.0</td>\n",
       "      <td>5.0</td>\n",
       "      <td>1.0</td>\n",
       "    </tr>\n",
       "  </tbody>\n",
       "</table>\n",
       "</div>"
      ],
      "text/plain": [
       "            author     I     F          L  I_SCORE  F_SCORE  L_SCORE\n",
       "0           -狐思乱想-  0.22  29.0   5.020618      4.0      3.0      2.0\n",
       "1      3Blue1Brown  0.03  15.0  21.403255      2.0      3.0      4.0\n",
       "2  404NotFound错误页面  0.05  22.0   3.360935      2.0      3.0      1.0\n",
       "3          Alien老吴  0.07  20.0  12.520942      3.0      3.0      3.0\n",
       "4          B站好物推荐官  0.14   4.0   2.022601      4.0      5.0      1.0"
      ]
     },
     "execution_count": 208,
     "metadata": {},
     "output_type": "execute_result"
    }
   ],
   "source": [
    "IFL.head()"
   ]
  },
  {
   "cell_type": "markdown",
   "metadata": {},
   "source": [
    "判断用户的分值是否大于平均值："
   ]
  },
  {
   "cell_type": "code",
   "execution_count": 209,
   "metadata": {},
   "outputs": [
    {
     "data": {
      "text/html": [
       "<div>\n",
       "<style scoped>\n",
       "    .dataframe tbody tr th:only-of-type {\n",
       "        vertical-align: middle;\n",
       "    }\n",
       "\n",
       "    .dataframe tbody tr th {\n",
       "        vertical-align: top;\n",
       "    }\n",
       "\n",
       "    .dataframe thead th {\n",
       "        text-align: right;\n",
       "    }\n",
       "</style>\n",
       "<table border=\"1\" class=\"dataframe\">\n",
       "  <thead>\n",
       "    <tr style=\"text-align: right;\">\n",
       "      <th></th>\n",
       "      <th>author</th>\n",
       "      <th>I</th>\n",
       "      <th>F</th>\n",
       "      <th>L</th>\n",
       "      <th>I_SCORE</th>\n",
       "      <th>F_SCORE</th>\n",
       "      <th>L_SCORE</th>\n",
       "      <th>I是否大于平均值</th>\n",
       "      <th>F是否大于平均值</th>\n",
       "      <th>L是否大于平均值</th>\n",
       "    </tr>\n",
       "  </thead>\n",
       "  <tbody>\n",
       "    <tr>\n",
       "      <th>0</th>\n",
       "      <td>-狐思乱想-</td>\n",
       "      <td>0.22</td>\n",
       "      <td>29.0</td>\n",
       "      <td>5.020618</td>\n",
       "      <td>4.0</td>\n",
       "      <td>3.0</td>\n",
       "      <td>2.0</td>\n",
       "      <td>1</td>\n",
       "      <td>0</td>\n",
       "      <td>0</td>\n",
       "    </tr>\n",
       "    <tr>\n",
       "      <th>1</th>\n",
       "      <td>3Blue1Brown</td>\n",
       "      <td>0.03</td>\n",
       "      <td>15.0</td>\n",
       "      <td>21.403255</td>\n",
       "      <td>2.0</td>\n",
       "      <td>3.0</td>\n",
       "      <td>4.0</td>\n",
       "      <td>0</td>\n",
       "      <td>0</td>\n",
       "      <td>1</td>\n",
       "    </tr>\n",
       "    <tr>\n",
       "      <th>2</th>\n",
       "      <td>404NotFound错误页面</td>\n",
       "      <td>0.05</td>\n",
       "      <td>22.0</td>\n",
       "      <td>3.360935</td>\n",
       "      <td>2.0</td>\n",
       "      <td>3.0</td>\n",
       "      <td>1.0</td>\n",
       "      <td>0</td>\n",
       "      <td>0</td>\n",
       "      <td>0</td>\n",
       "    </tr>\n",
       "    <tr>\n",
       "      <th>3</th>\n",
       "      <td>Alien老吴</td>\n",
       "      <td>0.07</td>\n",
       "      <td>20.0</td>\n",
       "      <td>12.520942</td>\n",
       "      <td>3.0</td>\n",
       "      <td>3.0</td>\n",
       "      <td>3.0</td>\n",
       "      <td>1</td>\n",
       "      <td>0</td>\n",
       "      <td>1</td>\n",
       "    </tr>\n",
       "    <tr>\n",
       "      <th>4</th>\n",
       "      <td>B站好物推荐官</td>\n",
       "      <td>0.14</td>\n",
       "      <td>4.0</td>\n",
       "      <td>2.022601</td>\n",
       "      <td>4.0</td>\n",
       "      <td>5.0</td>\n",
       "      <td>1.0</td>\n",
       "      <td>1</td>\n",
       "      <td>1</td>\n",
       "      <td>0</td>\n",
       "    </tr>\n",
       "  </tbody>\n",
       "</table>\n",
       "</div>"
      ],
      "text/plain": [
       "            author     I     F          L  I_SCORE  F_SCORE  L_SCORE  \\\n",
       "0           -狐思乱想-  0.22  29.0   5.020618      4.0      3.0      2.0   \n",
       "1      3Blue1Brown  0.03  15.0  21.403255      2.0      3.0      4.0   \n",
       "2  404NotFound错误页面  0.05  22.0   3.360935      2.0      3.0      1.0   \n",
       "3          Alien老吴  0.07  20.0  12.520942      3.0      3.0      3.0   \n",
       "4          B站好物推荐官  0.14   4.0   2.022601      4.0      5.0      1.0   \n",
       "\n",
       "   I是否大于平均值  F是否大于平均值  L是否大于平均值  \n",
       "0         1         0         0  \n",
       "1         0         0         1  \n",
       "2         0         0         0  \n",
       "3         1         0         1  \n",
       "4         1         1         0  "
      ]
     },
     "execution_count": 209,
     "metadata": {},
     "output_type": "execute_result"
    }
   ],
   "source": [
    "# 1为大于均值 0为小于均值\n",
    "IFL['I是否大于平均值'] =(IFL['I_SCORE'] > IFL['I_SCORE'].mean()) *1\n",
    "IFL['F是否大于平均值'] =(IFL['F_SCORE'] > IFL['F_SCORE'].mean()) *1\n",
    "IFL['L是否大于平均值'] =(IFL['L_SCORE'] > IFL['L_SCORE'].mean()) *1\n",
    "IFL.head()"
   ]
  },
  {
   "cell_type": "markdown",
   "metadata": {},
   "source": [
    "## 客户分层"
   ]
  },
  {
   "cell_type": "raw",
   "metadata": {},
   "source": [
    "RFM经典的分层会按照R/F/M每一项指标是否高于平均值，把用户划分为8类，我们根据根据案例中的情况进行划分，具体像下面表格这样："
   ]
  },
  {
   "cell_type": "markdown",
   "metadata": {},
   "source": [
    "![title](5.png)"
   ]
  },
  {
   "cell_type": "markdown",
   "metadata": {},
   "source": [
    "引入人群数值的辅助列，把之前判断的I\\F\\S是否大于均值的三个值串联起来："
   ]
  },
  {
   "cell_type": "code",
   "execution_count": 210,
   "metadata": {},
   "outputs": [
    {
     "data": {
      "text/html": [
       "<div>\n",
       "<style scoped>\n",
       "    .dataframe tbody tr th:only-of-type {\n",
       "        vertical-align: middle;\n",
       "    }\n",
       "\n",
       "    .dataframe tbody tr th {\n",
       "        vertical-align: top;\n",
       "    }\n",
       "\n",
       "    .dataframe thead th {\n",
       "        text-align: right;\n",
       "    }\n",
       "</style>\n",
       "<table border=\"1\" class=\"dataframe\">\n",
       "  <thead>\n",
       "    <tr style=\"text-align: right;\">\n",
       "      <th></th>\n",
       "      <th>author</th>\n",
       "      <th>I</th>\n",
       "      <th>F</th>\n",
       "      <th>L</th>\n",
       "      <th>I_SCORE</th>\n",
       "      <th>F_SCORE</th>\n",
       "      <th>L_SCORE</th>\n",
       "      <th>I是否大于平均值</th>\n",
       "      <th>F是否大于平均值</th>\n",
       "      <th>L是否大于平均值</th>\n",
       "      <th>人群数值</th>\n",
       "    </tr>\n",
       "  </thead>\n",
       "  <tbody>\n",
       "    <tr>\n",
       "      <th>0</th>\n",
       "      <td>-狐思乱想-</td>\n",
       "      <td>0.22</td>\n",
       "      <td>29.0</td>\n",
       "      <td>5.020618</td>\n",
       "      <td>4.0</td>\n",
       "      <td>3.0</td>\n",
       "      <td>2.0</td>\n",
       "      <td>1</td>\n",
       "      <td>0</td>\n",
       "      <td>0</td>\n",
       "      <td>100</td>\n",
       "    </tr>\n",
       "    <tr>\n",
       "      <th>1</th>\n",
       "      <td>3Blue1Brown</td>\n",
       "      <td>0.03</td>\n",
       "      <td>15.0</td>\n",
       "      <td>21.403255</td>\n",
       "      <td>2.0</td>\n",
       "      <td>3.0</td>\n",
       "      <td>4.0</td>\n",
       "      <td>0</td>\n",
       "      <td>0</td>\n",
       "      <td>1</td>\n",
       "      <td>1</td>\n",
       "    </tr>\n",
       "    <tr>\n",
       "      <th>2</th>\n",
       "      <td>404NotFound错误页面</td>\n",
       "      <td>0.05</td>\n",
       "      <td>22.0</td>\n",
       "      <td>3.360935</td>\n",
       "      <td>2.0</td>\n",
       "      <td>3.0</td>\n",
       "      <td>1.0</td>\n",
       "      <td>0</td>\n",
       "      <td>0</td>\n",
       "      <td>0</td>\n",
       "      <td>0</td>\n",
       "    </tr>\n",
       "    <tr>\n",
       "      <th>3</th>\n",
       "      <td>Alien老吴</td>\n",
       "      <td>0.07</td>\n",
       "      <td>20.0</td>\n",
       "      <td>12.520942</td>\n",
       "      <td>3.0</td>\n",
       "      <td>3.0</td>\n",
       "      <td>3.0</td>\n",
       "      <td>1</td>\n",
       "      <td>0</td>\n",
       "      <td>1</td>\n",
       "      <td>101</td>\n",
       "    </tr>\n",
       "    <tr>\n",
       "      <th>4</th>\n",
       "      <td>B站好物推荐官</td>\n",
       "      <td>0.14</td>\n",
       "      <td>4.0</td>\n",
       "      <td>2.022601</td>\n",
       "      <td>4.0</td>\n",
       "      <td>5.0</td>\n",
       "      <td>1.0</td>\n",
       "      <td>1</td>\n",
       "      <td>1</td>\n",
       "      <td>0</td>\n",
       "      <td>110</td>\n",
       "    </tr>\n",
       "  </tbody>\n",
       "</table>\n",
       "</div>"
      ],
      "text/plain": [
       "            author     I     F          L  I_SCORE  F_SCORE  L_SCORE  \\\n",
       "0           -狐思乱想-  0.22  29.0   5.020618      4.0      3.0      2.0   \n",
       "1      3Blue1Brown  0.03  15.0  21.403255      2.0      3.0      4.0   \n",
       "2  404NotFound错误页面  0.05  22.0   3.360935      2.0      3.0      1.0   \n",
       "3          Alien老吴  0.07  20.0  12.520942      3.0      3.0      3.0   \n",
       "4          B站好物推荐官  0.14   4.0   2.022601      4.0      5.0      1.0   \n",
       "\n",
       "   I是否大于平均值  F是否大于平均值  L是否大于平均值  人群数值  \n",
       "0         1         0         0   100  \n",
       "1         0         0         1     1  \n",
       "2         0         0         0     0  \n",
       "3         1         0         1   101  \n",
       "4         1         1         0   110  "
      ]
     },
     "execution_count": 210,
     "metadata": {},
     "output_type": "execute_result"
    }
   ],
   "source": [
    "IFL['人群数值'] = (IFL['I是否大于平均值']*100)+(IFL['F是否大于平均值']*10)+(IFL['L是否大于平均值'])\n",
    "IFL.head()"
   ]
  },
  {
   "cell_type": "code",
   "execution_count": 211,
   "metadata": {},
   "outputs": [],
   "source": [
    "#构建判断函数，通过判断人群数值的值，来返回对应标签：\n",
    "def transform_label(x):\n",
    "    if x == 111:\n",
    "        label = '高价值up主'\n",
    "    elif x == 101:\n",
    "        label = '高价值拖更up主'\n",
    "    elif x == 11:\n",
    "        label = '高价值内容高深up主'\n",
    "    elif x == 1:\n",
    "        label = '高价值内容高深拖更up主'\n",
    "    elif x == 110:\n",
    "        label = '接地气活跃up主'\n",
    "    elif x == 10:\n",
    "        label = '活跃up主'\n",
    "    elif x == 100:\n",
    "        label = '接地气up主'\n",
    "    elif x == 0:\n",
    "        label = '还在成长up主'\n",
    "    return label"
   ]
  },
  {
   "cell_type": "code",
   "execution_count": 212,
   "metadata": {},
   "outputs": [
    {
     "data": {
      "text/html": [
       "<div>\n",
       "<style scoped>\n",
       "    .dataframe tbody tr th:only-of-type {\n",
       "        vertical-align: middle;\n",
       "    }\n",
       "\n",
       "    .dataframe tbody tr th {\n",
       "        vertical-align: top;\n",
       "    }\n",
       "\n",
       "    .dataframe thead th {\n",
       "        text-align: right;\n",
       "    }\n",
       "</style>\n",
       "<table border=\"1\" class=\"dataframe\">\n",
       "  <thead>\n",
       "    <tr style=\"text-align: right;\">\n",
       "      <th></th>\n",
       "      <th>author</th>\n",
       "      <th>I</th>\n",
       "      <th>F</th>\n",
       "      <th>L</th>\n",
       "      <th>I_SCORE</th>\n",
       "      <th>F_SCORE</th>\n",
       "      <th>L_SCORE</th>\n",
       "      <th>I是否大于平均值</th>\n",
       "      <th>F是否大于平均值</th>\n",
       "      <th>L是否大于平均值</th>\n",
       "      <th>人群数值</th>\n",
       "      <th>人群类型</th>\n",
       "    </tr>\n",
       "  </thead>\n",
       "  <tbody>\n",
       "    <tr>\n",
       "      <th>0</th>\n",
       "      <td>-狐思乱想-</td>\n",
       "      <td>0.22</td>\n",
       "      <td>29.0</td>\n",
       "      <td>5.020618</td>\n",
       "      <td>4.0</td>\n",
       "      <td>3.0</td>\n",
       "      <td>2.0</td>\n",
       "      <td>1</td>\n",
       "      <td>0</td>\n",
       "      <td>0</td>\n",
       "      <td>100</td>\n",
       "      <td>接地气up主</td>\n",
       "    </tr>\n",
       "    <tr>\n",
       "      <th>1</th>\n",
       "      <td>3Blue1Brown</td>\n",
       "      <td>0.03</td>\n",
       "      <td>15.0</td>\n",
       "      <td>21.403255</td>\n",
       "      <td>2.0</td>\n",
       "      <td>3.0</td>\n",
       "      <td>4.0</td>\n",
       "      <td>0</td>\n",
       "      <td>0</td>\n",
       "      <td>1</td>\n",
       "      <td>1</td>\n",
       "      <td>高价值内容高深拖更up主</td>\n",
       "    </tr>\n",
       "    <tr>\n",
       "      <th>2</th>\n",
       "      <td>404NotFound错误页面</td>\n",
       "      <td>0.05</td>\n",
       "      <td>22.0</td>\n",
       "      <td>3.360935</td>\n",
       "      <td>2.0</td>\n",
       "      <td>3.0</td>\n",
       "      <td>1.0</td>\n",
       "      <td>0</td>\n",
       "      <td>0</td>\n",
       "      <td>0</td>\n",
       "      <td>0</td>\n",
       "      <td>还在成长up主</td>\n",
       "    </tr>\n",
       "    <tr>\n",
       "      <th>3</th>\n",
       "      <td>Alien老吴</td>\n",
       "      <td>0.07</td>\n",
       "      <td>20.0</td>\n",
       "      <td>12.520942</td>\n",
       "      <td>3.0</td>\n",
       "      <td>3.0</td>\n",
       "      <td>3.0</td>\n",
       "      <td>1</td>\n",
       "      <td>0</td>\n",
       "      <td>1</td>\n",
       "      <td>101</td>\n",
       "      <td>高价值拖更up主</td>\n",
       "    </tr>\n",
       "    <tr>\n",
       "      <th>4</th>\n",
       "      <td>B站好物推荐官</td>\n",
       "      <td>0.14</td>\n",
       "      <td>4.0</td>\n",
       "      <td>2.022601</td>\n",
       "      <td>4.0</td>\n",
       "      <td>5.0</td>\n",
       "      <td>1.0</td>\n",
       "      <td>1</td>\n",
       "      <td>1</td>\n",
       "      <td>0</td>\n",
       "      <td>110</td>\n",
       "      <td>接地气活跃up主</td>\n",
       "    </tr>\n",
       "  </tbody>\n",
       "</table>\n",
       "</div>"
      ],
      "text/plain": [
       "            author     I     F          L  I_SCORE  F_SCORE  L_SCORE  \\\n",
       "0           -狐思乱想-  0.22  29.0   5.020618      4.0      3.0      2.0   \n",
       "1      3Blue1Brown  0.03  15.0  21.403255      2.0      3.0      4.0   \n",
       "2  404NotFound错误页面  0.05  22.0   3.360935      2.0      3.0      1.0   \n",
       "3          Alien老吴  0.07  20.0  12.520942      3.0      3.0      3.0   \n",
       "4          B站好物推荐官  0.14   4.0   2.022601      4.0      5.0      1.0   \n",
       "\n",
       "   I是否大于平均值  F是否大于平均值  L是否大于平均值  人群数值          人群类型  \n",
       "0         1         0         0   100        接地气up主  \n",
       "1         0         0         1     1  高价值内容高深拖更up主  \n",
       "2         0         0         0     0       还在成长up主  \n",
       "3         1         0         1   101      高价值拖更up主  \n",
       "4         1         1         0   110      接地气活跃up主  "
      ]
     },
     "execution_count": 212,
     "metadata": {},
     "output_type": "execute_result"
    }
   ],
   "source": [
    "#将标签分类函数应用到人群数值列：\n",
    "IFL['人群类型'] = IFL['人群数值'].apply(transform_label)\n",
    "IFL.head()"
   ]
  },
  {
   "cell_type": "markdown",
   "metadata": {},
   "source": [
    "## 各类用户占比"
   ]
  },
  {
   "cell_type": "code",
   "execution_count": 213,
   "metadata": {},
   "outputs": [
    {
     "data": {
      "text/html": [
       "<div>\n",
       "<style scoped>\n",
       "    .dataframe tbody tr th:only-of-type {\n",
       "        vertical-align: middle;\n",
       "    }\n",
       "\n",
       "    .dataframe tbody tr th {\n",
       "        vertical-align: top;\n",
       "    }\n",
       "\n",
       "    .dataframe thead th {\n",
       "        text-align: right;\n",
       "    }\n",
       "</style>\n",
       "<table border=\"1\" class=\"dataframe\">\n",
       "  <thead>\n",
       "    <tr style=\"text-align: right;\">\n",
       "      <th></th>\n",
       "      <th>index</th>\n",
       "      <th>人群类型</th>\n",
       "      <th>人群占比</th>\n",
       "    </tr>\n",
       "  </thead>\n",
       "  <tbody>\n",
       "    <tr>\n",
       "      <th>0</th>\n",
       "      <td>活跃up主</td>\n",
       "      <td>39</td>\n",
       "      <td>0.190244</td>\n",
       "    </tr>\n",
       "    <tr>\n",
       "      <th>1</th>\n",
       "      <td>高价值拖更up主</td>\n",
       "      <td>36</td>\n",
       "      <td>0.175610</td>\n",
       "    </tr>\n",
       "    <tr>\n",
       "      <th>2</th>\n",
       "      <td>高价值内容高深up主</td>\n",
       "      <td>30</td>\n",
       "      <td>0.146341</td>\n",
       "    </tr>\n",
       "    <tr>\n",
       "      <th>3</th>\n",
       "      <td>高价值up主</td>\n",
       "      <td>29</td>\n",
       "      <td>0.141463</td>\n",
       "    </tr>\n",
       "    <tr>\n",
       "      <th>4</th>\n",
       "      <td>接地气活跃up主</td>\n",
       "      <td>24</td>\n",
       "      <td>0.117073</td>\n",
       "    </tr>\n",
       "  </tbody>\n",
       "</table>\n",
       "</div>"
      ],
      "text/plain": [
       "        index  人群类型      人群占比\n",
       "0       活跃up主    39  0.190244\n",
       "1    高价值拖更up主    36  0.175610\n",
       "2  高价值内容高深up主    30  0.146341\n",
       "3      高价值up主    29  0.141463\n",
       "4    接地气活跃up主    24  0.117073"
      ]
     },
     "execution_count": 213,
     "metadata": {},
     "output_type": "execute_result"
    }
   ],
   "source": [
    "cat = IFL['人群类型'].value_counts().reset_index()\n",
    "cat['人群占比'] = cat['人群类型']/cat['人群类型'].sum()\n",
    "cat.head()"
   ]
  },
  {
   "cell_type": "code",
   "execution_count": 215,
   "metadata": {},
   "outputs": [
    {
     "data": {
      "image/png": "[encoded data removed]",
      "text/plain": [
       "<Figure size 432x432 with 1 Axes>"
      ]
     },
     "metadata": {},
     "output_type": "display_data"
    }
   ],
   "source": [
    "import matplotlib.pyplot as plt\n",
    "\n",
    "plt.rcParams['font.sans-serif']='SimHei'#设置中文显示\n",
    "plt.figure(figsize=(6,6))#将画布设定为正方形，则绘制的饼图是正圆\n",
    "explode=[0.01,0.01,0.01,0.01,0.01,0.01,0.01,0.01,]#设定各项距离圆心n个半径\n",
    "plt.pie(cat['人群占比'],explode=explode,labels=cat['index'],autopct='%1.1f%%')#绘制饼图\n",
    "plt.title('科普分区各类人群占比')#绘制标题\n",
    "plt.show()"
   ]
  },
  {
   "cell_type": "markdown",
   "metadata": {},
   "source": [
    "## 分区up主排行top15"
   ]
  },
  {
   "cell_type": "code",
   "execution_count": 216,
   "metadata": {},
   "outputs": [],
   "source": [
    "#以点赞率排名\n",
    "high = IFL.loc[IFL['人群类型']=='高价值up主']\n",
    "rank = high[['author','L','I','F']].sort_values('L',ascending=False)"
   ]
  },
  {
   "cell_type": "code",
   "execution_count": 217,
   "metadata": {},
   "outputs": [
    {
     "data": {
      "text/html": [
       "<div>\n",
       "<style scoped>\n",
       "    .dataframe tbody tr th:only-of-type {\n",
       "        vertical-align: middle;\n",
       "    }\n",
       "\n",
       "    .dataframe tbody tr th {\n",
       "        vertical-align: top;\n",
       "    }\n",
       "\n",
       "    .dataframe thead th {\n",
       "        text-align: right;\n",
       "    }\n",
       "</style>\n",
       "<table border=\"1\" class=\"dataframe\">\n",
       "  <thead>\n",
       "    <tr style=\"text-align: right;\">\n",
       "      <th></th>\n",
       "      <th>author</th>\n",
       "      <th>L</th>\n",
       "      <th>I</th>\n",
       "      <th>F</th>\n",
       "    </tr>\n",
       "  </thead>\n",
       "  <tbody>\n",
       "    <tr>\n",
       "      <th>149</th>\n",
       "      <td>眼见为识</td>\n",
       "      <td>37.119386</td>\n",
       "      <td>0.13</td>\n",
       "      <td>8.0</td>\n",
       "    </tr>\n",
       "    <tr>\n",
       "      <th>133</th>\n",
       "      <td>毕导THU</td>\n",
       "      <td>36.378571</td>\n",
       "      <td>0.08</td>\n",
       "      <td>8.0</td>\n",
       "    </tr>\n",
       "    <tr>\n",
       "      <th>5</th>\n",
       "      <td>CodeSheep</td>\n",
       "      <td>35.747117</td>\n",
       "      <td>0.23</td>\n",
       "      <td>1.0</td>\n",
       "    </tr>\n",
       "    <tr>\n",
       "      <th>132</th>\n",
       "      <td>比格谢特</td>\n",
       "      <td>27.217548</td>\n",
       "      <td>0.17</td>\n",
       "      <td>6.0</td>\n",
       "    </tr>\n",
       "    <tr>\n",
       "      <th>30</th>\n",
       "      <td>三个老爸实验室</td>\n",
       "      <td>22.469110</td>\n",
       "      <td>0.08</td>\n",
       "      <td>8.0</td>\n",
       "    </tr>\n",
       "  </tbody>\n",
       "</table>\n",
       "</div>"
      ],
      "text/plain": [
       "        author          L     I    F\n",
       "149       眼见为识  37.119386  0.13  8.0\n",
       "133      毕导THU  36.378571  0.08  8.0\n",
       "5    CodeSheep  35.747117  0.23  1.0\n",
       "132       比格谢特  27.217548  0.17  6.0\n",
       "30     三个老爸实验室  22.469110  0.08  8.0"
      ]
     },
     "execution_count": 217,
     "metadata": {},
     "output_type": "execute_result"
    }
   ],
   "source": [
    "rank.head()"
   ]
  },
  {
   "cell_type": "code",
   "execution_count": 218,
   "metadata": {},
   "outputs": [],
   "source": [
    "rank.to_excel('rank.xlsx', sheet_name='科学科普',encoding='utf-8')"
   ]
  },
  {
   "cell_type": "markdown",
   "metadata": {},
   "source": [
    "![title](6.png)"
   ]
  }
 ],
 "metadata": {
  "kernelspec": {
   "display_name": "Python 3",
   "language": "python",
   "name": "python3"
  },
  "language_info": {
   "codemirror_mode": {
    "name": "ipython",
    "version": 3
   },
   "file_extension": ".py",
   "mimetype": "text/x-python",
   "name": "python",
   "nbconvert_exporter": "python",
   "pygments_lexer": "ipython3",
   "version": "3.7.6"
  }
 },
 "nbformat": 4,
 "nbformat_minor": 4
}
