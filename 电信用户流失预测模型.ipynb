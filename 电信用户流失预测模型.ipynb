{
 "cells": [
  {
   "cell_type": "raw",
   "metadata": {},
   "source": [
    "客户流失是所有与消费者挂钩行业都会关注的点。因为发展一个新客户是需要一定成本的，一旦客户流失，成本浪费不说，挽回一个客户的成本更大。\n",
    "\n",
    "所以，电信行业在竞争日益激烈当下，如何挽留更多用户成为一项关键业务指标。为了更好运营用户，这就要求要了解流失用户的特征，分析流失原因，预测用户流失，确定挽留目标用户并制定有效方案。\n",
    "\n",
    "本文基于7044条用户基本特征及行为两个数据维度，使用python分析用户画像及行为特征，并建立逻辑回归模型进行预测。"
   ]
  },
  {
   "cell_type": "markdown",
   "metadata": {},
   "source": [
    "# 导入数据，理解数据"
   ]
  },
  {
   "cell_type": "code",
   "execution_count": 91,
   "metadata": {},
   "outputs": [],
   "source": [
    "import pandas as pd\n",
    "import numpy as np"
   ]
  },
  {
   "cell_type": "code",
   "execution_count": 120,
   "metadata": {},
   "outputs": [],
   "source": [
    "data = pd.read_csv(\"WA_Fn-UseC_-Telco-Customer-Churn.csv\")\n",
    "data.columns = ['用户ID','性别','老年人','是否有配偶','是否经济独立','客户的职位','是否开通电话服务业务','是否开通了多线业务'\n",
    "          ,'是否开通互联网服务','是否开通网络安全服务','是否开通在线备份业务','是否开通了设备保护业务','是否开通了技术支持服务'\n",
    "          ,'是否开通网络电视','是否开通网络电影','签订合同方式','是否开通电子账单','付款方式','月费用','总费用','该用户是否流失']"
   ]
  },
  {
   "cell_type": "code",
   "execution_count": 93,
   "metadata": {},
   "outputs": [
    {
     "data": {
      "text/html": [
       "<div>\n",
       "<style scoped>\n",
       "    .dataframe tbody tr th:only-of-type {\n",
       "        vertical-align: middle;\n",
       "    }\n",
       "\n",
       "    .dataframe tbody tr th {\n",
       "        vertical-align: top;\n",
       "    }\n",
       "\n",
       "    .dataframe thead th {\n",
       "        text-align: right;\n",
       "    }\n",
       "</style>\n",
       "<table border=\"1\" class=\"dataframe\">\n",
       "  <thead>\n",
       "    <tr style=\"text-align: right;\">\n",
       "      <th></th>\n",
       "      <th>0</th>\n",
       "      <th>1</th>\n",
       "      <th>2</th>\n",
       "      <th>3</th>\n",
       "      <th>4</th>\n",
       "    </tr>\n",
       "  </thead>\n",
       "  <tbody>\n",
       "    <tr>\n",
       "      <th>用户ID</th>\n",
       "      <td>7590-VHVEG</td>\n",
       "      <td>5575-GNVDE</td>\n",
       "      <td>3668-QPYBK</td>\n",
       "      <td>7795-CFOCW</td>\n",
       "      <td>9237-HQITU</td>\n",
       "    </tr>\n",
       "    <tr>\n",
       "      <th>性别</th>\n",
       "      <td>Female</td>\n",
       "      <td>Male</td>\n",
       "      <td>Male</td>\n",
       "      <td>Male</td>\n",
       "      <td>Female</td>\n",
       "    </tr>\n",
       "    <tr>\n",
       "      <th>老年人</th>\n",
       "      <td>0</td>\n",
       "      <td>0</td>\n",
       "      <td>0</td>\n",
       "      <td>0</td>\n",
       "      <td>0</td>\n",
       "    </tr>\n",
       "    <tr>\n",
       "      <th>是否有配偶</th>\n",
       "      <td>Yes</td>\n",
       "      <td>No</td>\n",
       "      <td>No</td>\n",
       "      <td>No</td>\n",
       "      <td>No</td>\n",
       "    </tr>\n",
       "    <tr>\n",
       "      <th>是否经济独立</th>\n",
       "      <td>No</td>\n",
       "      <td>No</td>\n",
       "      <td>No</td>\n",
       "      <td>No</td>\n",
       "      <td>No</td>\n",
       "    </tr>\n",
       "    <tr>\n",
       "      <th>客户的职位</th>\n",
       "      <td>1</td>\n",
       "      <td>34</td>\n",
       "      <td>2</td>\n",
       "      <td>45</td>\n",
       "      <td>2</td>\n",
       "    </tr>\n",
       "    <tr>\n",
       "      <th>是否开通电话服务业务</th>\n",
       "      <td>No</td>\n",
       "      <td>Yes</td>\n",
       "      <td>Yes</td>\n",
       "      <td>No</td>\n",
       "      <td>Yes</td>\n",
       "    </tr>\n",
       "    <tr>\n",
       "      <th>是否开通了多线业务</th>\n",
       "      <td>No phone service</td>\n",
       "      <td>No</td>\n",
       "      <td>No</td>\n",
       "      <td>No phone service</td>\n",
       "      <td>No</td>\n",
       "    </tr>\n",
       "    <tr>\n",
       "      <th>是否开通互联网服务</th>\n",
       "      <td>DSL</td>\n",
       "      <td>DSL</td>\n",
       "      <td>DSL</td>\n",
       "      <td>DSL</td>\n",
       "      <td>Fiber optic</td>\n",
       "    </tr>\n",
       "    <tr>\n",
       "      <th>是否开通网络安全服务</th>\n",
       "      <td>No</td>\n",
       "      <td>Yes</td>\n",
       "      <td>Yes</td>\n",
       "      <td>Yes</td>\n",
       "      <td>No</td>\n",
       "    </tr>\n",
       "    <tr>\n",
       "      <th>是否开通在线备份业务</th>\n",
       "      <td>Yes</td>\n",
       "      <td>No</td>\n",
       "      <td>Yes</td>\n",
       "      <td>No</td>\n",
       "      <td>No</td>\n",
       "    </tr>\n",
       "    <tr>\n",
       "      <th>是否开通了设备保护业务</th>\n",
       "      <td>No</td>\n",
       "      <td>Yes</td>\n",
       "      <td>No</td>\n",
       "      <td>Yes</td>\n",
       "      <td>No</td>\n",
       "    </tr>\n",
       "    <tr>\n",
       "      <th>是否开通了技术支持服务</th>\n",
       "      <td>No</td>\n",
       "      <td>No</td>\n",
       "      <td>No</td>\n",
       "      <td>Yes</td>\n",
       "      <td>No</td>\n",
       "    </tr>\n",
       "    <tr>\n",
       "      <th>是否开通网络电视</th>\n",
       "      <td>No</td>\n",
       "      <td>No</td>\n",
       "      <td>No</td>\n",
       "      <td>No</td>\n",
       "      <td>No</td>\n",
       "    </tr>\n",
       "    <tr>\n",
       "      <th>是否开通网络电影</th>\n",
       "      <td>No</td>\n",
       "      <td>No</td>\n",
       "      <td>No</td>\n",
       "      <td>No</td>\n",
       "      <td>No</td>\n",
       "    </tr>\n",
       "    <tr>\n",
       "      <th>签订合同方式</th>\n",
       "      <td>Month-to-month</td>\n",
       "      <td>One year</td>\n",
       "      <td>Month-to-month</td>\n",
       "      <td>One year</td>\n",
       "      <td>Month-to-month</td>\n",
       "    </tr>\n",
       "    <tr>\n",
       "      <th>是否开通电子账单</th>\n",
       "      <td>Yes</td>\n",
       "      <td>No</td>\n",
       "      <td>Yes</td>\n",
       "      <td>No</td>\n",
       "      <td>Yes</td>\n",
       "    </tr>\n",
       "    <tr>\n",
       "      <th>付款方式</th>\n",
       "      <td>Electronic check</td>\n",
       "      <td>Mailed check</td>\n",
       "      <td>Mailed check</td>\n",
       "      <td>Bank transfer (automatic)</td>\n",
       "      <td>Electronic check</td>\n",
       "    </tr>\n",
       "    <tr>\n",
       "      <th>月费用</th>\n",
       "      <td>29.85</td>\n",
       "      <td>56.95</td>\n",
       "      <td>53.85</td>\n",
       "      <td>42.3</td>\n",
       "      <td>70.7</td>\n",
       "    </tr>\n",
       "    <tr>\n",
       "      <th>总费用</th>\n",
       "      <td>29.85</td>\n",
       "      <td>1889.5</td>\n",
       "      <td>108.15</td>\n",
       "      <td>1840.75</td>\n",
       "      <td>151.65</td>\n",
       "    </tr>\n",
       "    <tr>\n",
       "      <th>该用户是否流失</th>\n",
       "      <td>No</td>\n",
       "      <td>No</td>\n",
       "      <td>Yes</td>\n",
       "      <td>No</td>\n",
       "      <td>Yes</td>\n",
       "    </tr>\n",
       "  </tbody>\n",
       "</table>\n",
       "</div>"
      ],
      "text/plain": [
       "                            0             1               2  \\\n",
       "用户ID               7590-VHVEG    5575-GNVDE      3668-QPYBK   \n",
       "性别                     Female          Male            Male   \n",
       "老年人                         0             0               0   \n",
       "是否有配偶                     Yes            No              No   \n",
       "是否经济独立                     No            No              No   \n",
       "客户的职位                       1            34               2   \n",
       "是否开通电话服务业务                 No           Yes             Yes   \n",
       "是否开通了多线业务    No phone service            No              No   \n",
       "是否开通互联网服务                 DSL           DSL             DSL   \n",
       "是否开通网络安全服务                 No           Yes             Yes   \n",
       "是否开通在线备份业务                Yes            No             Yes   \n",
       "是否开通了设备保护业务                No           Yes              No   \n",
       "是否开通了技术支持服务                No            No              No   \n",
       "是否开通网络电视                   No            No              No   \n",
       "是否开通网络电影                   No            No              No   \n",
       "签订合同方式         Month-to-month      One year  Month-to-month   \n",
       "是否开通电子账单                  Yes            No             Yes   \n",
       "付款方式         Electronic check  Mailed check    Mailed check   \n",
       "月费用                     29.85         56.95           53.85   \n",
       "总费用                     29.85        1889.5          108.15   \n",
       "该用户是否流失                    No            No             Yes   \n",
       "\n",
       "                                     3                 4  \n",
       "用户ID                        7795-CFOCW        9237-HQITU  \n",
       "性别                                Male            Female  \n",
       "老年人                                  0                 0  \n",
       "是否有配偶                               No                No  \n",
       "是否经济独立                              No                No  \n",
       "客户的职位                               45                 2  \n",
       "是否开通电话服务业务                          No               Yes  \n",
       "是否开通了多线业务             No phone service                No  \n",
       "是否开通互联网服务                          DSL       Fiber optic  \n",
       "是否开通网络安全服务                         Yes                No  \n",
       "是否开通在线备份业务                          No                No  \n",
       "是否开通了设备保护业务                        Yes                No  \n",
       "是否开通了技术支持服务                        Yes                No  \n",
       "是否开通网络电视                            No                No  \n",
       "是否开通网络电影                            No                No  \n",
       "签订合同方式                        One year    Month-to-month  \n",
       "是否开通电子账单                            No               Yes  \n",
       "付款方式         Bank transfer (automatic)  Electronic check  \n",
       "月费用                               42.3              70.7  \n",
       "总费用                            1840.75            151.65  \n",
       "该用户是否流失                             No               Yes  "
      ]
     },
     "execution_count": 93,
     "metadata": {},
     "output_type": "execute_result"
    }
   ],
   "source": [
    "data.head().T"
   ]
  },
  {
   "cell_type": "raw",
   "metadata": {},
   "source": [
    "字段解释：\n",
    "性别：Female & Male\n",
    "老年人：1表示是，0表示不是\n",
    "是否有配偶 ：Yes or No\n",
    "是否经济独立：Yes or No\n",
    "客户的职位：0-72，共73个职位\n",
    "是否开通电话服务业务 ：Yes or No\n",
    "是否开通了多线业务：Yes 、No or No phoneservice 三种\n",
    "是否开通互联网服务 ：No, DSL数字网络，fiber optic光纤网络 三种\n",
    "是否开通网络安全服务：Yes，No，No internetserive 三种\n",
    "是否开通在线备份业务：Yes，No，No internetserive 三种\n",
    "是否开通了设备保护业务：Yes，No，No internetserive 三种\n",
    "是否开通了技术支持服务：Yes，No，No internetserive 三种\n",
    "是否开通网络电视：Yes，No，No internetserive 三种\n",
    "是否开通网络电影：Yes，No，No internetserive 三种\n",
    "签订合同方式 ：按月，一年，两年\n",
    "是否开通电子账单：Yes or No\n",
    "付款方式：bank transfer，credit card，electronic check，mailed check\n",
    "该用户是否流失：Yes or No"
   ]
  },
  {
   "cell_type": "code",
   "execution_count": 48,
   "metadata": {},
   "outputs": [
    {
     "name": "stdout",
     "output_type": "stream",
     "text": [
      "<class 'pandas.core.frame.DataFrame'>\n",
      "RangeIndex: 7043 entries, 0 to 7042\n",
      "Data columns (total 21 columns):\n",
      " #   Column       Non-Null Count  Dtype  \n",
      "---  ------       --------------  -----  \n",
      " 0   用户ID         7043 non-null   object \n",
      " 1   性别           7043 non-null   object \n",
      " 2   老年人          7043 non-null   int64  \n",
      " 3   是否有配偶        7043 non-null   object \n",
      " 4   是否经济独立       7043 non-null   object \n",
      " 5   客户的职位        7043 non-null   int64  \n",
      " 6   是否开通电话服务业务   7043 non-null   object \n",
      " 7   是否开通了多线业务    7043 non-null   object \n",
      " 8   是否开通互联网服务    7043 non-null   object \n",
      " 9   是否开通网络安全服务   7043 non-null   object \n",
      " 10  是否开通在线备份业务   7043 non-null   object \n",
      " 11  是否开通了设备保护业务  7043 non-null   object \n",
      " 12  是否开通了技术支持服务  7043 non-null   object \n",
      " 13  是否开通网络电视     7043 non-null   object \n",
      " 14  是否开通网络电影     7043 non-null   object \n",
      " 15  签订合同方式       7043 non-null   object \n",
      " 16  是否开通电子账单     7043 non-null   object \n",
      " 17  付款方式         7043 non-null   object \n",
      " 18  月费用          7043 non-null   float64\n",
      " 19  总费用          7043 non-null   object \n",
      " 20  该用户是否流失      7043 non-null   object \n",
      "dtypes: float64(1), int64(2), object(18)\n",
      "memory usage: 1.1+ MB\n"
     ]
    }
   ],
   "source": [
    "data.info()"
   ]
  },
  {
   "cell_type": "raw",
   "metadata": {},
   "source": [
    "可以看到总共7042条数据，20个字段。"
   ]
  },
  {
   "cell_type": "code",
   "execution_count": 49,
   "metadata": {},
   "outputs": [
    {
     "data": {
      "text/html": [
       "<div>\n",
       "<style scoped>\n",
       "    .dataframe tbody tr th:only-of-type {\n",
       "        vertical-align: middle;\n",
       "    }\n",
       "\n",
       "    .dataframe tbody tr th {\n",
       "        vertical-align: top;\n",
       "    }\n",
       "\n",
       "    .dataframe thead th {\n",
       "        text-align: right;\n",
       "    }\n",
       "</style>\n",
       "<table border=\"1\" class=\"dataframe\">\n",
       "  <thead>\n",
       "    <tr style=\"text-align: right;\">\n",
       "      <th></th>\n",
       "      <th>count</th>\n",
       "      <th>mean</th>\n",
       "      <th>std</th>\n",
       "      <th>min</th>\n",
       "      <th>25%</th>\n",
       "      <th>50%</th>\n",
       "      <th>75%</th>\n",
       "      <th>max</th>\n",
       "    </tr>\n",
       "  </thead>\n",
       "  <tbody>\n",
       "    <tr>\n",
       "      <th>老年人</th>\n",
       "      <td>7043.0</td>\n",
       "      <td>0.162147</td>\n",
       "      <td>0.368612</td>\n",
       "      <td>0.00</td>\n",
       "      <td>0.0</td>\n",
       "      <td>0.00</td>\n",
       "      <td>0.00</td>\n",
       "      <td>1.00</td>\n",
       "    </tr>\n",
       "    <tr>\n",
       "      <th>客户的职位</th>\n",
       "      <td>7043.0</td>\n",
       "      <td>32.371149</td>\n",
       "      <td>24.559481</td>\n",
       "      <td>0.00</td>\n",
       "      <td>9.0</td>\n",
       "      <td>29.00</td>\n",
       "      <td>55.00</td>\n",
       "      <td>72.00</td>\n",
       "    </tr>\n",
       "    <tr>\n",
       "      <th>月费用</th>\n",
       "      <td>7043.0</td>\n",
       "      <td>64.761692</td>\n",
       "      <td>30.090047</td>\n",
       "      <td>18.25</td>\n",
       "      <td>35.5</td>\n",
       "      <td>70.35</td>\n",
       "      <td>89.85</td>\n",
       "      <td>118.75</td>\n",
       "    </tr>\n",
       "  </tbody>\n",
       "</table>\n",
       "</div>"
      ],
      "text/plain": [
       "        count       mean        std    min   25%    50%    75%     max\n",
       "老年人    7043.0   0.162147   0.368612   0.00   0.0   0.00   0.00    1.00\n",
       "客户的职位  7043.0  32.371149  24.559481   0.00   9.0  29.00  55.00   72.00\n",
       "月费用    7043.0  64.761692  30.090047  18.25  35.5  70.35  89.85  118.75"
      ]
     },
     "execution_count": 49,
     "metadata": {},
     "output_type": "execute_result"
    }
   ],
   "source": [
    "data.describe().T"
   ]
  },
  {
   "cell_type": "markdown",
   "metadata": {},
   "source": [
    "# 数据清洗"
   ]
  },
  {
   "cell_type": "code",
   "execution_count": 50,
   "metadata": {},
   "outputs": [
    {
     "data": {
      "text/plain": [
       "用户ID           0.0\n",
       "性别             0.0\n",
       "老年人            0.0\n",
       "是否有配偶          0.0\n",
       "是否经济独立         0.0\n",
       "客户的职位          0.0\n",
       "是否开通电话服务业务     0.0\n",
       "是否开通了多线业务      0.0\n",
       "是否开通互联网服务      0.0\n",
       "是否开通网络安全服务     0.0\n",
       "是否开通在线备份业务     0.0\n",
       "是否开通了设备保护业务    0.0\n",
       "是否开通了技术支持服务    0.0\n",
       "是否开通网络电视       0.0\n",
       "是否开通网络电影       0.0\n",
       "签订合同方式         0.0\n",
       "是否开通电子账单       0.0\n",
       "付款方式           0.0\n",
       "月费用            0.0\n",
       "总费用            0.0\n",
       "该用户是否流失        0.0\n",
       "dtype: float64"
      ]
     },
     "execution_count": 50,
     "metadata": {},
     "output_type": "execute_result"
    }
   ],
   "source": [
    "#查看有无缺失值\n",
    "data.isnull().mean()"
   ]
  },
  {
   "cell_type": "code",
   "execution_count": 51,
   "metadata": {},
   "outputs": [
    {
     "data": {
      "text/plain": [
       "No     5174\n",
       "Yes    1869\n",
       "Name: 该用户是否流失, dtype: int64"
      ]
     },
     "execution_count": 51,
     "metadata": {},
     "output_type": "execute_result"
    }
   ],
   "source": [
    "data['该用户是否流失'].value_counts()"
   ]
  },
  {
   "cell_type": "raw",
   "metadata": {},
   "source": [
    "该数据集中有5174名用户没流失，有1869名客户流失，数据集不均衡。"
   ]
  },
  {
   "cell_type": "code",
   "execution_count": 121,
   "metadata": {},
   "outputs": [],
   "source": [
    "#总费用字段应该为float类型\n",
    "data['总费用'] = pd.to_numeric(data['总费用'],errors='coerce')"
   ]
  },
  {
   "cell_type": "code",
   "execution_count": 108,
   "metadata": {},
   "outputs": [
    {
     "data": {
      "text/plain": [
       "用户ID            0\n",
       "性别              0\n",
       "老年人             0\n",
       "是否有配偶           0\n",
       "是否经济独立          0\n",
       "客户的职位           0\n",
       "是否开通电话服务业务      0\n",
       "是否开通了多线业务       0\n",
       "是否开通互联网服务       0\n",
       "是否开通网络安全服务      0\n",
       "是否开通在线备份业务      0\n",
       "是否开通了设备保护业务     0\n",
       "是否开通了技术支持服务     0\n",
       "是否开通网络电视        0\n",
       "是否开通网络电影        0\n",
       "签订合同方式          0\n",
       "是否开通电子账单        0\n",
       "付款方式            0\n",
       "月费用             0\n",
       "总费用            11\n",
       "该用户是否流失         0\n",
       "dtype: int64"
      ]
     },
     "execution_count": 108,
     "metadata": {},
     "output_type": "execute_result"
    }
   ],
   "source": [
    "#再次查找缺失值,可以看到总费用有11个缺失值\n",
    "data.isnull().sum()"
   ]
  },
  {
   "cell_type": "code",
   "execution_count": 122,
   "metadata": {},
   "outputs": [],
   "source": [
    "#因为数量不多，可以删除这些行\n",
    "data.dropna(inplace=True)"
   ]
  },
  {
   "cell_type": "code",
   "execution_count": 123,
   "metadata": {},
   "outputs": [
    {
     "data": {
      "text/plain": [
       "(7032, 21)"
      ]
     },
     "execution_count": 123,
     "metadata": {},
     "output_type": "execute_result"
    }
   ],
   "source": [
    "data.shape"
   ]
  },
  {
   "cell_type": "markdown",
   "metadata": {},
   "source": [
    "# 数据可视化呈现"
   ]
  },
  {
   "cell_type": "code",
   "execution_count": 56,
   "metadata": {},
   "outputs": [
    {
     "data": {
      "image/png": "[encoded data removed]",
      "text/plain": [
       "<Figure size 432x432 with 1 Axes>"
      ]
     },
     "metadata": {},
     "output_type": "display_data"
    }
   ],
   "source": [
    "#查看流失客户占比\n",
    "values = data['该用户是否流失'].value_counts()\n",
    "label = data['该用户是否流失'].value_counts().index#定义饼图的标签，标签是列表\n",
    "\n",
    "\n",
    "import matplotlib.pyplot as plt\n",
    "plt.rcParams['font.sans-serif']='SimHei'#设置中文显示\n",
    "plt.figure(figsize=(6,6))#将画布设定为正方形，则绘制的饼图是正圆\n",
    "explode=[0.01,0.01]#设定各项距离圆心n个半径\n",
    "plt.pie(values,explode=explode,labels=label,autopct='%1.1f%%',colors=['#C2D2C4','#609691'])#绘制饼图\n",
    "plt.title('流失客户占比')#绘制标题\n",
    "plt.show()"
   ]
  },
  {
   "cell_type": "raw",
   "metadata": {},
   "source": [
    "从图中可以看出，流失客户占整体客户的26.6%。"
   ]
  },
  {
   "cell_type": "code",
   "execution_count": 57,
   "metadata": {},
   "outputs": [
    {
     "data": {
      "image/png": "[encoded data removed]",
      "text/plain": [
       "<Figure size 720x720 with 4 Axes>"
      ]
     },
     "metadata": {
      "needs_background": "light"
     },
     "output_type": "display_data"
    }
   ],
   "source": [
    "#性别、老年人、是否有配偶、经济是否独立对流客户流失率的影响\n",
    "import seaborn as sns\n",
    "\n",
    "label =['性别','老年人','是否有配偶','是否经济独立']\n",
    "fig , axes = plt.subplots(2,2,figsize=(10,10))\n",
    "\n",
    "for i in range(len(label)):\n",
    "    plt.subplot(2,2,i+1)   #subplot(行，列，第几个)\n",
    "    gender = sns.countplot(x=label[i],hue ='该用户是否流失',data=data,alpha=0.8)\n",
    "    plt.xlabel(label[i])"
   ]
  },
  {
   "cell_type": "raw",
   "metadata": {},
   "source": [
    "可以看出，男性与女性用户之间的流失情况基本没有差异；而在老年人用户中流失占比比非老年人用户更高；在所有数据中未婚与已婚人数基本持平，但未婚中流失比率比已婚中流失人数高出快一倍；从经济独立情况来看，经济未独立的用户流失率要远远高于经济独立的用户。"
   ]
  },
  {
   "cell_type": "code",
   "execution_count": 58,
   "metadata": {},
   "outputs": [
    {
     "data": {
      "image/png": "[encoded data removed]",
      "text/plain": [
       "<Figure size 1440x1440 with 9 Axes>"
      ]
     },
     "metadata": {
      "needs_background": "light"
     },
     "output_type": "display_data"
    }
   ],
   "source": [
    "# 网络安全服务、在线备份业务、设备保护业务、技术支持服务、网络电视、网络电影和无互联网服务对客户流失率的影响\n",
    "label =['是否开通电话服务业务','是否开通了多线业务','是否开通互联网服务','是否开通网络安全服务','是否开通在线备份业务',\n",
    "        '是否开通了设备保护业务','是否开通了技术支持服务','是否开通网络电视','是否开通网络电影']\n",
    "fig , axes = plt.subplots(3,3,figsize=(20,20))\n",
    "\n",
    "for i in range(len(label)):\n",
    "    plt.subplot(3,3,i+1)   #subplot(行，列，第几个)\n",
    "    gender = sns.countplot(x=label[i],hue ='该用户是否流失',data=data,alpha=0.8)\n",
    "    plt.xlabel(label[i])"
   ]
  },
  {
   "cell_type": "raw",
   "metadata": {},
   "source": [
    "由上图可以看出，在网络安全服务、在线备份业务、设备保护业务、技术支持服务、网络电视和网络电影六个变量中，没有互联网服务的客户流失率值是相同的，都是相对较低。\n",
    "\n",
    "这可能是因为以上六个因素只有在客户使用互联网服务时才会影响客户的决策，这六个因素不会对不使用互联网服务的客户决定是否流失产生推论效应。\n",
    "\n",
    "而开通互联网服务的人，办理fiber optic光纤网络比办理DSL数字网络的客户流失率更高。"
   ]
  },
  {
   "cell_type": "code",
   "execution_count": 59,
   "metadata": {},
   "outputs": [
    {
     "data": {
      "image/png": "[encoded data removed]",
      "text/plain": [
       "<Figure size 432x288 with 1 Axes>"
      ]
     },
     "metadata": {
      "needs_background": "light"
     },
     "output_type": "display_data"
    }
   ],
   "source": [
    "#签订合同方式对客户流失率的影响\n",
    "sns.countplot(x='签订合同方式',hue ='该用户是否流失',data=data,alpha=0.8)\n",
    "plt.show()"
   ]
  },
  {
   "cell_type": "raw",
   "metadata": {},
   "source": [
    "由图上可以看出，签订合同方式对客户流失率影响为：按月签订 > 按一年签订 > 按两年签订，这可能表明，设定长期合同对留住现有客户更有效。"
   ]
  },
  {
   "cell_type": "code",
   "execution_count": 60,
   "metadata": {},
   "outputs": [
    {
     "data": {
      "image/png": "[encoded data removed]",
      "text/plain": [
       "<Figure size 432x288 with 1 Axes>"
      ]
     },
     "metadata": {
      "needs_background": "light"
     },
     "output_type": "display_data"
    }
   ],
   "source": [
    "#付款方式对客户流失率的影响\n",
    "sns.countplot(x='付款方式',hue ='该用户是否流失',data=data,alpha=0.8)\n",
    "plt.show()"
   ]
  },
  {
   "cell_type": "raw",
   "metadata": {},
   "source": [
    "由图上可以看出，在四种支付方式中，使用Electronic check的用户流流失率最高，其他三种支付方式基本持平，因此可以推断电子账单在设计上影响用户体验。"
   ]
  },
  {
   "cell_type": "markdown",
   "metadata": {},
   "source": [
    "# 数据处理"
   ]
  },
  {
   "cell_type": "code",
   "execution_count": 61,
   "metadata": {},
   "outputs": [],
   "source": [
    "#查看对象类型字段中存在的值：\n",
    "def uni(columnlabel):\n",
    "    print(columnlabel,\"--\",data[columnlabel].unique())# unique函数去除其中重复的元素，返回唯一值"
   ]
  },
  {
   "cell_type": "code",
   "execution_count": 62,
   "metadata": {},
   "outputs": [
    {
     "name": "stdout",
     "output_type": "stream",
     "text": [
      "用户ID -- ['7590-VHVEG' '5575-GNVDE' '3668-QPYBK' ... '4801-JZAZL' '8361-LTMKD'\n",
      " '3186-AJIEK']\n",
      "性别 -- ['Female' 'Male']\n",
      "是否有配偶 -- ['Yes' 'No']\n",
      "是否经济独立 -- ['No' 'Yes']\n",
      "是否开通电话服务业务 -- ['No' 'Yes']\n",
      "是否开通了多线业务 -- ['No phone service' 'No' 'Yes']\n",
      "是否开通互联网服务 -- ['DSL' 'Fiber optic' 'No']\n",
      "是否开通网络安全服务 -- ['No' 'Yes' 'No internet service']\n",
      "是否开通在线备份业务 -- ['Yes' 'No' 'No internet service']\n",
      "是否开通了设备保护业务 -- ['No' 'Yes' 'No internet service']\n",
      "是否开通了技术支持服务 -- ['No' 'Yes' 'No internet service']\n",
      "是否开通网络电视 -- ['No' 'Yes' 'No internet service']\n",
      "是否开通网络电影 -- ['No' 'Yes' 'No internet service']\n",
      "签订合同方式 -- ['Month-to-month' 'One year' 'Two year']\n",
      "是否开通电子账单 -- ['Yes' 'No']\n",
      "付款方式 -- ['Electronic check' 'Mailed check' 'Bank transfer (automatic)'\n",
      " 'Credit card (automatic)']\n",
      "该用户是否流失 -- ['No' 'Yes']\n"
     ]
    }
   ],
   "source": [
    "telcomobject = data.select_dtypes(['object'])\n",
    "for i in range(0,len(telcomobject.columns)):\n",
    "    uni(telcomobject.columns[i])"
   ]
  },
  {
   "cell_type": "raw",
   "metadata": {},
   "source": [
    "综合之前的结果来看，在六个变量中存在No internet service，即无互联网服务对客户流失率影响很小，这些客户不使用任何互联网产品，因此可以将No internet service 和 No 是一样的效果，可以使用 No 替代 No internet service。"
   ]
  },
  {
   "cell_type": "code",
   "execution_count": 124,
   "metadata": {},
   "outputs": [],
   "source": [
    "#替换值\n",
    "data.replace(to_replace='No phone service',value='No',inplace=True)\n",
    "data.replace(to_replace='No internet service',value='No',inplace=True)"
   ]
  },
  {
   "cell_type": "code",
   "execution_count": 64,
   "metadata": {},
   "outputs": [
    {
     "name": "stdout",
     "output_type": "stream",
     "text": [
      "用户ID -- ['7590-VHVEG' '5575-GNVDE' '3668-QPYBK' ... '4801-JZAZL' '8361-LTMKD'\n",
      " '3186-AJIEK']\n",
      "性别 -- ['Female' 'Male']\n",
      "是否有配偶 -- ['Yes' 'No']\n",
      "是否经济独立 -- ['No' 'Yes']\n",
      "是否开通电话服务业务 -- ['No' 'Yes']\n",
      "是否开通了多线业务 -- ['No' 'Yes']\n",
      "是否开通互联网服务 -- ['DSL' 'Fiber optic' 'No']\n",
      "是否开通网络安全服务 -- ['No' 'Yes']\n",
      "是否开通在线备份业务 -- ['Yes' 'No']\n",
      "是否开通了设备保护业务 -- ['No' 'Yes']\n",
      "是否开通了技术支持服务 -- ['No' 'Yes']\n",
      "是否开通网络电视 -- ['No' 'Yes']\n",
      "是否开通网络电影 -- ['No' 'Yes']\n",
      "签订合同方式 -- ['Month-to-month' 'One year' 'Two year']\n",
      "是否开通电子账单 -- ['Yes' 'No']\n",
      "付款方式 -- ['Electronic check' 'Mailed check' 'Bank transfer (automatic)'\n",
      " 'Credit card (automatic)']\n",
      "该用户是否流失 -- ['No' 'Yes']\n"
     ]
    }
   ],
   "source": [
    "#查看替换成功\n",
    "for i in range(0,len(telcomobject.columns)):\n",
    "    uni(telcomobject.columns[i])"
   ]
  },
  {
   "cell_type": "code",
   "execution_count": 125,
   "metadata": {},
   "outputs": [],
   "source": [
    "#用户ID与流失无关，因此可直接删掉\n",
    "data.drop('用户ID',axis=1,inplace=True)"
   ]
  },
  {
   "cell_type": "code",
   "execution_count": 116,
   "metadata": {},
   "outputs": [
    {
     "data": {
      "text/html": [
       "<div>\n",
       "<style scoped>\n",
       "    .dataframe tbody tr th:only-of-type {\n",
       "        vertical-align: middle;\n",
       "    }\n",
       "\n",
       "    .dataframe tbody tr th {\n",
       "        vertical-align: top;\n",
       "    }\n",
       "\n",
       "    .dataframe thead th {\n",
       "        text-align: right;\n",
       "    }\n",
       "</style>\n",
       "<table border=\"1\" class=\"dataframe\">\n",
       "  <thead>\n",
       "    <tr style=\"text-align: right;\">\n",
       "      <th></th>\n",
       "      <th>0</th>\n",
       "      <th>1</th>\n",
       "      <th>2</th>\n",
       "      <th>3</th>\n",
       "      <th>4</th>\n",
       "    </tr>\n",
       "  </thead>\n",
       "  <tbody>\n",
       "    <tr>\n",
       "      <th>性别</th>\n",
       "      <td>Female</td>\n",
       "      <td>Male</td>\n",
       "      <td>Male</td>\n",
       "      <td>Male</td>\n",
       "      <td>Female</td>\n",
       "    </tr>\n",
       "    <tr>\n",
       "      <th>老年人</th>\n",
       "      <td>No</td>\n",
       "      <td>No</td>\n",
       "      <td>No</td>\n",
       "      <td>No</td>\n",
       "      <td>No</td>\n",
       "    </tr>\n",
       "    <tr>\n",
       "      <th>是否有配偶</th>\n",
       "      <td>Yes</td>\n",
       "      <td>No</td>\n",
       "      <td>No</td>\n",
       "      <td>No</td>\n",
       "      <td>No</td>\n",
       "    </tr>\n",
       "    <tr>\n",
       "      <th>是否经济独立</th>\n",
       "      <td>No</td>\n",
       "      <td>No</td>\n",
       "      <td>No</td>\n",
       "      <td>No</td>\n",
       "      <td>No</td>\n",
       "    </tr>\n",
       "    <tr>\n",
       "      <th>客户的职位</th>\n",
       "      <td>1</td>\n",
       "      <td>34</td>\n",
       "      <td>2</td>\n",
       "      <td>45</td>\n",
       "      <td>2</td>\n",
       "    </tr>\n",
       "    <tr>\n",
       "      <th>是否开通电话服务业务</th>\n",
       "      <td>No</td>\n",
       "      <td>Yes</td>\n",
       "      <td>Yes</td>\n",
       "      <td>No</td>\n",
       "      <td>Yes</td>\n",
       "    </tr>\n",
       "    <tr>\n",
       "      <th>是否开通了多线业务</th>\n",
       "      <td>No</td>\n",
       "      <td>No</td>\n",
       "      <td>No</td>\n",
       "      <td>No</td>\n",
       "      <td>No</td>\n",
       "    </tr>\n",
       "    <tr>\n",
       "      <th>是否开通互联网服务</th>\n",
       "      <td>DSL</td>\n",
       "      <td>DSL</td>\n",
       "      <td>DSL</td>\n",
       "      <td>DSL</td>\n",
       "      <td>Fiber optic</td>\n",
       "    </tr>\n",
       "    <tr>\n",
       "      <th>是否开通网络安全服务</th>\n",
       "      <td>No</td>\n",
       "      <td>Yes</td>\n",
       "      <td>Yes</td>\n",
       "      <td>Yes</td>\n",
       "      <td>No</td>\n",
       "    </tr>\n",
       "    <tr>\n",
       "      <th>是否开通在线备份业务</th>\n",
       "      <td>Yes</td>\n",
       "      <td>No</td>\n",
       "      <td>Yes</td>\n",
       "      <td>No</td>\n",
       "      <td>No</td>\n",
       "    </tr>\n",
       "    <tr>\n",
       "      <th>是否开通了设备保护业务</th>\n",
       "      <td>No</td>\n",
       "      <td>Yes</td>\n",
       "      <td>No</td>\n",
       "      <td>Yes</td>\n",
       "      <td>No</td>\n",
       "    </tr>\n",
       "    <tr>\n",
       "      <th>是否开通了技术支持服务</th>\n",
       "      <td>No</td>\n",
       "      <td>No</td>\n",
       "      <td>No</td>\n",
       "      <td>Yes</td>\n",
       "      <td>No</td>\n",
       "    </tr>\n",
       "    <tr>\n",
       "      <th>是否开通网络电视</th>\n",
       "      <td>No</td>\n",
       "      <td>No</td>\n",
       "      <td>No</td>\n",
       "      <td>No</td>\n",
       "      <td>No</td>\n",
       "    </tr>\n",
       "    <tr>\n",
       "      <th>是否开通网络电影</th>\n",
       "      <td>No</td>\n",
       "      <td>No</td>\n",
       "      <td>No</td>\n",
       "      <td>No</td>\n",
       "      <td>No</td>\n",
       "    </tr>\n",
       "    <tr>\n",
       "      <th>签订合同方式</th>\n",
       "      <td>Month-to-month</td>\n",
       "      <td>One year</td>\n",
       "      <td>Month-to-month</td>\n",
       "      <td>One year</td>\n",
       "      <td>Month-to-month</td>\n",
       "    </tr>\n",
       "    <tr>\n",
       "      <th>是否开通电子账单</th>\n",
       "      <td>Yes</td>\n",
       "      <td>No</td>\n",
       "      <td>Yes</td>\n",
       "      <td>No</td>\n",
       "      <td>Yes</td>\n",
       "    </tr>\n",
       "    <tr>\n",
       "      <th>付款方式</th>\n",
       "      <td>Electronic check</td>\n",
       "      <td>Mailed check</td>\n",
       "      <td>Mailed check</td>\n",
       "      <td>Bank transfer (automatic)</td>\n",
       "      <td>Electronic check</td>\n",
       "    </tr>\n",
       "    <tr>\n",
       "      <th>月费用</th>\n",
       "      <td>29.85</td>\n",
       "      <td>56.95</td>\n",
       "      <td>53.85</td>\n",
       "      <td>42.3</td>\n",
       "      <td>70.7</td>\n",
       "    </tr>\n",
       "    <tr>\n",
       "      <th>总费用</th>\n",
       "      <td>29.85</td>\n",
       "      <td>1889.5</td>\n",
       "      <td>108.15</td>\n",
       "      <td>1840.75</td>\n",
       "      <td>151.65</td>\n",
       "    </tr>\n",
       "  </tbody>\n",
       "</table>\n",
       "</div>"
      ],
      "text/plain": [
       "                            0             1               2  \\\n",
       "性别                     Female          Male            Male   \n",
       "老年人                        No            No              No   \n",
       "是否有配偶                     Yes            No              No   \n",
       "是否经济独立                     No            No              No   \n",
       "客户的职位                       1            34               2   \n",
       "是否开通电话服务业务                 No           Yes             Yes   \n",
       "是否开通了多线业务                  No            No              No   \n",
       "是否开通互联网服务                 DSL           DSL             DSL   \n",
       "是否开通网络安全服务                 No           Yes             Yes   \n",
       "是否开通在线备份业务                Yes            No             Yes   \n",
       "是否开通了设备保护业务                No           Yes              No   \n",
       "是否开通了技术支持服务                No            No              No   \n",
       "是否开通网络电视                   No            No              No   \n",
       "是否开通网络电影                   No            No              No   \n",
       "签订合同方式         Month-to-month      One year  Month-to-month   \n",
       "是否开通电子账单                  Yes            No             Yes   \n",
       "付款方式         Electronic check  Mailed check    Mailed check   \n",
       "月费用                     29.85         56.95           53.85   \n",
       "总费用                     29.85        1889.5          108.15   \n",
       "\n",
       "                                     3                 4  \n",
       "性别                                Male            Female  \n",
       "老年人                                 No                No  \n",
       "是否有配偶                               No                No  \n",
       "是否经济独立                              No                No  \n",
       "客户的职位                               45                 2  \n",
       "是否开通电话服务业务                          No               Yes  \n",
       "是否开通了多线业务                           No                No  \n",
       "是否开通互联网服务                          DSL       Fiber optic  \n",
       "是否开通网络安全服务                         Yes                No  \n",
       "是否开通在线备份业务                          No                No  \n",
       "是否开通了设备保护业务                        Yes                No  \n",
       "是否开通了技术支持服务                        Yes                No  \n",
       "是否开通网络电视                            No                No  \n",
       "是否开通网络电影                            No                No  \n",
       "签订合同方式                        One year    Month-to-month  \n",
       "是否开通电子账单                            No               Yes  \n",
       "付款方式         Bank transfer (automatic)  Electronic check  \n",
       "月费用                               42.3              70.7  \n",
       "总费用                            1840.75            151.65  "
      ]
     },
     "execution_count": 116,
     "metadata": {},
     "output_type": "execute_result"
    }
   ],
   "source": [
    "data.head().T"
   ]
  },
  {
   "cell_type": "code",
   "execution_count": 126,
   "metadata": {},
   "outputs": [],
   "source": [
    "Dict ={1:'YES',0:'No'}\n",
    "data['老年人'] = data['老年人'].map(Dict)"
   ]
  },
  {
   "cell_type": "code",
   "execution_count": 127,
   "metadata": {},
   "outputs": [],
   "source": [
    "#用户是否流失是分类的标签，因此首先将其提取出来\n",
    "target = data.iloc[:,-1]\n",
    "data.drop('该用户是否流失',axis=1,inplace=True)"
   ]
  },
  {
   "cell_type": "code",
   "execution_count": 128,
   "metadata": {},
   "outputs": [],
   "source": [
    "YN_Dict = {'Yes':1,'No':0}\n",
    "target = target.map(YN_Dict)"
   ]
  },
  {
   "cell_type": "code",
   "execution_count": 129,
   "metadata": {},
   "outputs": [
    {
     "data": {
      "text/plain": [
       "0       0\n",
       "1       0\n",
       "2       1\n",
       "3       0\n",
       "4       1\n",
       "       ..\n",
       "7038    0\n",
       "7039    0\n",
       "7040    0\n",
       "7041    1\n",
       "7042    0\n",
       "Name: 该用户是否流失, Length: 7032, dtype: int64"
      ]
     },
     "execution_count": 129,
     "metadata": {},
     "output_type": "execute_result"
    }
   ],
   "source": [
    "target"
   ]
  },
  {
   "cell_type": "raw",
   "metadata": {},
   "source": [
    "同时，对于Yes/No这类字符串类型的，我们对其采用one-hot编码"
   ]
  },
  {
   "cell_type": "code",
   "execution_count": 130,
   "metadata": {},
   "outputs": [],
   "source": [
    "label = ['性别','老年人','是否有配偶','是否经济独立','是否开通电话服务业务','是否开通了多线业务'\n",
    "          ,'是否开通互联网服务','是否开通网络安全服务','是否开通在线备份业务','是否开通了设备保护业务','是否开通了技术支持服务'\n",
    "          ,'是否开通网络电视','是否开通网络电影','签订合同方式','是否开通电子账单','付款方式']\n",
    "dummy = pd.get_dummies(data[label],drop_first=True)\n",
    "data = data.join(dummy).drop(label,axis=1)"
   ]
  },
  {
   "cell_type": "code",
   "execution_count": 131,
   "metadata": {},
   "outputs": [
    {
     "data": {
      "text/plain": [
       "(7032, 23)"
      ]
     },
     "execution_count": 131,
     "metadata": {},
     "output_type": "execute_result"
    }
   ],
   "source": [
    "data.shape"
   ]
  },
  {
   "cell_type": "code",
   "execution_count": 132,
   "metadata": {},
   "outputs": [
    {
     "data": {
      "text/html": [
       "<div>\n",
       "<style scoped>\n",
       "    .dataframe tbody tr th:only-of-type {\n",
       "        vertical-align: middle;\n",
       "    }\n",
       "\n",
       "    .dataframe tbody tr th {\n",
       "        vertical-align: top;\n",
       "    }\n",
       "\n",
       "    .dataframe thead th {\n",
       "        text-align: right;\n",
       "    }\n",
       "</style>\n",
       "<table border=\"1\" class=\"dataframe\">\n",
       "  <thead>\n",
       "    <tr style=\"text-align: right;\">\n",
       "      <th></th>\n",
       "      <th>0</th>\n",
       "      <th>1</th>\n",
       "      <th>2</th>\n",
       "      <th>3</th>\n",
       "      <th>4</th>\n",
       "    </tr>\n",
       "  </thead>\n",
       "  <tbody>\n",
       "    <tr>\n",
       "      <th>客户的职位</th>\n",
       "      <td>1.00</td>\n",
       "      <td>34.00</td>\n",
       "      <td>2.00</td>\n",
       "      <td>45.00</td>\n",
       "      <td>2.00</td>\n",
       "    </tr>\n",
       "    <tr>\n",
       "      <th>月费用</th>\n",
       "      <td>29.85</td>\n",
       "      <td>56.95</td>\n",
       "      <td>53.85</td>\n",
       "      <td>42.30</td>\n",
       "      <td>70.70</td>\n",
       "    </tr>\n",
       "    <tr>\n",
       "      <th>总费用</th>\n",
       "      <td>29.85</td>\n",
       "      <td>1889.50</td>\n",
       "      <td>108.15</td>\n",
       "      <td>1840.75</td>\n",
       "      <td>151.65</td>\n",
       "    </tr>\n",
       "    <tr>\n",
       "      <th>性别_Male</th>\n",
       "      <td>0.00</td>\n",
       "      <td>1.00</td>\n",
       "      <td>1.00</td>\n",
       "      <td>1.00</td>\n",
       "      <td>0.00</td>\n",
       "    </tr>\n",
       "    <tr>\n",
       "      <th>老年人_YES</th>\n",
       "      <td>0.00</td>\n",
       "      <td>0.00</td>\n",
       "      <td>0.00</td>\n",
       "      <td>0.00</td>\n",
       "      <td>0.00</td>\n",
       "    </tr>\n",
       "    <tr>\n",
       "      <th>是否有配偶_Yes</th>\n",
       "      <td>1.00</td>\n",
       "      <td>0.00</td>\n",
       "      <td>0.00</td>\n",
       "      <td>0.00</td>\n",
       "      <td>0.00</td>\n",
       "    </tr>\n",
       "    <tr>\n",
       "      <th>是否经济独立_Yes</th>\n",
       "      <td>0.00</td>\n",
       "      <td>0.00</td>\n",
       "      <td>0.00</td>\n",
       "      <td>0.00</td>\n",
       "      <td>0.00</td>\n",
       "    </tr>\n",
       "    <tr>\n",
       "      <th>是否开通电话服务业务_Yes</th>\n",
       "      <td>0.00</td>\n",
       "      <td>1.00</td>\n",
       "      <td>1.00</td>\n",
       "      <td>0.00</td>\n",
       "      <td>1.00</td>\n",
       "    </tr>\n",
       "    <tr>\n",
       "      <th>是否开通了多线业务_Yes</th>\n",
       "      <td>0.00</td>\n",
       "      <td>0.00</td>\n",
       "      <td>0.00</td>\n",
       "      <td>0.00</td>\n",
       "      <td>0.00</td>\n",
       "    </tr>\n",
       "    <tr>\n",
       "      <th>是否开通互联网服务_Fiber optic</th>\n",
       "      <td>0.00</td>\n",
       "      <td>0.00</td>\n",
       "      <td>0.00</td>\n",
       "      <td>0.00</td>\n",
       "      <td>1.00</td>\n",
       "    </tr>\n",
       "    <tr>\n",
       "      <th>是否开通互联网服务_No</th>\n",
       "      <td>0.00</td>\n",
       "      <td>0.00</td>\n",
       "      <td>0.00</td>\n",
       "      <td>0.00</td>\n",
       "      <td>0.00</td>\n",
       "    </tr>\n",
       "    <tr>\n",
       "      <th>是否开通网络安全服务_Yes</th>\n",
       "      <td>0.00</td>\n",
       "      <td>1.00</td>\n",
       "      <td>1.00</td>\n",
       "      <td>1.00</td>\n",
       "      <td>0.00</td>\n",
       "    </tr>\n",
       "    <tr>\n",
       "      <th>是否开通在线备份业务_Yes</th>\n",
       "      <td>1.00</td>\n",
       "      <td>0.00</td>\n",
       "      <td>1.00</td>\n",
       "      <td>0.00</td>\n",
       "      <td>0.00</td>\n",
       "    </tr>\n",
       "    <tr>\n",
       "      <th>是否开通了设备保护业务_Yes</th>\n",
       "      <td>0.00</td>\n",
       "      <td>1.00</td>\n",
       "      <td>0.00</td>\n",
       "      <td>1.00</td>\n",
       "      <td>0.00</td>\n",
       "    </tr>\n",
       "    <tr>\n",
       "      <th>是否开通了技术支持服务_Yes</th>\n",
       "      <td>0.00</td>\n",
       "      <td>0.00</td>\n",
       "      <td>0.00</td>\n",
       "      <td>1.00</td>\n",
       "      <td>0.00</td>\n",
       "    </tr>\n",
       "    <tr>\n",
       "      <th>是否开通网络电视_Yes</th>\n",
       "      <td>0.00</td>\n",
       "      <td>0.00</td>\n",
       "      <td>0.00</td>\n",
       "      <td>0.00</td>\n",
       "      <td>0.00</td>\n",
       "    </tr>\n",
       "    <tr>\n",
       "      <th>是否开通网络电影_Yes</th>\n",
       "      <td>0.00</td>\n",
       "      <td>0.00</td>\n",
       "      <td>0.00</td>\n",
       "      <td>0.00</td>\n",
       "      <td>0.00</td>\n",
       "    </tr>\n",
       "    <tr>\n",
       "      <th>签订合同方式_One year</th>\n",
       "      <td>0.00</td>\n",
       "      <td>1.00</td>\n",
       "      <td>0.00</td>\n",
       "      <td>1.00</td>\n",
       "      <td>0.00</td>\n",
       "    </tr>\n",
       "    <tr>\n",
       "      <th>签订合同方式_Two year</th>\n",
       "      <td>0.00</td>\n",
       "      <td>0.00</td>\n",
       "      <td>0.00</td>\n",
       "      <td>0.00</td>\n",
       "      <td>0.00</td>\n",
       "    </tr>\n",
       "    <tr>\n",
       "      <th>是否开通电子账单_Yes</th>\n",
       "      <td>1.00</td>\n",
       "      <td>0.00</td>\n",
       "      <td>1.00</td>\n",
       "      <td>0.00</td>\n",
       "      <td>1.00</td>\n",
       "    </tr>\n",
       "    <tr>\n",
       "      <th>付款方式_Credit card (automatic)</th>\n",
       "      <td>0.00</td>\n",
       "      <td>0.00</td>\n",
       "      <td>0.00</td>\n",
       "      <td>0.00</td>\n",
       "      <td>0.00</td>\n",
       "    </tr>\n",
       "    <tr>\n",
       "      <th>付款方式_Electronic check</th>\n",
       "      <td>1.00</td>\n",
       "      <td>0.00</td>\n",
       "      <td>0.00</td>\n",
       "      <td>0.00</td>\n",
       "      <td>1.00</td>\n",
       "    </tr>\n",
       "    <tr>\n",
       "      <th>付款方式_Mailed check</th>\n",
       "      <td>0.00</td>\n",
       "      <td>1.00</td>\n",
       "      <td>1.00</td>\n",
       "      <td>0.00</td>\n",
       "      <td>0.00</td>\n",
       "    </tr>\n",
       "  </tbody>\n",
       "</table>\n",
       "</div>"
      ],
      "text/plain": [
       "                                  0        1       2        3       4\n",
       "客户的职位                          1.00    34.00    2.00    45.00    2.00\n",
       "月费用                           29.85    56.95   53.85    42.30   70.70\n",
       "总费用                           29.85  1889.50  108.15  1840.75  151.65\n",
       "性别_Male                        0.00     1.00    1.00     1.00    0.00\n",
       "老年人_YES                        0.00     0.00    0.00     0.00    0.00\n",
       "是否有配偶_Yes                      1.00     0.00    0.00     0.00    0.00\n",
       "是否经济独立_Yes                     0.00     0.00    0.00     0.00    0.00\n",
       "是否开通电话服务业务_Yes                 0.00     1.00    1.00     0.00    1.00\n",
       "是否开通了多线业务_Yes                  0.00     0.00    0.00     0.00    0.00\n",
       "是否开通互联网服务_Fiber optic          0.00     0.00    0.00     0.00    1.00\n",
       "是否开通互联网服务_No                   0.00     0.00    0.00     0.00    0.00\n",
       "是否开通网络安全服务_Yes                 0.00     1.00    1.00     1.00    0.00\n",
       "是否开通在线备份业务_Yes                 1.00     0.00    1.00     0.00    0.00\n",
       "是否开通了设备保护业务_Yes                0.00     1.00    0.00     1.00    0.00\n",
       "是否开通了技术支持服务_Yes                0.00     0.00    0.00     1.00    0.00\n",
       "是否开通网络电视_Yes                   0.00     0.00    0.00     0.00    0.00\n",
       "是否开通网络电影_Yes                   0.00     0.00    0.00     0.00    0.00\n",
       "签订合同方式_One year                0.00     1.00    0.00     1.00    0.00\n",
       "签订合同方式_Two year                0.00     0.00    0.00     0.00    0.00\n",
       "是否开通电子账单_Yes                   1.00     0.00    1.00     0.00    1.00\n",
       "付款方式_Credit card (automatic)   0.00     0.00    0.00     0.00    0.00\n",
       "付款方式_Electronic check          1.00     0.00    0.00     0.00    1.00\n",
       "付款方式_Mailed check              0.00     1.00    1.00     0.00    0.00"
      ]
     },
     "execution_count": 132,
     "metadata": {},
     "output_type": "execute_result"
    }
   ],
   "source": [
    "data.head().T"
   ]
  },
  {
   "cell_type": "markdown",
   "metadata": {},
   "source": [
    "# 特征选择"
   ]
  },
  {
   "cell_type": "code",
   "execution_count": 133,
   "metadata": {},
   "outputs": [
    {
     "data": {
      "text/plain": [
       "0.8037544048234839"
      ]
     },
     "execution_count": 133,
     "metadata": {},
     "output_type": "execute_result"
    }
   ],
   "source": [
    "from sklearn.linear_model import LogisticRegression as LR\n",
    "from sklearn.model_selection import cross_val_score\n",
    "from sklearn.feature_selection import SelectFromModel\n",
    "\n",
    "lr = LR(solver='liblinear',C=0.9,random_state=420)\n",
    "cross_val_score(lr,data,target,cv=10).mean()"
   ]
  },
  {
   "cell_type": "code",
   "execution_count": 134,
   "metadata": {},
   "outputs": [],
   "source": [
    "lr.fit(data,target)\n",
    "coef = lr.coef_.tolist()[0]"
   ]
  },
  {
   "cell_type": "code",
   "execution_count": 135,
   "metadata": {},
   "outputs": [
    {
     "data": {
      "text/plain": [
       "<matplotlib.axes._subplots.AxesSubplot at 0x26f3da2d0c8>"
      ]
     },
     "execution_count": 135,
     "metadata": {},
     "output_type": "execute_result"
    },
    {
     "data": {
      "image/png": "[encoded data removed]",
      "text/plain": [
       "<Figure size 1800x1800 with 1 Axes>"
      ]
     },
     "metadata": {
      "needs_background": "light"
     },
     "output_type": "display_data"
    }
   ],
   "source": [
    "coef = list(map(lambda x : abs(x),coef))\n",
    "\n",
    "features = pd.DataFrame()\n",
    "features['feature'] = data.columns\n",
    "features['importance'] = coef\n",
    "features.sort_values(by=['importance'], ascending=True, inplace=True)\n",
    "features.set_index('feature', inplace=True)\n",
    "features.plot(kind='barh', figsize=(25, 25))"
   ]
  },
  {
   "cell_type": "code",
   "execution_count": 136,
   "metadata": {},
   "outputs": [
    {
     "data": {
      "text/plain": [
       "(7032, 9)"
      ]
     },
     "execution_count": 136,
     "metadata": {},
     "output_type": "execute_result"
    }
   ],
   "source": [
    "#根据系数权重选择特征，并将样本分成训练集和测试集。\n",
    "x_embedded = SelectFromModel(lr,threshold='mean').fit_transform(data,target)\n",
    "x_embedded.shape"
   ]
  },
  {
   "cell_type": "code",
   "execution_count": 137,
   "metadata": {},
   "outputs": [
    {
     "data": {
      "text/plain": [
       "0.7841286935859305"
      ]
     },
     "execution_count": 137,
     "metadata": {},
     "output_type": "execute_result"
    }
   ],
   "source": [
    "cross_val_score(lr,x_embedded,target,cv=10).mean()"
   ]
  },
  {
   "cell_type": "code",
   "execution_count": 138,
   "metadata": {},
   "outputs": [],
   "source": [
    "#模型虽然效果降低2%，但特征少了14个，划分训练集和测试集\n",
    "from sklearn.model_selection import train_test_split\n",
    "X_train,X_test,Y_train,Y_test = train_test_split(x_embedded,target,train_size=0.3,random_state=420)"
   ]
  },
  {
   "cell_type": "markdown",
   "metadata": {},
   "source": [
    "# 评估模型"
   ]
  },
  {
   "cell_type": "code",
   "execution_count": 139,
   "metadata": {},
   "outputs": [
    {
     "data": {
      "text/plain": [
       "LogisticRegression(C=0.09, class_weight=None, dual=False, fit_intercept=True,\n",
       "                   intercept_scaling=1, l1_ratio=None, max_iter=100,\n",
       "                   multi_class='auto', n_jobs=None, penalty='l2',\n",
       "                   random_state=420, solver='liblinear', tol=0.0001, verbose=0,\n",
       "                   warm_start=False)"
      ]
     },
     "execution_count": 139,
     "metadata": {},
     "output_type": "execute_result"
    }
   ],
   "source": [
    "lr = LR(solver=\"liblinear\",C=0.09,random_state=420)\n",
    "lr.fit(X_train,Y_train)"
   ]
  },
  {
   "cell_type": "code",
   "execution_count": 140,
   "metadata": {},
   "outputs": [],
   "source": [
    "y_pred_train = lr.predict(X_train)\n",
    "y_pred_test = lr.predict(X_test)"
   ]
  },
  {
   "cell_type": "code",
   "execution_count": 141,
   "metadata": {},
   "outputs": [
    {
     "data": {
      "text/plain": [
       "array([[1453,  121],\n",
       "       [ 326,  209]], dtype=int64)"
      ]
     },
     "execution_count": 141,
     "metadata": {},
     "output_type": "execute_result"
    }
   ],
   "source": [
    "from sklearn.metrics import confusion_matrix#混淆矩阵\n",
    "from sklearn.metrics import accuracy_score#所有分类正确的百分比\n",
    "from sklearn.metrics import classification_report#精确度/召回率/F1值\n",
    "confusion_matrix(Y_train,y_pred_train)"
   ]
  },
  {
   "cell_type": "code",
   "execution_count": 142,
   "metadata": {},
   "outputs": [
    {
     "data": {
      "text/plain": [
       "array([[3339,  250],\n",
       "       [ 835,  499]], dtype=int64)"
      ]
     },
     "execution_count": 142,
     "metadata": {},
     "output_type": "execute_result"
    }
   ],
   "source": [
    "confusion_matrix(Y_test,y_pred_test)"
   ]
  },
  {
   "cell_type": "code",
   "execution_count": 143,
   "metadata": {},
   "outputs": [
    {
     "name": "stdout",
     "output_type": "stream",
     "text": [
      "斜率: [[-0.365128    0.62348037 -0.73088441 -0.43482233 -0.53896886 -1.05907582\n",
      "  -1.44819851  0.21602621  0.49329136]]\n",
      "截距: [-0.60989964]\n",
      "训练集精确率: 0.7880512091038406\n"
     ]
    }
   ],
   "source": [
    "print('斜率:',lr.coef_)\n",
    "print('截距:',lr.intercept_)\n",
    "print('训练集精确率:',accuracy_score(Y_train,y_pred_train))"
   ]
  },
  {
   "cell_type": "code",
   "execution_count": 144,
   "metadata": {},
   "outputs": [
    {
     "name": "stdout",
     "output_type": "stream",
     "text": [
      "测试集精确率: 0.7796059313426772\n"
     ]
    }
   ],
   "source": [
    "print('测试集精确率:',accuracy_score(Y_test,y_pred_test))"
   ]
  },
  {
   "cell_type": "code",
   "execution_count": 145,
   "metadata": {},
   "outputs": [
    {
     "name": "stdout",
     "output_type": "stream",
     "text": [
      "训练集查全率及查准率:\n",
      "              precision    recall  f1-score   support\n",
      "\n",
      "           0       0.82      0.92      0.87      1574\n",
      "           1       0.63      0.39      0.48       535\n",
      "\n",
      "    accuracy                           0.79      2109\n",
      "   macro avg       0.73      0.66      0.67      2109\n",
      "weighted avg       0.77      0.79      0.77      2109\n",
      "\n"
     ]
    }
   ],
   "source": [
    "print('训练集查全率及查准率:')\n",
    "print(classification_report(Y_train,y_pred_train))"
   ]
  },
  {
   "cell_type": "code",
   "execution_count": 146,
   "metadata": {},
   "outputs": [
    {
     "name": "stdout",
     "output_type": "stream",
     "text": [
      "测试集查全率及查准率:\n",
      "              precision    recall  f1-score   support\n",
      "\n",
      "           0       0.80      0.93      0.86      3589\n",
      "           1       0.67      0.37      0.48      1334\n",
      "\n",
      "    accuracy                           0.78      4923\n",
      "   macro avg       0.73      0.65      0.67      4923\n",
      "weighted avg       0.76      0.78      0.76      4923\n",
      "\n"
     ]
    }
   ],
   "source": [
    "print('测试集查全率及查准率:')\n",
    "print(classification_report(Y_test,y_pred_test))"
   ]
  },
  {
   "cell_type": "code",
   "execution_count": 147,
   "metadata": {},
   "outputs": [],
   "source": [
    "from sklearn import metrics\n",
    "fpr,tpr,auc = metrics.roc_curve(Y_train,y_pred_train)\n",
    "roc_auc = metrics.auc(fpr,tpr)"
   ]
  },
  {
   "cell_type": "code",
   "execution_count": 148,
   "metadata": {},
   "outputs": [
    {
     "data": {
      "text/plain": [
       "0.6568899998812479"
      ]
     },
     "execution_count": 148,
     "metadata": {},
     "output_type": "execute_result"
    }
   ],
   "source": [
    "roc_auc"
   ]
  },
  {
   "cell_type": "raw",
   "metadata": {},
   "source": [
    "由于本次逻辑回归用于预测用户是否会流失，那么FN的情况是需要避免的，即将会流失的客户判断为不流失，这会造成较大损失，因此应着重关注FNR即TPR。"
   ]
  },
  {
   "cell_type": "raw",
   "metadata": {},
   "source": [
    "通过上述分析，我们可以大致勾勒出容易流失的用户特征：\n",
    "老年用户与未婚且经济未独立的青少年用户更容易流失。\n",
    "提供的各项网络服务项目能够降低用户的流失率。\n",
    "签订合同越久，用户的留存率越高。\n",
    "采用electronic check支付的用户更易流失。\n",
    "针对上述诊断结果，可有针对性的对此提出建议：\n",
    "推荐老年用户与青少年用户采用数字网络，且签订2年期合同（可以各种辅助优惠等营销手段来提高2年期合同的签订率），若能开通相关网络服务可增加用户粘性，因此可增加这块业务的推广，同时考虑改善电子账单支付的用户体验。"
   ]
  }
 ],
 "metadata": {
  "kernelspec": {
   "display_name": "Python 3",
   "language": "python",
   "name": "python3"
  },
  "language_info": {
   "codemirror_mode": {
    "name": "ipython",
    "version": 3
   },
   "file_extension": ".py",
   "mimetype": "text/x-python",
   "name": "python",
   "nbconvert_exporter": "python",
   "pygments_lexer": "ipython3",
   "version": "3.7.6"
  }
 },
 "nbformat": 4,
 "nbformat_minor": 4
}
