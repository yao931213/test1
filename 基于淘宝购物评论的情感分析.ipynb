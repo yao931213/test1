{
 "cells": [
  {
   "cell_type": "raw",
   "metadata": {},
   "source": [
    "随着网上购物越来越流行，人们对于网上购物的需求变得越来越高，这让京东，淘宝等电商平台得到了很大的发展机遇。但是，这种需求也推动了更多的电商平台的发展，引发了激烈的竞争。在这种电商平台激烈竞争的大背景下，除了提高商品质量，压低商品价格外，了解更多的消费者心声对于电商平台来说也越来越重要。其中非常重要的一种方式就是针对消费者的文本评论数据进行内在信息的数据挖掘分析。而得到这些信息，也有利于对应商品的生产自身竞争力的提高。"
   ]
  },
  {
   "cell_type": "markdown",
   "metadata": {},
   "source": [
    "# 一、数据准备"
   ]
  },
  {
   "cell_type": "code",
   "execution_count": 7,
   "metadata": {},
   "outputs": [
    {
     "data": {
      "text/html": [
       "<div>\n",
       "<style scoped>\n",
       "    .dataframe tbody tr th:only-of-type {\n",
       "        vertical-align: middle;\n",
       "    }\n",
       "\n",
       "    .dataframe tbody tr th {\n",
       "        vertical-align: top;\n",
       "    }\n",
       "\n",
       "    .dataframe thead th {\n",
       "        text-align: right;\n",
       "    }\n",
       "</style>\n",
       "<table border=\"1\" class=\"dataframe\">\n",
       "  <thead>\n",
       "    <tr style=\"text-align: right;\">\n",
       "      <th></th>\n",
       "      <th>抓取来源</th>\n",
       "      <th>搜索引擎</th>\n",
       "      <th>用户名</th>\n",
       "      <th>文章链接</th>\n",
       "      <th>发表日期</th>\n",
       "      <th>标题</th>\n",
       "      <th>内容</th>\n",
       "    </tr>\n",
       "  </thead>\n",
       "  <tbody>\n",
       "    <tr>\n",
       "      <th>0</th>\n",
       "      <td>天猫商城</td>\n",
       "      <td>天猫商城</td>\n",
       "      <td>豆***豆</td>\n",
       "      <td>https://detail.tmall.com/item.htm?id=545379144...</td>\n",
       "      <td>2017-07-23 06:42:02</td>\n",
       "      <td>Kiehl's科颜氏金盏花爽肤水250ml 平衡水油 舒缓痘痘</td>\n",
       "      <td>敏感混合偏油，用着很舒服，很快就吸收，一点也不油腻</td>\n",
       "    </tr>\n",
       "    <tr>\n",
       "      <th>1</th>\n",
       "      <td>天猫商城</td>\n",
       "      <td>天猫商城</td>\n",
       "      <td>佳***9</td>\n",
       "      <td>https://detail.tmall.com/item.htm?id=546626448...</td>\n",
       "      <td>2017-06-21 21:03:08</td>\n",
       "      <td>【11.19】Kiehl's科颜氏牛油果眼霜14/28g 舒缓眼周</td>\n",
       "      <td>很好 很水润</td>\n",
       "    </tr>\n",
       "    <tr>\n",
       "      <th>2</th>\n",
       "      <td>天猫商城</td>\n",
       "      <td>天猫商城</td>\n",
       "      <td>芳***代</td>\n",
       "      <td>https://detail.tmall.com/item.htm?id=545472503...</td>\n",
       "      <td>2017-09-20 08:40:15</td>\n",
       "      <td>Kiehl's科颜氏集焕白均衡亮肤淡斑精华液30ml 淡斑美白提亮</td>\n",
       "      <td>包装不错，物流发的顺丰，第二天到了。第一次用，效果总可以再评价。</td>\n",
       "    </tr>\n",
       "    <tr>\n",
       "      <th>3</th>\n",
       "      <td>天猫商城</td>\n",
       "      <td>天猫商城</td>\n",
       "      <td>于***4</td>\n",
       "      <td>https://detail.tmall.com/item.htm?id=546332901...</td>\n",
       "      <td>2017-11-08 09:32:56</td>\n",
       "      <td>Kiehl's科颜氏高保湿清爽洁面乳150ml 清爽洁面</td>\n",
       "      <td>洗完后不紧绷，洗感还不错。</td>\n",
       "    </tr>\n",
       "    <tr>\n",
       "      <th>4</th>\n",
       "      <td>天猫商城</td>\n",
       "      <td>天猫商城</td>\n",
       "      <td>h***1</td>\n",
       "      <td>https://detail.tmall.com/item.htm?id=545379144...</td>\n",
       "      <td>2017-08-23 12:21:03</td>\n",
       "      <td>Kiehl's科颜氏金盏花爽肤水250ml 平衡水油 舒缓痘痘</td>\n",
       "      <td>要是能和专卖店同步积分就好了。</td>\n",
       "    </tr>\n",
       "  </tbody>\n",
       "</table>\n",
       "</div>"
      ],
      "text/plain": [
       "   抓取来源  搜索引擎    用户名                                               文章链接  \\\n",
       "0  天猫商城  天猫商城  豆***豆  https://detail.tmall.com/item.htm?id=545379144...   \n",
       "1  天猫商城  天猫商城  佳***9  https://detail.tmall.com/item.htm?id=546626448...   \n",
       "2  天猫商城  天猫商城  芳***代  https://detail.tmall.com/item.htm?id=545472503...   \n",
       "3  天猫商城  天猫商城  于***4  https://detail.tmall.com/item.htm?id=546332901...   \n",
       "4  天猫商城  天猫商城  h***1  https://detail.tmall.com/item.htm?id=545379144...   \n",
       "\n",
       "                  发表日期                                 标题  \\\n",
       "0  2017-07-23 06:42:02    Kiehl's科颜氏金盏花爽肤水250ml 平衡水油 舒缓痘痘   \n",
       "1  2017-06-21 21:03:08  【11.19】Kiehl's科颜氏牛油果眼霜14/28g 舒缓眼周   \n",
       "2  2017-09-20 08:40:15  Kiehl's科颜氏集焕白均衡亮肤淡斑精华液30ml 淡斑美白提亮   \n",
       "3  2017-11-08 09:32:56       Kiehl's科颜氏高保湿清爽洁面乳150ml 清爽洁面   \n",
       "4  2017-08-23 12:21:03    Kiehl's科颜氏金盏花爽肤水250ml 平衡水油 舒缓痘痘   \n",
       "\n",
       "                                 内容  \n",
       "0         敏感混合偏油，用着很舒服，很快就吸收，一点也不油腻  \n",
       "1                            很好 很水润  \n",
       "2  包装不错，物流发的顺丰，第二天到了。第一次用，效果总可以再评价。  \n",
       "3                     洗完后不紧绷，洗感还不错。  \n",
       "4                   要是能和专卖店同步积分就好了。  "
      ]
     },
     "execution_count": 7,
     "metadata": {},
     "output_type": "execute_result"
    }
   ],
   "source": [
    "import pandas as pd\n",
    "import re\n",
    "import jieba.posseg as psg\n",
    "import numpy as np\n",
    "\n",
    "inputfile='D:\\数据分析\\文本分析试题.xlsx'\n",
    "data=pd.read_excel(inputfile,encoding='utf-8')\n",
    "data.head()"
   ]
  },
  {
   "cell_type": "code",
   "execution_count": 8,
   "metadata": {},
   "outputs": [
    {
     "data": {
      "text/plain": [
       "抓取来源    False\n",
       "搜索引擎    False\n",
       "用户名     False\n",
       "文章链接    False\n",
       "发表日期    False\n",
       "标题      False\n",
       "内容      False\n",
       "dtype: bool"
      ]
     },
     "execution_count": 8,
     "metadata": {},
     "output_type": "execute_result"
    }
   ],
   "source": [
    "data.isnull().any()"
   ]
  },
  {
   "cell_type": "code",
   "execution_count": 7,
   "metadata": {},
   "outputs": [
    {
     "data": {
      "text/plain": [
       "标题\n",
       "Kiehl's1号护唇膏15ML 丰盈持久保湿滋润补水淡化细纹原味         14\n",
       "Kiehl's科颜氏 先试后买试用包 多种功效 包邮 高保湿 金盏花      1414\n",
       "Kiehl's科颜氏1号护唇膏15ml 滋润防护 唇部打底           1466\n",
       "Kiehl's科颜氏丰润保湿水凝精华乳50ml 补水保湿缓解干纹         202\n",
       "Kiehl's科颜氏亚马逊白泥净肤面膜142g 白泥净肤 清洁毛孔       1594\n",
       "Kiehl's科颜氏亚马逊白泥净致洁面乳150ml 清洁毛孔           360\n",
       "Kiehl's科颜氏亚马逊白泥净致润肤乳75ml 收敛毛孔细腻肤质        134\n",
       "Kiehl's科颜氏夜间修护精华液30ml 熬夜党挚爱 修护           145\n",
       "Kiehl's科颜氏日间赋颜精华液30ml 减少黯沉修护焕亮             2\n",
       "Kiehl's科颜氏氨基椰香洗发啫喱250/500ml 洁净秀发蓬弹顺滑     335\n",
       "Kiehl's科颜氏清爽舒润爽肤水250ml 舒缓调理水油            246\n",
       "Kiehl's科颜氏清爽防晒隔离乳液SPF30+PA+++清爽防晒        216\n",
       "Kiehl's科颜氏男士保湿乳液 75ML 补水保湿 改善黯沉           48\n",
       "Kiehl's科颜氏男士活力洁面啫喱250ml 深层清洁 醒肤          230\n",
       "Kiehl's科颜氏男士活力重现精华乳液75ml 淡化细纹改善肤质        102\n",
       "Kiehl's科颜氏男士爽肤水250ml控油收敛 醒肤保湿            177\n",
       "Kiehl's科颜氏积雪草修护乳霜 75ml 敏肌修护舒缓             11\n",
       "Kiehl's科颜氏积雪草洁面乳 200ml 温和洁净舒缓敏感           16\n",
       "Kiehl's科颜氏精准清痘精华乳20ml 修护改善痘痘             127\n",
       "Kiehl's科颜氏维生素C紧肤精华乳液50ml 淡化细纹             75\n",
       "Kiehl's科颜氏蓝色草本净肤水 250ml 控油保湿滋润           265\n",
       "Kiehl's科颜氏蓝色草本洁面啫喱250ml 清洁毛孔 平衡水油         64\n",
       "Kiehl's科颜氏藜麦夜间焕肤精华液 30ml 调理角质 夜间修护        69\n",
       "Kiehl's科颜氏金盏花洁面啫喱230ml氨基酸洁面 温和净澈         589\n",
       "Kiehl's科颜氏金盏花爽肤水250ml 平衡水油 舒缓痘痘         1626\n",
       "Kiehl's科颜氏金盏花舒缓保湿面膜100ml温和舒缓保湿           225\n",
       "Kiehl's科颜氏集焕白净润保湿乳液50ml 水润亮白             167\n",
       "Kiehl's科颜氏集焕白净透爽肤水250ml 亮白莹润             220\n",
       "Kiehl's科颜氏集焕白均衡亮肤淡斑精华液30ml 淡斑美白提亮        562\n",
       "Kiehl's科颜氏高保湿洁面啫喱150ml 深层清洁温和滋润          319\n",
       "Kiehl's科颜氏高保湿清爽洁面乳150ml 清爽洁面             565\n",
       "Kiehl's科颜氏高保湿清爽面霜50ml 清爽保湿无负担           1423\n",
       "Kiehl's科颜氏高保湿精华爽肤水250ml 二次清洁             826\n",
       "Kiehl's科颜氏高保湿霜50ml+高保湿精华爽肤水250ml          59\n",
       "Kiehl's科颜氏高保湿面膜 125ml 睡眠面膜 补水保湿          165\n",
       "Kiehl's科颜氏高保湿面霜+金盏花爽肤水 保湿舒缓               82\n",
       "Kiehl's高保湿面霜50ml角鲨烷补水滋润锁水修护舒缓男女           80\n",
       "【11.19】Kiehl's科颜氏牛油果眼霜14/28g 舒缓眼周        777\n",
       "【感恩回馈】Kiehl's科颜氏高保湿霜50ml 保湿修护 缓解干燥      1146\n",
       "dtype: int64"
      ]
     },
     "execution_count": 7,
     "metadata": {},
     "output_type": "execute_result"
    }
   ],
   "source": [
    "#查看每个sku的评论数\n",
    "data.groupby(['标题']).size()"
   ]
  },
  {
   "cell_type": "code",
   "execution_count": 10,
   "metadata": {},
   "outputs": [
    {
     "data": {
      "text/plain": [
       "16143"
      ]
     },
     "execution_count": 10,
     "metadata": {},
     "output_type": "execute_result"
    }
   ],
   "source": [
    "l1=len(data)\n",
    "l1"
   ]
  },
  {
   "cell_type": "raw",
   "metadata": {},
   "source": [
    "总共16143条数据"
   ]
  },
  {
   "cell_type": "markdown",
   "metadata": {},
   "source": [
    "# 二、数据预处理"
   ]
  },
  {
   "cell_type": "raw",
   "metadata": {},
   "source": [
    "取到文本后，首先要进行文本评论数据的预处理，文本评论数据中存在大量价值含量很低甚至没有价值含量的条目，如果将这些评论也引入进行分词，词频统计，甚至情感分析，必然对分析造成很大的影响，得到的结果质量也必然存在问题。那么，在利用这些评论数据之前就必须对这些文本进行预处理，把大量的此类无价值含量的评论去除。"
   ]
  },
  {
   "cell_type": "markdown",
   "metadata": {},
   "source": [
    "# 2.1 文本评论去重"
   ]
  },
  {
   "cell_type": "raw",
   "metadata": {},
   "source": [
    "文本去重就是去除文本评论数据中重复的部分，一些电商平台为了避免一些客户长时间不进行评论，往往设置一道程序，如果用户超过规定的时间仍然没有做出评论，系统就会自动代替客户做出评论，往往这些评论大都是好评。但是，这些评论显然没有任何分析价值，而且，这些评论是大量重复出现的，必须去除。"
   ]
  },
  {
   "cell_type": "code",
   "execution_count": 11,
   "metadata": {},
   "outputs": [],
   "source": [
    "reviews=data[['内容']].drop_duplicates()"
   ]
  },
  {
   "cell_type": "code",
   "execution_count": 12,
   "metadata": {},
   "outputs": [],
   "source": [
    "content=reviews['内容']"
   ]
  },
  {
   "cell_type": "code",
   "execution_count": 13,
   "metadata": {},
   "outputs": [
    {
     "name": "stdout",
     "output_type": "stream",
     "text": [
      "共16143条评论，删除了3150条评论。\n"
     ]
    }
   ],
   "source": [
    "l2=len(content)\n",
    "print(u'共%s条评论，删除了%s条评论。' %(l1,l1 - l2))"
   ]
  },
  {
   "cell_type": "code",
   "execution_count": 14,
   "metadata": {},
   "outputs": [
    {
     "data": {
      "text/plain": [
       "0           敏感混合偏油，用着很舒服，很快就吸收，一点也不油腻\n",
       "1                              很好 很水润\n",
       "2    包装不错，物流发的顺丰，第二天到了。第一次用，效果总可以再评价。\n",
       "3                       洗完后不紧绷，洗感还不错。\n",
       "4                     要是能和专卖店同步积分就好了。\n",
       "Name: 内容, dtype: object"
      ]
     },
     "execution_count": 14,
     "metadata": {},
     "output_type": "execute_result"
    }
   ],
   "source": [
    "content.head()"
   ]
  },
  {
   "cell_type": "markdown",
   "metadata": {},
   "source": [
    "# 2.2 评论分词\n"
   ]
  },
  {
   "cell_type": "raw",
   "metadata": {},
   "source": [
    "1.对评论数据进行分词\n",
    "2.去除停用词\n",
    "分词是文本信息处理的基础环节，是将一个单词序列切分成单个单词的过程。准确地分词可以极大地提高计算机对文本信息的识别和理解能力。相反，不准确的分词将会产生大量的噪声，严重干扰计算机的识别理解能力，并对这些信息的后续处理工作产生较大的影响。\n",
    "停用词（Stop Words），词典译为“电脑检索中的虚字、非检索用字”。在SEO搜索引擎中，为节省存储空间和提高搜索效率，搜索引擎在索引页面或处理搜索请求时会自动忽略某些字或词，这些字或词即被称为停用词。"
   ]
  },
  {
   "cell_type": "code",
   "execution_count": 44,
   "metadata": {},
   "outputs": [],
   "source": [
    "import jieba.posseg as psg\n",
    "worker=lambda s:[(x.word,x.flag) for x in psg.cut(s)]#自定义简单分词函数\n",
    "seg_word=content.apply(worker)\n",
    "\n",
    "#将词语转为数据框形式，一列是词，一列是词语所在的句子id，最后一列是词语在该句子中的位置\n",
    "n_word=seg_word.apply(lambda x:len(x))#每一个评论中词的个数\n",
    "\n",
    "n_content=[[x+1]*y for x,y in zip(list(seg_word.index),list(n_word))]\n",
    "index_content=sum(n_content,[])# 将嵌套的列表展开，作为词所在评论的id\n",
    "\n",
    "seg_word=sum(seg_word,[])\n",
    "word=[x[0] for x in seg_word]#词\n",
    "\n",
    "nature = [x[1] for x in seg_word]  # 词性\n",
    "\n",
    "result=pd.DataFrame({\"index_content\":index_content,\n",
    "                    \"word\":word,\n",
    "                    \"nature\":nature})\n",
    "\n",
    "#删除标点符号\n",
    "result=result[result['nature']!='x']#x表示标点符号\n",
    "\n",
    "#删除停用词\n",
    "stop_path=open(\"D:/数据分析/stoplist.txt\",'r',encoding='utf-8')\n",
    "stop=stop_path.readlines()#readlines()方法读取整个文件所有行，保存在一个列表(list)变量中，每行作为一个元素，但读取大文件会比较占内存\n",
    "stop=[x.replace('\\n','') for x in stop]\n",
    "word=list(set(word)-set(stop))#set() 函数创建一个无序不重复元素集，可进行关系测试，删除重复数据，还可以计算交集、差集、并集等。减号表示差集\n",
    "result = result[result['word'].isin(word)]\n",
    "\n",
    "# 构造各词在对应评论的位置列\n",
    "n_word = list(result.groupby(by = ['index_content'])['index_content'].count())\n",
    "index_word = [list(np.arange(0, y)) for y in n_word]\n",
    "index_word = sum(index_word, [])  # 表示词语在改评论的位置\n",
    "\n",
    "# 合并评论id，评论中词的id，词，词性，评论类型\n",
    "result['index_word'] = index_word\n"
   ]
  },
  {
   "cell_type": "raw",
   "metadata": {},
   "source": [
    "2.提取含名词的评论\n",
    "由于本案例的目标是对产品特征的优缺点进行分析，类似“不错，很好的产品”“很不错，继续支持”等评论虽然表达了对产品的情感倾向，但是实际上无法根据这些评论提取出哪些产品特征是用户满意的。评论中只有出现明确的名词，如机构团体及其他专有名词时，才有意义，因此需要对分词后的词语进行词性标注。之后再根据词性将含有名词类的评论提取出来。"
   ]
  },
  {
   "cell_type": "code",
   "execution_count": 45,
   "metadata": {},
   "outputs": [],
   "source": [
    "# 提取含有名词类的评论\n",
    "ind = result[['n' in x for x in result['nature']]]['index_content'].unique()\n",
    "result = result[[x in ind for x in result['index_content']]]"
   ]
  },
  {
   "cell_type": "raw",
   "metadata": {},
   "source": [
    "3.绘制词云查看分词效果\n",
    "进行数据预处理后，可绘制词云查看分词效果，词云会将文本中出现频率较高的“关键词”予以视觉上的突出。首先需要对词语进行词频统计，将词频按照降序排序，选择前100个词，使用wordcloud模块中的WordCloud绘制词云，查看分词效果."
   ]
  },
  {
   "cell_type": "code",
   "execution_count": 46,
   "metadata": {},
   "outputs": [
    {
     "data": {
      "image/png": "[encoded data removed]",
      "text/plain": [
       "<Figure size 432x288 with 1 Axes>"
      ]
     },
     "metadata": {
      "needs_background": "light"
     },
     "output_type": "display_data"
    }
   ],
   "source": [
    "import matplotlib.pyplot as plt\n",
    "from wordcloud import WordCloud\n",
    "\n",
    "frequencies = result.groupby(by = ['word'])['word'].count()\n",
    "frequencies = frequencies.sort_values(ascending = False)#sort_values排序，默认升序\n",
    "backgroud_Image=plt.imread('D:/数据分析/pl.jpg')\n",
    "wordcloud = WordCloud(font_path=\"STXINWEI.TTF\",\n",
    "                      max_words=100,\n",
    "                      background_color='white',\n",
    "                      mask=backgroud_Image)\n",
    "my_wordcloud = wordcloud.fit_words(frequencies)\n",
    "plt.imshow(my_wordcloud)\n",
    "plt.axis('off') \n",
    "plt.show()"
   ]
  },
  {
   "cell_type": "raw",
   "metadata": {},
   "source": [
    "由上图可以看出，对评论数据进行预处理后，分词效果较为符合预期。其中“效果”“保湿”“包装”“味道”等词出现频率较高，因此可以初步判断用户对产品的这几个方面比较重视。"
   ]
  },
  {
   "cell_type": "code",
   "execution_count": 47,
   "metadata": {},
   "outputs": [],
   "source": [
    "# 将结果写出\n",
    "result.to_csv(\"D:/数据分析/words.csv\", index = False, encoding = 'utf-8')"
   ]
  },
  {
   "cell_type": "markdown",
   "metadata": {},
   "source": [
    "# 3.构建模型"
   ]
  },
  {
   "cell_type": "markdown",
   "metadata": {},
   "source": [
    "## 3.1评论数据情感倾向分析"
   ]
  },
  {
   "cell_type": "raw",
   "metadata": {},
   "source": [
    "情感倾向也称为情感极性。在某商品评论中，可以理解为用户对该商品表达自身观点所持的态度是支持、反对还是中立，即通常所指的正面情感、负面情感、中性情感。由于本案例主要是对产品的优缺点进行分析，因此只要确定用户评论信息中的情感倾向方向分析即可，不需要分析每一评论的情感程度。对评论情感倾向进行分析首先要对情感词进行匹配，主要采用词典匹配的方法，本案例使用的情感词表是2007年10月22日知网发布的“情感分析用词语集（beta版）”，主要使用“中文正面评价”词表、“中文负面评价”“中文正面情感”“中文负面情感”词表等。将“中文正面评价”“中文正面情感”两个词表合并，并给每个词语赋予初始权重1，作为本案例的正面评论情感词表。将“中文负面评价”“中文负面情感”两个词表合并，并给每个词语赋予初始权重-1，作为本案例的负面评论情感词表。"
   ]
  },
  {
   "cell_type": "code",
   "execution_count": 52,
   "metadata": {},
   "outputs": [],
   "source": [
    "import pandas as pd\n",
    "import numpy as np\n",
    "word = pd.read_csv(\"D:/数据分析/words.csv\")\n",
    "\n",
    "# 读入正面、负面情感评价词\n",
    "pos_comment = pd.read_csv(\"D:/数据分析/正面评价词语（中文）.txt\", header=None,sep=\"\\n\", encoding = 'utf-8', engine='python')\n",
    "neg_comment = pd.read_csv(\"D:/数据分析/负面评价词语（中文）.txt\", header=None,sep=\"\\n\", encoding = 'utf-8', engine='python')\n",
    "pos_emotion = pd.read_csv(\"D:/数据分析/正面情感词语（中文）.txt\", header=None,sep=\"\\n\", encoding = 'utf-8', engine='python')\n",
    "neg_emotion = pd.read_csv(\"D:/数据分析/负面情感词语（中文）.txt\", header=None,sep=\"\\n\", encoding = 'utf-8', engine='python')\n",
    "\n",
    "# 合并情感词与评价词\n",
    "positive = set(pos_comment.iloc[:,0])|set(pos_emotion.iloc[:,0])#\\表示并集\n",
    "negative = set(neg_comment.iloc[:,0])|set(neg_emotion.iloc[:,0])\n",
    "intersection = positive&negative  # 正负面情感词表中相同的词语\n",
    "positive = list(positive - intersection)\n",
    "negative = list(negative - intersection)\n",
    "positive = pd.DataFrame({\"word\":positive,\n",
    "                         \"weight\":[1]*len(positive)})\n",
    "negative = pd.DataFrame({\"word\":negative,\n",
    "                         \"weight\":[-1]*len(negative)}) \n",
    "\n",
    "posneg = positive.append(negative)\n",
    "\n",
    "#  将分词结果与正负面情感词表合并，定位情感词\n",
    "data_posneg = posneg.merge(word, left_on = 'word', right_on = 'word', how = 'right')\n",
    "data_posneg = data_posneg.sort_values(by = ['index_content','index_word'])"
   ]
  },
  {
   "cell_type": "markdown",
   "metadata": {},
   "source": [
    "## 3.2修正情感倾向"
   ]
  },
  {
   "cell_type": "raw",
   "metadata": {},
   "source": [
    "情感倾向修正主要根据情感词前面两个位置的词语是否存在否定词而去判断情感值的正确与否，由于汉语中存在多重否定现象，即当否定词出现奇数次时，表示否定意思；当否定词出现偶数次时，表示肯定意思。按照汉语习惯，搜索每个情感词前两个词语，若出现奇数否定词，则调整为相反的情感极性。\n",
    "读入否定词表，对情感值的方向进行修正。计算每条评论的情感得分，将评论分为正面评论和负面评论，并计算情感分析的准确率。"
   ]
  },
  {
   "cell_type": "code",
   "execution_count": 53,
   "metadata": {},
   "outputs": [],
   "source": [
    "# 根据情感词前时候有否定词或双层否定词对情感值进行修正\n",
    "# 载入否定词表\n",
    "notdict = pd.read_csv(\"D:/数据分析//not.csv\")\n",
    "\n",
    "# 处理否定修饰词\n",
    "data_posneg['amend_weight'] = data_posneg['weight']  # 构造新列，作为经过否定词修正后的情感值\n",
    "data_posneg['id'] = np.arange(0, len(data_posneg))\n",
    "only_inclination = data_posneg.dropna()  # 只保留有情感值的词语\n",
    "only_inclination.index = np.arange(0, len(only_inclination))\n",
    "index = only_inclination['id']\n",
    "\n",
    "for i in np.arange(0, len(only_inclination)):\n",
    "    review = data_posneg[data_posneg['index_content'] == only_inclination['index_content'][i]]  # 提取第i个情感词所在的评论\n",
    "    review.index = np.arange(0, len(review))\n",
    "    affective = only_inclination['index_word'][i]  # 第i个情感值在该文档的位置\n",
    "    if affective == 1:\n",
    "        ne = sum([i in notdict['term'] for i in review['word'][affective - 1]])\n",
    "        if ne == 1:\n",
    "            data_posneg['amend_weight'][index[i]] = -data_posneg['weight'][index[i]]           \n",
    "    elif affective > 1:\n",
    "        ne = sum([i in notdict['term'] for i in review['word'][[affective - 1, affective - 2]]])\n",
    "        if ne == 1:\n",
    "            data_posneg['amend_weight'][index[i]] = -data_posneg['weight'][index[i]]\n",
    "            \n",
    "# 更新只保留情感值的数据\n",
    "only_inclination = only_inclination.dropna()\n",
    "\n",
    "# 计算每条评论的情感值\n",
    "emotional_value = only_inclination.groupby(['index_content'],as_index=False)['amend_weight'].sum()\n",
    "\n",
    "# 去除情感值为0的评论\n",
    "emotional_value = emotional_value[emotional_value['amend_weight'] != 0]"
   ]
  },
  {
   "cell_type": "markdown",
   "metadata": {},
   "source": [
    "## 3.3查看情感分析效果\n"
   ]
  },
  {
   "cell_type": "raw",
   "metadata": {},
   "source": [
    "使用wordcloud包下的WordCloud函数分别对正面评论和负面评论绘制词云，以查看情感分析效果。"
   ]
  },
  {
   "cell_type": "code",
   "execution_count": 54,
   "metadata": {},
   "outputs": [
    {
     "name": "stderr",
     "output_type": "stream",
     "text": [
      "D:\\develop\\python\\Anaconda3\\lib\\site-packages\\ipykernel_launcher.py:3: SettingWithCopyWarning: \n",
      "A value is trying to be set on a copy of a slice from a DataFrame\n",
      "\n",
      "See the caveats in the documentation: https://pandas.pydata.org/pandas-docs/stable/user_guide/indexing.html#returning-a-view-versus-a-copy\n",
      "  This is separate from the ipykernel package so we can avoid doing imports until\n",
      "D:\\develop\\python\\Anaconda3\\lib\\site-packages\\ipykernel_launcher.py:4: SettingWithCopyWarning: \n",
      "A value is trying to be set on a copy of a slice from a DataFrame\n",
      "\n",
      "See the caveats in the documentation: https://pandas.pydata.org/pandas-docs/stable/user_guide/indexing.html#returning-a-view-versus-a-copy\n",
      "  after removing the cwd from sys.path.\n"
     ]
    }
   ],
   "source": [
    "# 给情感值大于0的赋予评论类型（content_type）为pos,小于0的为neg\n",
    "emotional_value['a_type'] = ''\n",
    "emotional_value['a_type'][emotional_value['amend_weight'] > 0] = 'pos'\n",
    "emotional_value['a_type'][emotional_value['amend_weight'] < 0] = 'neg'\n",
    "\n",
    "\n",
    "# 提取正负面评论信息\n",
    "ind_pos = list(emotional_value[emotional_value['a_type'] == 'pos']['index_content'])\n",
    "ind_neg = list(emotional_value[emotional_value['a_type'] == 'neg']['index_content'])\n",
    "posdata = word[[i in ind_pos for i in word['index_content']]]\n",
    "negdata = word[[i in ind_neg for i in word['index_content']]]"
   ]
  },
  {
   "cell_type": "code",
   "execution_count": 55,
   "metadata": {},
   "outputs": [
    {
     "data": {
      "image/png": "[encoded data removed]",
      "text/plain": [
       "<Figure size 432x288 with 1 Axes>"
      ]
     },
     "metadata": {
      "needs_background": "light"
     },
     "output_type": "display_data"
    },
    {
     "data": {
      "image/png": "[encoded data removed]",
      "text/plain": [
       "<Figure size 432x288 with 1 Axes>"
      ]
     },
     "metadata": {
      "needs_background": "light"
     },
     "output_type": "display_data"
    }
   ],
   "source": [
    "# 绘制词云\n",
    "import matplotlib.pyplot as plt\n",
    "from wordcloud import WordCloud\n",
    "# 正面情感词词云\n",
    "freq_pos = posdata.groupby(by = ['word'])['word'].count()\n",
    "freq_pos = freq_pos.sort_values(ascending = False)\n",
    "backgroud_Image=plt.imread('D:/数据分析/pl.jpg')\n",
    "wordcloud = WordCloud(font_path=\"STXINWEI.TTF\",\n",
    "                      max_words=100,\n",
    "                      background_color='white',\n",
    "                      mask=backgroud_Image)\n",
    "pos_wordcloud = wordcloud.fit_words(freq_pos)\n",
    "plt.imshow(pos_wordcloud)\n",
    "plt.axis('off') \n",
    "plt.show()\n",
    "# 负面情感词词云\n",
    "freq_neg = negdata.groupby(by = ['word'])['word'].count()\n",
    "freq_neg = freq_neg.sort_values(ascending = False)\n",
    "neg_wordcloud = wordcloud.fit_words(freq_neg)\n",
    "plt.imshow(neg_wordcloud)\n",
    "plt.axis('off') \n",
    "plt.show()"
   ]
  },
  {
   "cell_type": "raw",
   "metadata": {},
   "source": [
    "由图一正面情感评论词云可知，“喜欢”“满意”“好评”等正面情感词出现的频数较高，并且没有掺杂负面情感词语，可以看出情感分析能较好地将正面情感评论抽取出来。\n",
    "\n",
    "由图二负面情感评论词云可知，“高”“贵”“不好”等负面情感词出现的频数较高，并且没有掺杂正面情感词语，可以看出情感分析能较好地将负面情感评论抽取出来。"
   ]
  },
  {
   "cell_type": "code",
   "execution_count": 56,
   "metadata": {},
   "outputs": [],
   "source": [
    "# 将结果写出,每条评论作为一行\n",
    "posdata.to_csv(\"D:/数据分析/pdata.csv\", index = False, encoding = 'utf-8')\n",
    "negdata.to_csv(\"D:/数据分析/ndata.csv\", index = False, encoding = 'utf-8')"
   ]
  },
  {
   "cell_type": "markdown",
   "metadata": {},
   "source": [
    "## 3.4使用LDA模型进行主题分析\n"
   ]
  },
  {
   "cell_type": "raw",
   "metadata": {},
   "source": [
    "主题模型在机器学习和自然语言处理等领域是用来在一系列文档中发现抽象主题的一种的统计模型。对于一篇文档，如果它有多个主题，则这些特定的可代表不同主题的词语反复出现，此时，运用主题模型，能够发现文本中使用词语的规律，并且规律相似的文本联系到一起，以寻求非结构化的文本集中的有用信息。LDA 模型作为其中的一种主题模型，属于无监督的生成式主题概率模型。建立LDA主题模型，首先需要建立词典及语料库。"
   ]
  },
  {
   "cell_type": "code",
   "execution_count": 57,
   "metadata": {},
   "outputs": [
    {
     "name": "stderr",
     "output_type": "stream",
     "text": [
      "unable to import 'smart_open.gcs', disabling that module\n"
     ]
    }
   ],
   "source": [
    "import pandas as pd\n",
    "import numpy as np\n",
    "import re\n",
    "import itertools\n",
    "import matplotlib.pyplot as plt\n",
    "\n",
    "# 载入情感分析后的数据\n",
    "posdata = pd.read_csv(\"D:/数据分析/pdata.csv\", encoding = 'utf-8')\n",
    "negdata = pd.read_csv(\"D:/数据分析/ndata.csv\", encoding = 'utf-8')\n",
    "\n",
    "from gensim import corpora, models\n",
    "# 建立词典\n",
    "pos_dict = corpora.Dictionary([[i] for i in posdata['word']])  # 正面\n",
    "neg_dict = corpora.Dictionary([[i] for i in negdata['word']])  # 负面\n",
    "\n",
    "# 建立语料库\n",
    "pos_corpus = [pos_dict.doc2bow(j) for j in [[i] for i in posdata['word']]]  # 正面\n",
    "neg_corpus = [neg_dict.doc2bow(j) for j in [[i] for i in negdata['word']]]   # 负面"
   ]
  },
  {
   "cell_type": "code",
   "execution_count": 58,
   "metadata": {},
   "outputs": [],
   "source": [
    "# 构造主题数寻优函数\n",
    "def cos(vector1, vector2):  # 余弦相似度函数\n",
    "    dot_product = 0.0;  \n",
    "    normA = 0.0;  \n",
    "    normB = 0.0;  \n",
    "    for a,b in zip(vector1, vector2): \n",
    "        dot_product += a*b  \n",
    "        normA += a**2  \n",
    "        normB += b**2  \n",
    "    if normA == 0.0 or normB==0.0:  \n",
    "        return(None)  \n",
    "    else:  \n",
    "        return(dot_product / ((normA*normB)**0.5))   "
   ]
  },
  {
   "cell_type": "code",
   "execution_count": 59,
   "metadata": {},
   "outputs": [],
   "source": [
    "# 主题数寻优\n",
    "def lda_k(x_corpus, x_dict):  \n",
    "    \n",
    "    # 初始化平均余弦相似度\n",
    "    mean_similarity = []\n",
    "    mean_similarity.append(1)\n",
    "    \n",
    "    # 循环生成主题并计算主题间相似度\n",
    "    for i in np.arange(2,11):\n",
    "        lda = models.LdaModel(x_corpus, num_topics = i, id2word = x_dict)  # LDA模型训练\n",
    "        for j in np.arange(i):\n",
    "            term = lda.show_topics(num_words = 50)\n",
    "            \n",
    "        # 提取各主题词\n",
    "        top_word = []\n",
    "        for k in np.arange(i):\n",
    "            top_word.append([''.join(re.findall('\"(.*)\"',i)) for i in term[k][1].split('+')])  # 列出所有词\n",
    "           \n",
    "        # 构造词频向量\n",
    "        word = sum(top_word,[])  # 列出所有的词   \n",
    "        unique_word = set(word)  # 去除重复的词\n",
    "        \n",
    "        # 构造主题词列表，行表示主题号，列表示各主题词\n",
    "        mat = []\n",
    "        for j in np.arange(i):\n",
    "            top_w = top_word[j]\n",
    "            mat.append(tuple([top_w.count(k) for k in unique_word]))  \n",
    "            \n",
    "        p = list(itertools.permutations(list(np.arange(i)),2))\n",
    "        l = len(p)\n",
    "        top_similarity = [0]\n",
    "        for w in np.arange(l):\n",
    "            vector1 = mat[p[w][0]]\n",
    "            vector2 = mat[p[w][1]]\n",
    "            top_similarity.append(cos(vector1, vector2))\n",
    "            \n",
    "        # 计算平均余弦相似度\n",
    "        mean_similarity.append(sum(top_similarity)/l)\n",
    "    return(mean_similarity)"
   ]
  },
  {
   "cell_type": "code",
   "execution_count": 60,
   "metadata": {},
   "outputs": [],
   "source": [
    "# 计算主题平均余弦相似度\n",
    "pos_k = lda_k(pos_corpus, pos_dict)\n",
    "neg_k = lda_k(neg_corpus, neg_dict)   "
   ]
  },
  {
   "cell_type": "code",
   "execution_count": 61,
   "metadata": {},
   "outputs": [
    {
     "data": {
      "text/plain": [
       "Text(0.5, 0, '负面评论LDA主题数寻优')"
      ]
     },
     "execution_count": 61,
     "metadata": {},
     "output_type": "execute_result"
    },
    {
     "data": {
      "image/png": "[encoded data removed]",
      "text/plain": [
       "<Figure size 720x576 with 2 Axes>"
      ]
     },
     "metadata": {
      "needs_background": "light"
     },
     "output_type": "display_data"
    }
   ],
   "source": [
    "# 绘制主题平均余弦相似度图形\n",
    "from matplotlib.font_manager import FontProperties  \n",
    "font = FontProperties(size=14)\n",
    "#解决中文显示问题\n",
    "plt.rcParams['font.sans-serif']=['SimHei']\n",
    "plt.rcParams['axes.unicode_minus'] = False  \n",
    "fig = plt.figure(figsize=(10,8))\n",
    "ax1 = fig.add_subplot(211)\n",
    "ax1.plot(pos_k)\n",
    "ax1.set_xlabel('正面评论LDA主题数寻优', fontproperties=font)\n",
    "\n",
    "ax2 = fig.add_subplot(212)\n",
    "ax2.plot(neg_k)\n",
    "ax2.set_xlabel('负面评论LDA主题数寻优', fontproperties=font)"
   ]
  },
  {
   "cell_type": "raw",
   "metadata": {},
   "source": [
    "由图一可知，对于正面评论数据，当主题数为2或3时，主题间的平均余弦相似度就达到了最低。因此，对正面评论数据做LDA，可以选择主题数为3；\n",
    "对于负面评论数据，当主题数为3时，主题间的平均余弦相似度也达到了最低。因此，对负面评论数据做LDA，也可以选择主题数为3。"
   ]
  },
  {
   "cell_type": "raw",
   "metadata": {},
   "source": [
    "评价主题分析结果根据主题数寻优结果，使用Python的Gensim模块对正面评论数据和负面评论数据分别构建LDA主题模型，设置主题数为3，经过LDA主题分析后，每个主题下生成10个最有可能出现的词语以及相应的概率"
   ]
  },
  {
   "cell_type": "code",
   "execution_count": 62,
   "metadata": {},
   "outputs": [
    {
     "data": {
      "text/plain": [
       "[(0,\n",
       "  '0.060*\"包装\" + 0.047*\"很快\" + 0.039*\"感觉\" + 0.039*\"不错\" + 0.031*\"满意\" + 0.022*\"东西\" + 0.021*\"味道\" + 0.019*\"真的\" + 0.016*\"皮肤\" + 0.012*\"太\"'),\n",
       " (1,\n",
       "  '0.100*\"喜欢\" + 0.036*\"好评\" + 0.035*\"小样\" + 0.028*\"科颜氏\" + 0.024*\"赞\" + 0.020*\"快递\" + 0.020*\"客服\" + 0.017*\"赠品\" + 0.015*\"正品\" + 0.013*\"超级\"'),\n",
       " (2,\n",
       "  '0.051*\"送\" + 0.047*\"效果\" + 0.025*\"物流\" + 0.021*\"特别\" + 0.018*\"收到\" + 0.018*\"产品\" + 0.017*\"保湿\" + 0.013*\"发货\" + 0.013*\"第一次\" + 0.012*\"回购\"')]"
      ]
     },
     "execution_count": 62,
     "metadata": {},
     "output_type": "execute_result"
    }
   ],
   "source": [
    "# LDA主题分析\n",
    "pos_lda = models.LdaModel(pos_corpus, num_topics = 3, id2word = pos_dict)  \n",
    "pos_theme = pos_lda.show_topics()#展示正面主题\n",
    "pos_theme"
   ]
  },
  {
   "cell_type": "raw",
   "metadata": {},
   "source": [
    "上面显示了对于正面评论的三个主题分析的高频特征词。\n",
    "下面我们把主题和高频特征词变成 DataFrame 的格式以便查看，首先选用正则提取出高频特征词。"
   ]
  },
  {
   "cell_type": "code",
   "execution_count": 63,
   "metadata": {},
   "outputs": [
    {
     "data": {
      "text/plain": [
       "['包装', '很快', '感觉', '不错', '满意', '东西', '味道', '真的', '皮肤', '太']"
      ]
     },
     "execution_count": 63,
     "metadata": {},
     "output_type": "execute_result"
    }
   ],
   "source": [
    "import re\n",
    "# 匹配中文字符\n",
    "pattern = re.compile(r'[\\u4e00-\\u9fa5]+')\n",
    "# 主题一的特征词\n",
    "pattern.findall(pos_theme[0][1])"
   ]
  },
  {
   "cell_type": "code",
   "execution_count": 64,
   "metadata": {},
   "outputs": [],
   "source": [
    "# 取得正面主题的特征词\n",
    "pos_key_words=[]\n",
    "for i in range(3):\n",
    "    pos_key_words.append(pattern.findall(pos_theme[i][1]))"
   ]
  },
  {
   "cell_type": "code",
   "execution_count": 65,
   "metadata": {},
   "outputs": [
    {
     "data": {
      "text/html": [
       "<div>\n",
       "<style scoped>\n",
       "    .dataframe tbody tr th:only-of-type {\n",
       "        vertical-align: middle;\n",
       "    }\n",
       "\n",
       "    .dataframe tbody tr th {\n",
       "        vertical-align: top;\n",
       "    }\n",
       "\n",
       "    .dataframe thead th {\n",
       "        text-align: right;\n",
       "    }\n",
       "</style>\n",
       "<table border=\"1\" class=\"dataframe\">\n",
       "  <thead>\n",
       "    <tr style=\"text-align: right;\">\n",
       "      <th></th>\n",
       "      <th>0</th>\n",
       "      <th>1</th>\n",
       "      <th>2</th>\n",
       "      <th>3</th>\n",
       "      <th>4</th>\n",
       "      <th>5</th>\n",
       "      <th>6</th>\n",
       "      <th>7</th>\n",
       "      <th>8</th>\n",
       "      <th>9</th>\n",
       "    </tr>\n",
       "  </thead>\n",
       "  <tbody>\n",
       "    <tr>\n",
       "      <th>主题1</th>\n",
       "      <td>包装</td>\n",
       "      <td>很快</td>\n",
       "      <td>感觉</td>\n",
       "      <td>不错</td>\n",
       "      <td>满意</td>\n",
       "      <td>东西</td>\n",
       "      <td>味道</td>\n",
       "      <td>真的</td>\n",
       "      <td>皮肤</td>\n",
       "      <td>太</td>\n",
       "    </tr>\n",
       "    <tr>\n",
       "      <th>主题2</th>\n",
       "      <td>喜欢</td>\n",
       "      <td>好评</td>\n",
       "      <td>小样</td>\n",
       "      <td>科颜氏</td>\n",
       "      <td>赞</td>\n",
       "      <td>快递</td>\n",
       "      <td>客服</td>\n",
       "      <td>赠品</td>\n",
       "      <td>正品</td>\n",
       "      <td>超级</td>\n",
       "    </tr>\n",
       "    <tr>\n",
       "      <th>主题3</th>\n",
       "      <td>送</td>\n",
       "      <td>效果</td>\n",
       "      <td>物流</td>\n",
       "      <td>特别</td>\n",
       "      <td>收到</td>\n",
       "      <td>产品</td>\n",
       "      <td>保湿</td>\n",
       "      <td>发货</td>\n",
       "      <td>第一次</td>\n",
       "      <td>回购</td>\n",
       "    </tr>\n",
       "  </tbody>\n",
       "</table>\n",
       "</div>"
      ],
      "text/plain": [
       "      0   1   2    3   4   5   6   7    8   9\n",
       "主题1  包装  很快  感觉   不错  满意  东西  味道  真的   皮肤   太\n",
       "主题2  喜欢  好评  小样  科颜氏   赞  快递  客服  赠品   正品  超级\n",
       "主题3   送  效果  物流   特别  收到  产品  保湿  发货  第一次  回购"
      ]
     },
     "execution_count": 65,
     "metadata": {},
     "output_type": "execute_result"
    }
   ],
   "source": [
    "# 变成 DataFrame 格式\n",
    "pos_key_words = pd.DataFrame(data=pos_key_words,index=['主题1',\"主题2\",\"主题3\"])\n",
    "pos_key_words"
   ]
  },
  {
   "cell_type": "raw",
   "metadata": {},
   "source": [
    "上图反映了科颜氏产品正面评价文本中的潜在主题：\n",
    "主题1中的高频特征词，关注点主要是味道、包装等，主要反映科颜氏产品的视觉效果不错等；\n",
    "主题2中的高频特征词，即关注点主要是小样、客服、快递、赠品等，主要反映科颜氏产品的发货速度快、客服服务好、赠品多等；\n",
    "主题3中的高频特征词，即保湿、效果等，主要反映科颜氏产品质量不错等。"
   ]
  },
  {
   "cell_type": "code",
   "execution_count": 66,
   "metadata": {},
   "outputs": [
    {
     "data": {
      "text/plain": [
       "[(0,\n",
       "  '0.086*\"高\" + 0.054*\"保湿\" + 0.047*\"贵\" + 0.022*\"送\" + 0.020*\"包装\" + 0.014*\"价格\" + 0.013*\"太\" + 0.012*\"精华\" + 0.011*\"顺丰\" + 0.011*\"脸\"'),\n",
       " (1,\n",
       "  '0.037*\"效果\" + 0.034*\"保湿霜\" + 0.022*\"不错\" + 0.020*\"味道\" + 0.019*\"皮肤\" + 0.018*\"水\" + 0.018*\"小样\" + 0.017*\"清爽\" + 0.014*\"油腻\" + 0.013*\"吸收\"'),\n",
       " (2,\n",
       "  '0.038*\"感觉\" + 0.037*\"不好\" + 0.027*\"真的\" + 0.019*\"面霜\" + 0.016*\"科颜氏\" + 0.014*\"产品\" + 0.012*\"客服\" + 0.009*\"希望\" + 0.008*\"一瓶\" + 0.008*\"性价比\"')]"
      ]
     },
     "execution_count": 66,
     "metadata": {},
     "output_type": "execute_result"
    }
   ],
   "source": [
    "neg_lda = models.LdaModel(neg_corpus, num_topics = 3, id2word = neg_dict)\n",
    "neg_theme = neg_lda.show_topics()#展示负面主题\n",
    "neg_theme"
   ]
  },
  {
   "cell_type": "raw",
   "metadata": {},
   "source": [
    "上面显示了对于负面评论的三个主题分析的高频特征词。"
   ]
  },
  {
   "cell_type": "code",
   "execution_count": 67,
   "metadata": {},
   "outputs": [],
   "source": [
    "# 取得负面主题的特征词\n",
    "neg_key_words=[]\n",
    "for i in range(3):\n",
    "    neg_key_words.append(pattern.findall(neg_theme[i][1]))"
   ]
  },
  {
   "cell_type": "code",
   "execution_count": 68,
   "metadata": {},
   "outputs": [
    {
     "data": {
      "text/html": [
       "<div>\n",
       "<style scoped>\n",
       "    .dataframe tbody tr th:only-of-type {\n",
       "        vertical-align: middle;\n",
       "    }\n",
       "\n",
       "    .dataframe tbody tr th {\n",
       "        vertical-align: top;\n",
       "    }\n",
       "\n",
       "    .dataframe thead th {\n",
       "        text-align: right;\n",
       "    }\n",
       "</style>\n",
       "<table border=\"1\" class=\"dataframe\">\n",
       "  <thead>\n",
       "    <tr style=\"text-align: right;\">\n",
       "      <th></th>\n",
       "      <th>0</th>\n",
       "      <th>1</th>\n",
       "      <th>2</th>\n",
       "      <th>3</th>\n",
       "      <th>4</th>\n",
       "      <th>5</th>\n",
       "      <th>6</th>\n",
       "      <th>7</th>\n",
       "      <th>8</th>\n",
       "      <th>9</th>\n",
       "    </tr>\n",
       "  </thead>\n",
       "  <tbody>\n",
       "    <tr>\n",
       "      <th>主题1</th>\n",
       "      <td>高</td>\n",
       "      <td>保湿</td>\n",
       "      <td>贵</td>\n",
       "      <td>送</td>\n",
       "      <td>包装</td>\n",
       "      <td>价格</td>\n",
       "      <td>太</td>\n",
       "      <td>精华</td>\n",
       "      <td>顺丰</td>\n",
       "      <td>脸</td>\n",
       "    </tr>\n",
       "    <tr>\n",
       "      <th>主题2</th>\n",
       "      <td>效果</td>\n",
       "      <td>保湿霜</td>\n",
       "      <td>不错</td>\n",
       "      <td>味道</td>\n",
       "      <td>皮肤</td>\n",
       "      <td>水</td>\n",
       "      <td>小样</td>\n",
       "      <td>清爽</td>\n",
       "      <td>油腻</td>\n",
       "      <td>吸收</td>\n",
       "    </tr>\n",
       "    <tr>\n",
       "      <th>主题3</th>\n",
       "      <td>感觉</td>\n",
       "      <td>不好</td>\n",
       "      <td>真的</td>\n",
       "      <td>面霜</td>\n",
       "      <td>科颜氏</td>\n",
       "      <td>产品</td>\n",
       "      <td>客服</td>\n",
       "      <td>希望</td>\n",
       "      <td>一瓶</td>\n",
       "      <td>性价比</td>\n",
       "    </tr>\n",
       "  </tbody>\n",
       "</table>\n",
       "</div>"
      ],
      "text/plain": [
       "      0    1   2   3    4   5   6   7   8    9\n",
       "主题1   高   保湿   贵   送   包装  价格   太  精华  顺丰    脸\n",
       "主题2  效果  保湿霜  不错  味道   皮肤   水  小样  清爽  油腻   吸收\n",
       "主题3  感觉   不好  真的  面霜  科颜氏  产品  客服  希望  一瓶  性价比"
      ]
     },
     "execution_count": 68,
     "metadata": {},
     "output_type": "execute_result"
    }
   ],
   "source": [
    "# 变成 DataFrame 格式\n",
    "neg_key_words = pd.DataFrame(data=neg_key_words,index=['主题1',\"主题2\",\"主题3\"])\n",
    "neg_key_words"
   ]
  },
  {
   "cell_type": "raw",
   "metadata": {},
   "source": [
    "上图反映了科颜氏产品负面评价文本中的潜在主题：\n",
    "主题1中的高频特征词主要关注点在贵、价格这几方面，说明对部分消费者来说该产品价格过高；\n",
    "主题2中的高频特征词主要油腻、皮肤这几方面有关，主要反映对部分消费者来说该产品不适合他们的肤质；\n",
    "主题3中的高频特征词主要与客服功能有关，主要反映的是店铺客服可能存在沟通问题等。"
   ]
  },
  {
   "cell_type": "raw",
   "metadata": {},
   "source": [
    "综合以上对主题及其中的高频特征词的分析得出，科颜氏产品有效果好、外观好看、赠品多等优势。相对而言，用户对科颜氏产品的抱怨点主要体现在价格高、服务差、产品油腻等方面。\n",
    "因此，用户的购买原因可以总结为以下几个方面：科颜氏产品包装吸引力、赠品多、效果好。\n",
    "根据对天猫商城上科颜氏产品的用户评价情况进行LDA主题模型分析，对品牌提出以下两点建议：\n",
    "①在保持赠品多优点的基础上，对一些价格敏感客户多推荐优惠力度大的产品。\n",
    "②提升客服人员的整体素质，提高服务质量，注重售后服务。针对不同肤质的客户，推荐适合的护肤品."
   ]
  }
 ],
 "metadata": {
  "kernelspec": {
   "display_name": "Python 3",
   "language": "python",
   "name": "python3"
  },
  "language_info": {
   "codemirror_mode": {
    "name": "ipython",
    "version": 3
   },
   "file_extension": ".py",
   "mimetype": "text/x-python",
   "name": "python",
   "nbconvert_exporter": "python",
   "pygments_lexer": "ipython3",
   "version": "3.7.6"
  }
 },
 "nbformat": 4,
 "nbformat_minor": 4
}
