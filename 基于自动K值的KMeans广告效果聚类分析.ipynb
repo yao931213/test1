{
 "cells": [
  {
   "cell_type": "markdown",
   "metadata": {},
   "source": [
    "某企业由于投放的广告渠道比较多，需要对其做广告效果分析以实现有针对性的广告效果测量和优化工作。\n",
    "\n",
    "开展研究之前的基本预设条件：\n",
    "\n",
    "1、 广告渠道的范畴是什么？具体包括哪些渠道？\n",
    "——所有站外标记的广告类渠道（以ad_开头）。\n",
    "\n",
    "2、 数据集时间选择哪个时间段？\n",
    "——最近90天的数据。\n",
    "\n",
    "3、 数据集选择哪些维度和指标？\n",
    "——渠道代号、日均UV、平均注册率、平均搜索量、访问深度、平均停留时间、订单转化率、投放总时间、素材类型、广告类型、合作方式、广告尺寸、广告卖点。\n",
    "\n",
    "4、 专题分析要解决什么问题？\n",
    "——将广告分类并找出其重点特征，为接下来的业务讨论和数据分析提供支持。"
   ]
  },
  {
   "cell_type": "markdown",
   "metadata": {},
   "source": [
    "# 导入数据"
   ]
  },
  {
   "cell_type": "code",
   "execution_count": 17,
   "metadata": {},
   "outputs": [],
   "source": [
    "import numpy as np\n",
    "import pandas as pd\n",
    "\n",
    "data = pd.read_table(r'D:test\\ad_performance.txt',delimiter='\\t')"
   ]
  },
  {
   "cell_type": "code",
   "execution_count": 3,
   "metadata": {},
   "outputs": [
    {
     "data": {
      "text/html": [
       "<div>\n",
       "<style scoped>\n",
       "    .dataframe tbody tr th:only-of-type {\n",
       "        vertical-align: middle;\n",
       "    }\n",
       "\n",
       "    .dataframe tbody tr th {\n",
       "        vertical-align: top;\n",
       "    }\n",
       "\n",
       "    .dataframe thead th {\n",
       "        text-align: right;\n",
       "    }\n",
       "</style>\n",
       "<table border=\"1\" class=\"dataframe\">\n",
       "  <thead>\n",
       "    <tr style=\"text-align: right;\">\n",
       "      <th></th>\n",
       "      <th>渠道代号</th>\n",
       "      <th>日均UV</th>\n",
       "      <th>平均注册率</th>\n",
       "      <th>平均搜索量</th>\n",
       "      <th>访问深度</th>\n",
       "      <th>平均停留时间</th>\n",
       "      <th>订单转化率</th>\n",
       "      <th>投放总时间</th>\n",
       "      <th>素材类型</th>\n",
       "      <th>广告类型</th>\n",
       "      <th>合作方式</th>\n",
       "      <th>广告尺寸</th>\n",
       "      <th>广告卖点</th>\n",
       "    </tr>\n",
       "  </thead>\n",
       "  <tbody>\n",
       "    <tr>\n",
       "      <th>0</th>\n",
       "      <td>A203</td>\n",
       "      <td>3.69</td>\n",
       "      <td>0.0071</td>\n",
       "      <td>0.0214</td>\n",
       "      <td>2.3071</td>\n",
       "      <td>419.77</td>\n",
       "      <td>0.0258</td>\n",
       "      <td>20</td>\n",
       "      <td>jpg</td>\n",
       "      <td>banner</td>\n",
       "      <td>roi</td>\n",
       "      <td>140*40</td>\n",
       "      <td>打折</td>\n",
       "    </tr>\n",
       "    <tr>\n",
       "      <th>1</th>\n",
       "      <td>A387</td>\n",
       "      <td>178.70</td>\n",
       "      <td>0.0040</td>\n",
       "      <td>0.0324</td>\n",
       "      <td>2.0489</td>\n",
       "      <td>157.94</td>\n",
       "      <td>0.0030</td>\n",
       "      <td>19</td>\n",
       "      <td>jpg</td>\n",
       "      <td>banner</td>\n",
       "      <td>cpc</td>\n",
       "      <td>140*40</td>\n",
       "      <td>满减</td>\n",
       "    </tr>\n",
       "    <tr>\n",
       "      <th>2</th>\n",
       "      <td>A388</td>\n",
       "      <td>91.77</td>\n",
       "      <td>0.0022</td>\n",
       "      <td>0.0530</td>\n",
       "      <td>1.8771</td>\n",
       "      <td>357.93</td>\n",
       "      <td>0.0026</td>\n",
       "      <td>4</td>\n",
       "      <td>jpg</td>\n",
       "      <td>banner</td>\n",
       "      <td>cpc</td>\n",
       "      <td>140*40</td>\n",
       "      <td>满减</td>\n",
       "    </tr>\n",
       "    <tr>\n",
       "      <th>3</th>\n",
       "      <td>A389</td>\n",
       "      <td>1.09</td>\n",
       "      <td>0.0074</td>\n",
       "      <td>0.3382</td>\n",
       "      <td>4.2426</td>\n",
       "      <td>364.07</td>\n",
       "      <td>0.0153</td>\n",
       "      <td>10</td>\n",
       "      <td>jpg</td>\n",
       "      <td>banner</td>\n",
       "      <td>cpc</td>\n",
       "      <td>140*40</td>\n",
       "      <td>满减</td>\n",
       "    </tr>\n",
       "    <tr>\n",
       "      <th>4</th>\n",
       "      <td>A390</td>\n",
       "      <td>3.37</td>\n",
       "      <td>0.0028</td>\n",
       "      <td>0.1740</td>\n",
       "      <td>2.1934</td>\n",
       "      <td>313.34</td>\n",
       "      <td>0.0007</td>\n",
       "      <td>30</td>\n",
       "      <td>jpg</td>\n",
       "      <td>banner</td>\n",
       "      <td>cpc</td>\n",
       "      <td>140*40</td>\n",
       "      <td>满减</td>\n",
       "    </tr>\n",
       "  </tbody>\n",
       "</table>\n",
       "</div>"
      ],
      "text/plain": [
       "   渠道代号    日均UV   平均注册率   平均搜索量    访问深度  平均停留时间   订单转化率  投放总时间 素材类型    广告类型  \\\n",
       "0  A203    3.69  0.0071  0.0214  2.3071  419.77  0.0258     20  jpg  banner   \n",
       "1  A387  178.70  0.0040  0.0324  2.0489  157.94  0.0030     19  jpg  banner   \n",
       "2  A388   91.77  0.0022  0.0530  1.8771  357.93  0.0026      4  jpg  banner   \n",
       "3  A389    1.09  0.0074  0.3382  4.2426  364.07  0.0153     10  jpg  banner   \n",
       "4  A390    3.37  0.0028  0.1740  2.1934  313.34  0.0007     30  jpg  banner   \n",
       "\n",
       "  合作方式    广告尺寸 广告卖点  \n",
       "0  roi  140*40   打折  \n",
       "1  cpc  140*40   满减  \n",
       "2  cpc  140*40   满减  \n",
       "3  cpc  140*40   满减  \n",
       "4  cpc  140*40   满减  "
      ]
     },
     "execution_count": 3,
     "metadata": {},
     "output_type": "execute_result"
    }
   ],
   "source": [
    "data.head()"
   ]
  },
  {
   "cell_type": "code",
   "execution_count": 4,
   "metadata": {},
   "outputs": [
    {
     "data": {
      "text/plain": [
       "(889, 13)"
      ]
     },
     "execution_count": 4,
     "metadata": {},
     "output_type": "execute_result"
    }
   ],
   "source": [
    "data.shape"
   ]
  },
  {
   "cell_type": "code",
   "execution_count": 5,
   "metadata": {},
   "outputs": [
    {
     "name": "stdout",
     "output_type": "stream",
     "text": [
      "<class 'pandas.core.frame.DataFrame'>\n",
      "RangeIndex: 889 entries, 0 to 888\n",
      "Data columns (total 13 columns):\n",
      " #   Column  Non-Null Count  Dtype  \n",
      "---  ------  --------------  -----  \n",
      " 0   渠道代号    889 non-null    object \n",
      " 1   日均UV    889 non-null    float64\n",
      " 2   平均注册率   889 non-null    float64\n",
      " 3   平均搜索量   889 non-null    float64\n",
      " 4   访问深度    889 non-null    float64\n",
      " 5   平均停留时间  887 non-null    float64\n",
      " 6   订单转化率   889 non-null    float64\n",
      " 7   投放总时间   889 non-null    int64  \n",
      " 8   素材类型    889 non-null    object \n",
      " 9   广告类型    889 non-null    object \n",
      " 10  合作方式    889 non-null    object \n",
      " 11  广告尺寸    889 non-null    object \n",
      " 12  广告卖点    889 non-null    object \n",
      "dtypes: float64(6), int64(1), object(6)\n",
      "memory usage: 90.4+ KB\n"
     ]
    }
   ],
   "source": [
    "data.info()"
   ]
  },
  {
   "cell_type": "code",
   "execution_count": 11,
   "metadata": {},
   "outputs": [
    {
     "data": {
      "text/html": [
       "<div>\n",
       "<style scoped>\n",
       "    .dataframe tbody tr th:only-of-type {\n",
       "        vertical-align: middle;\n",
       "    }\n",
       "\n",
       "    .dataframe tbody tr th {\n",
       "        vertical-align: top;\n",
       "    }\n",
       "\n",
       "    .dataframe thead th {\n",
       "        text-align: right;\n",
       "    }\n",
       "</style>\n",
       "<table border=\"1\" class=\"dataframe\">\n",
       "  <thead>\n",
       "    <tr style=\"text-align: right;\">\n",
       "      <th></th>\n",
       "      <th>count</th>\n",
       "      <th>mean</th>\n",
       "      <th>std</th>\n",
       "      <th>min</th>\n",
       "      <th>25%</th>\n",
       "      <th>50%</th>\n",
       "      <th>75%</th>\n",
       "      <th>max</th>\n",
       "    </tr>\n",
       "  </thead>\n",
       "  <tbody>\n",
       "    <tr>\n",
       "      <th>日均UV</th>\n",
       "      <td>889.0</td>\n",
       "      <td>540.846772</td>\n",
       "      <td>1634.410463</td>\n",
       "      <td>0.06</td>\n",
       "      <td>6.1800</td>\n",
       "      <td>114.1800</td>\n",
       "      <td>466.8700</td>\n",
       "      <td>25294.7700</td>\n",
       "    </tr>\n",
       "    <tr>\n",
       "      <th>平均注册率</th>\n",
       "      <td>889.0</td>\n",
       "      <td>0.001408</td>\n",
       "      <td>0.003291</td>\n",
       "      <td>0.00</td>\n",
       "      <td>0.0000</td>\n",
       "      <td>0.0000</td>\n",
       "      <td>0.0014</td>\n",
       "      <td>0.0391</td>\n",
       "    </tr>\n",
       "    <tr>\n",
       "      <th>平均搜索量</th>\n",
       "      <td>889.0</td>\n",
       "      <td>0.030493</td>\n",
       "      <td>0.106199</td>\n",
       "      <td>0.00</td>\n",
       "      <td>0.0006</td>\n",
       "      <td>0.0032</td>\n",
       "      <td>0.0118</td>\n",
       "      <td>1.0370</td>\n",
       "    </tr>\n",
       "    <tr>\n",
       "      <th>访问深度</th>\n",
       "      <td>889.0</td>\n",
       "      <td>2.167166</td>\n",
       "      <td>3.800528</td>\n",
       "      <td>1.00</td>\n",
       "      <td>1.3923</td>\n",
       "      <td>1.7931</td>\n",
       "      <td>2.2162</td>\n",
       "      <td>98.9799</td>\n",
       "    </tr>\n",
       "    <tr>\n",
       "      <th>平均停留时间</th>\n",
       "      <td>887.0</td>\n",
       "      <td>262.669188</td>\n",
       "      <td>224.364932</td>\n",
       "      <td>1.64</td>\n",
       "      <td>126.0200</td>\n",
       "      <td>236.5500</td>\n",
       "      <td>357.9850</td>\n",
       "      <td>4450.8300</td>\n",
       "    </tr>\n",
       "    <tr>\n",
       "      <th>订单转化率</th>\n",
       "      <td>889.0</td>\n",
       "      <td>0.002852</td>\n",
       "      <td>0.011608</td>\n",
       "      <td>0.00</td>\n",
       "      <td>0.0000</td>\n",
       "      <td>0.0002</td>\n",
       "      <td>0.0020</td>\n",
       "      <td>0.2165</td>\n",
       "    </tr>\n",
       "    <tr>\n",
       "      <th>投放总时间</th>\n",
       "      <td>889.0</td>\n",
       "      <td>16.052868</td>\n",
       "      <td>8.509435</td>\n",
       "      <td>1.00</td>\n",
       "      <td>9.0000</td>\n",
       "      <td>16.0000</td>\n",
       "      <td>24.0000</td>\n",
       "      <td>30.0000</td>\n",
       "    </tr>\n",
       "  </tbody>\n",
       "</table>\n",
       "</div>"
      ],
      "text/plain": [
       "        count        mean          std   min       25%       50%       75%  \\\n",
       "日均UV    889.0  540.846772  1634.410463  0.06    6.1800  114.1800  466.8700   \n",
       "平均注册率   889.0    0.001408     0.003291  0.00    0.0000    0.0000    0.0014   \n",
       "平均搜索量   889.0    0.030493     0.106199  0.00    0.0006    0.0032    0.0118   \n",
       "访问深度    889.0    2.167166     3.800528  1.00    1.3923    1.7931    2.2162   \n",
       "平均停留时间  887.0  262.669188   224.364932  1.64  126.0200  236.5500  357.9850   \n",
       "订单转化率   889.0    0.002852     0.011608  0.00    0.0000    0.0002    0.0020   \n",
       "投放总时间   889.0   16.052868     8.509435  1.00    9.0000   16.0000   24.0000   \n",
       "\n",
       "               max  \n",
       "日均UV    25294.7700  \n",
       "平均注册率       0.0391  \n",
       "平均搜索量       1.0370  \n",
       "访问深度       98.9799  \n",
       "平均停留时间   4450.8300  \n",
       "订单转化率       0.2165  \n",
       "投放总时间      30.0000  "
      ]
     },
     "execution_count": 11,
     "metadata": {},
     "output_type": "execute_result"
    }
   ],
   "source": [
    "data.describe().T"
   ]
  },
  {
   "cell_type": "raw",
   "metadata": {},
   "source": [
    "除了渠道唯一标记之外，共12个维度,各个维度的数据分布差异很大，并且平均停留的时间count数是887，而其他特征数是889，说明该字段有缺失值。\n",
    "日均UV的数据波动非常大，说明了不同渠道间的特征差异非常明显。\n",
    "平均注册率、平均搜索量、订单转化率的多个统计量都为0，似乎数据不太正常。\n",
    "以上两个异常点，可以和业务方多沟通以及再次数据验证，其结果如下：\n",
    "1、日均UV的差异性问题：由于广告的流量型特征明显，很多广告的流量爆发明显，因此渠道间确实有非常大的差异性，这些差异应该保留，不能作为异常值处理。\n",
    "2、平均注册率、平均搜索量、订单转化率这几个统计量的数据本身就是非常小。"
   ]
  },
  {
   "cell_type": "markdown",
   "metadata": {},
   "source": [
    "# 数据预处理"
   ]
  },
  {
   "cell_type": "code",
   "execution_count": 19,
   "metadata": {},
   "outputs": [],
   "source": [
    "#因为平均停留时间缺失了2个，我们可以用均值填补\n",
    "data['平均停留时间'].fillna(data['平均停留时间'].mean(),inplace=True)"
   ]
  },
  {
   "cell_type": "code",
   "execution_count": 23,
   "metadata": {},
   "outputs": [
    {
     "data": {
      "text/html": [
       "<div>\n",
       "<style scoped>\n",
       "    .dataframe tbody tr th:only-of-type {\n",
       "        vertical-align: middle;\n",
       "    }\n",
       "\n",
       "    .dataframe tbody tr th {\n",
       "        vertical-align: top;\n",
       "    }\n",
       "\n",
       "    .dataframe thead th {\n",
       "        text-align: right;\n",
       "    }\n",
       "</style>\n",
       "<table border=\"1\" class=\"dataframe\">\n",
       "  <thead>\n",
       "    <tr style=\"text-align: right;\">\n",
       "      <th></th>\n",
       "      <th>日均UV</th>\n",
       "      <th>平均注册率</th>\n",
       "      <th>平均搜索量</th>\n",
       "      <th>访问深度</th>\n",
       "      <th>平均停留时间</th>\n",
       "      <th>订单转化率</th>\n",
       "      <th>投放总时间</th>\n",
       "    </tr>\n",
       "  </thead>\n",
       "  <tbody>\n",
       "    <tr>\n",
       "      <th>日均UV</th>\n",
       "      <td>1.00</td>\n",
       "      <td>-0.05</td>\n",
       "      <td>-0.07</td>\n",
       "      <td>-0.02</td>\n",
       "      <td>0.04</td>\n",
       "      <td>-0.05</td>\n",
       "      <td>-0.04</td>\n",
       "    </tr>\n",
       "    <tr>\n",
       "      <th>平均注册率</th>\n",
       "      <td>-0.05</td>\n",
       "      <td>1.00</td>\n",
       "      <td>0.24</td>\n",
       "      <td>0.11</td>\n",
       "      <td>0.22</td>\n",
       "      <td>0.32</td>\n",
       "      <td>-0.01</td>\n",
       "    </tr>\n",
       "    <tr>\n",
       "      <th>平均搜索量</th>\n",
       "      <td>-0.07</td>\n",
       "      <td>0.24</td>\n",
       "      <td>1.00</td>\n",
       "      <td>0.06</td>\n",
       "      <td>0.17</td>\n",
       "      <td>0.13</td>\n",
       "      <td>-0.03</td>\n",
       "    </tr>\n",
       "    <tr>\n",
       "      <th>访问深度</th>\n",
       "      <td>-0.02</td>\n",
       "      <td>0.11</td>\n",
       "      <td>0.06</td>\n",
       "      <td>1.00</td>\n",
       "      <td>0.72</td>\n",
       "      <td>0.16</td>\n",
       "      <td>0.06</td>\n",
       "    </tr>\n",
       "    <tr>\n",
       "      <th>平均停留时间</th>\n",
       "      <td>0.04</td>\n",
       "      <td>0.22</td>\n",
       "      <td>0.17</td>\n",
       "      <td>0.72</td>\n",
       "      <td>1.00</td>\n",
       "      <td>0.25</td>\n",
       "      <td>0.05</td>\n",
       "    </tr>\n",
       "    <tr>\n",
       "      <th>订单转化率</th>\n",
       "      <td>-0.05</td>\n",
       "      <td>0.32</td>\n",
       "      <td>0.13</td>\n",
       "      <td>0.16</td>\n",
       "      <td>0.25</td>\n",
       "      <td>1.00</td>\n",
       "      <td>-0.00</td>\n",
       "    </tr>\n",
       "    <tr>\n",
       "      <th>投放总时间</th>\n",
       "      <td>-0.04</td>\n",
       "      <td>-0.01</td>\n",
       "      <td>-0.03</td>\n",
       "      <td>0.06</td>\n",
       "      <td>0.05</td>\n",
       "      <td>-0.00</td>\n",
       "      <td>1.00</td>\n",
       "    </tr>\n",
       "  </tbody>\n",
       "</table>\n",
       "</div>"
      ],
      "text/plain": [
       "        日均UV  平均注册率  平均搜索量  访问深度  平均停留时间  订单转化率  投放总时间\n",
       "日均UV    1.00  -0.05  -0.07 -0.02    0.04  -0.05  -0.04\n",
       "平均注册率  -0.05   1.00   0.24  0.11    0.22   0.32  -0.01\n",
       "平均搜索量  -0.07   0.24   1.00  0.06    0.17   0.13  -0.03\n",
       "访问深度   -0.02   0.11   0.06  1.00    0.72   0.16   0.06\n",
       "平均停留时间  0.04   0.22   0.17  0.72    1.00   0.25   0.05\n",
       "订单转化率  -0.05   0.32   0.13  0.16    0.25   1.00  -0.00\n",
       "投放总时间  -0.04  -0.01  -0.03  0.06    0.05  -0.00   1.00"
      ]
     },
     "execution_count": 23,
     "metadata": {},
     "output_type": "execute_result"
    }
   ],
   "source": [
    "#相关性分析\n",
    "data.corr().round(2).T"
   ]
  },
  {
   "cell_type": "raw",
   "metadata": {},
   "source": [
    "通过相关性结果分析可知，12个特征中平均停留时间和访问深度的相关系数为0.72，这两个指标具有较高的相关性；其他特征之间的相关性关系都不突出。由于本次使用的是KMeans模块，较高的相关性会在一定程度上导致距离计算的偏差，因此将平均停留时间删除，保留深度访问。"
   ]
  },
  {
   "cell_type": "code",
   "execution_count": 24,
   "metadata": {},
   "outputs": [],
   "source": [
    "data = data.drop(['平均停留时间'],axis=1)"
   ]
  },
  {
   "cell_type": "code",
   "execution_count": 29,
   "metadata": {},
   "outputs": [],
   "source": [
    "#字符串分类OneHotEncode处理\n",
    "from sklearn.preprocessing import OneHotEncoder\n",
    "\n",
    "cols = ['素材类型','广告类型','合作方式','广告尺寸','广告卖点']\n",
    "model_one = OneHotEncoder(sparse=False)#建立OneHotEncode对象,spare是设置转换后的矩阵，False为数组，True为压缩后的稀疏矩阵\n",
    "ohe_matrix = model_one.fit_transform(data[cols])#直接转换"
   ]
  },
  {
   "cell_type": "code",
   "execution_count": 30,
   "metadata": {},
   "outputs": [],
   "source": [
    "#数据标准化\n",
    "from sklearn.preprocessing import MinMaxScaler\n",
    "\n",
    "select_matrix = data.iloc[:,1:7]\n",
    "model_scaler = MinMaxScaler()\n",
    "data_scaler = model_scaler.fit_transform(select_matrix)"
   ]
  },
  {
   "cell_type": "code",
   "execution_count": 32,
   "metadata": {},
   "outputs": [],
   "source": [
    "#合并上面处理后的数据\n",
    "X = np.hstack((data_scaler,ohe_matrix))#np.hstack():在水平方向上平铺"
   ]
  },
  {
   "cell_type": "code",
   "execution_count": 35,
   "metadata": {},
   "outputs": [
    {
     "data": {
      "text/plain": [
       "(889, 33)"
      ]
     },
     "execution_count": 35,
     "metadata": {},
     "output_type": "execute_result"
    }
   ],
   "source": [
    "X.shape"
   ]
  },
  {
   "cell_type": "markdown",
   "metadata": {},
   "source": [
    "# 建模"
   ]
  },
  {
   "cell_type": "code",
   "execution_count": 37,
   "metadata": {},
   "outputs": [
    {
     "name": "stdout",
     "output_type": "stream",
     "text": [
      "[[2.         0.38655493]\n",
      " [3.         0.45757883]\n",
      " [4.         0.50209812]\n",
      " [5.         0.4800359 ]]\n",
      "Best K is:0.5020981194788054with average silhouette of 0.5020981194788054\n"
     ]
    }
   ],
   "source": [
    "#寻找最佳轮廓系数\n",
    "from sklearn.metrics import silhouette_score\n",
    "from sklearn.cluster import KMeans\n",
    "\n",
    "score_list = list()#用来存储每个k下模型的平均轮廓系数\n",
    "silhouette_int = -1 #初始化的平均轮廓系数阈值\n",
    "\n",
    "for n_clusters in range(2,6):\n",
    "    model_kmeans = KMeans(n_clusters=n_clusters)#建立聚类模型对象\n",
    "    labels_tmp = model_kmeans.fit_predict(X)#训练聚类模型\n",
    "    silhouette_tmp =silhouette_score(X,labels_tmp)#得到每个k下的平均轮廓系数\n",
    "    \n",
    "    if silhouette_tmp>silhouette_int:#如果轮廓系数更高\n",
    "        best_k = silhouette_tmp#将最好的k存储下来\n",
    "        silhouette_int = silhouette_tmp#保存平均轮廓得分\n",
    "        best_kmeans = model_kmeans#保存模型实例对象\n",
    "        cluster_label_k = labels_tmp#保存聚类标签\n",
    "    score_list.append([n_clusters,silhouette_tmp])#将每次k及其得分追加到列表\n",
    "print(np.array(score_list))\n",
    "print('Best K is:{0}with average silhouette of {1}'.format(best_k,silhouette_int))    "
   ]
  },
  {
   "cell_type": "code",
   "execution_count": null,
   "metadata": {},
   "outputs": [],
   "source": [
    "可以看到K=4时，得分为0.502，说明效果较好。"
   ]
  },
  {
   "cell_type": "code",
   "execution_count": 36,
   "metadata": {},
   "outputs": [
    {
     "data": {
      "image/png": "[encoded data removed]",
      "text/plain": [
       "<Figure size 432x288 with 1 Axes>"
      ]
     },
     "metadata": {
      "needs_background": "light"
     },
     "output_type": "display_data"
    }
   ],
   "source": [
    "#还可以用肘方法评估聚类个数\n",
    "wscc = []\n",
    "for i in range(1,11):\n",
    "    kmeans = KMeans(n_clusters = i,random_state=42)\n",
    "    kmeans.fit(X)\n",
    "    wscc.append(kmeans.inertia_)#每类数据到其中心聚类之和\n",
    "plt.plot(range(1,11),wscc)\n",
    "plt.title('The Elbow Method')\n",
    "plt.xlabel('Number of clusters')\n",
    "plt.ylabel('WCSS')\n",
    "plt.show()"
   ]
  },
  {
   "cell_type": "raw",
   "metadata": {},
   "source": [
    "通过肘方法找到拐点确定最佳分群数量4。"
   ]
  },
  {
   "cell_type": "markdown",
   "metadata": {},
   "source": [
    "# 聚类结果的特征分析"
   ]
  },
  {
   "cell_type": "code",
   "execution_count": 38,
   "metadata": {},
   "outputs": [],
   "source": [
    "#将原始数据和聚类标签聚合\n",
    "cluster_label = pd.DataFrame(cluster_label_k,columns=['clusters'])#获得训练集下的标签信息\n",
    "merge_data = pd.concat([data,cluster_label],axis=1)#将原始处理过的数据和聚类标签整合"
   ]
  },
  {
   "cell_type": "code",
   "execution_count": 42,
   "metadata": {},
   "outputs": [],
   "source": [
    "#计算每个聚类类别下的样本量和样本占比\n",
    "clustering_count = pd.DataFrame(merge_data['渠道代号'].groupby(merge_data['clusters']).count()).T.rename({'渠道代号':'counts'})#计算每个聚类类别的样本量\n",
    "\n",
    "clustering_ratio = (clustering_count/len(merge_data)).round(2).rename({'counts':'percentage'})#计算每个聚类类别的样本量占比"
   ]
  },
  {
   "cell_type": "code",
   "execution_count": 43,
   "metadata": {},
   "outputs": [
    {
     "data": {
      "text/html": [
       "<div>\n",
       "<style scoped>\n",
       "    .dataframe tbody tr th:only-of-type {\n",
       "        vertical-align: middle;\n",
       "    }\n",
       "\n",
       "    .dataframe tbody tr th {\n",
       "        vertical-align: top;\n",
       "    }\n",
       "\n",
       "    .dataframe thead th {\n",
       "        text-align: right;\n",
       "    }\n",
       "</style>\n",
       "<table border=\"1\" class=\"dataframe\">\n",
       "  <thead>\n",
       "    <tr style=\"text-align: right;\">\n",
       "      <th>clusters</th>\n",
       "      <th>0</th>\n",
       "      <th>1</th>\n",
       "      <th>2</th>\n",
       "      <th>3</th>\n",
       "    </tr>\n",
       "  </thead>\n",
       "  <tbody>\n",
       "    <tr>\n",
       "      <th>counts</th>\n",
       "      <td>154</td>\n",
       "      <td>349</td>\n",
       "      <td>313</td>\n",
       "      <td>73</td>\n",
       "    </tr>\n",
       "  </tbody>\n",
       "</table>\n",
       "</div>"
      ],
      "text/plain": [
       "clusters    0    1    2   3\n",
       "counts    154  349  313  73"
      ]
     },
     "execution_count": 43,
     "metadata": {},
     "output_type": "execute_result"
    }
   ],
   "source": [
    "clustering_count"
   ]
  },
  {
   "cell_type": "code",
   "execution_count": 44,
   "metadata": {},
   "outputs": [
    {
     "data": {
      "text/html": [
       "<div>\n",
       "<style scoped>\n",
       "    .dataframe tbody tr th:only-of-type {\n",
       "        vertical-align: middle;\n",
       "    }\n",
       "\n",
       "    .dataframe tbody tr th {\n",
       "        vertical-align: top;\n",
       "    }\n",
       "\n",
       "    .dataframe thead th {\n",
       "        text-align: right;\n",
       "    }\n",
       "</style>\n",
       "<table border=\"1\" class=\"dataframe\">\n",
       "  <thead>\n",
       "    <tr style=\"text-align: right;\">\n",
       "      <th>clusters</th>\n",
       "      <th>0</th>\n",
       "      <th>1</th>\n",
       "      <th>2</th>\n",
       "      <th>3</th>\n",
       "    </tr>\n",
       "  </thead>\n",
       "  <tbody>\n",
       "    <tr>\n",
       "      <th>percentage</th>\n",
       "      <td>0.17</td>\n",
       "      <td>0.39</td>\n",
       "      <td>0.35</td>\n",
       "      <td>0.08</td>\n",
       "    </tr>\n",
       "  </tbody>\n",
       "</table>\n",
       "</div>"
      ],
      "text/plain": [
       "clusters       0     1     2     3\n",
       "percentage  0.17  0.39  0.35  0.08"
      ]
     },
     "execution_count": 44,
     "metadata": {},
     "output_type": "execute_result"
    }
   ],
   "source": [
    "clustering_ratio"
   ]
  },
  {
   "cell_type": "code",
   "execution_count": 45,
   "metadata": {},
   "outputs": [
    {
     "data": {
      "text/html": [
       "<div>\n",
       "<style scoped>\n",
       "    .dataframe tbody tr th:only-of-type {\n",
       "        vertical-align: middle;\n",
       "    }\n",
       "\n",
       "    .dataframe tbody tr th {\n",
       "        vertical-align: top;\n",
       "    }\n",
       "\n",
       "    .dataframe thead th {\n",
       "        text-align: right;\n",
       "    }\n",
       "</style>\n",
       "<table border=\"1\" class=\"dataframe\">\n",
       "  <thead>\n",
       "    <tr style=\"text-align: right;\">\n",
       "      <th></th>\n",
       "      <th>渠道代号</th>\n",
       "      <th>日均UV</th>\n",
       "      <th>平均注册率</th>\n",
       "      <th>平均搜索量</th>\n",
       "      <th>访问深度</th>\n",
       "      <th>订单转化率</th>\n",
       "      <th>投放总时间</th>\n",
       "      <th>素材类型</th>\n",
       "      <th>广告类型</th>\n",
       "      <th>合作方式</th>\n",
       "      <th>广告尺寸</th>\n",
       "      <th>广告卖点</th>\n",
       "      <th>clusters</th>\n",
       "    </tr>\n",
       "  </thead>\n",
       "  <tbody>\n",
       "    <tr>\n",
       "      <th>0</th>\n",
       "      <td>A203</td>\n",
       "      <td>3.69</td>\n",
       "      <td>0.0071</td>\n",
       "      <td>0.0214</td>\n",
       "      <td>2.3071</td>\n",
       "      <td>0.0258</td>\n",
       "      <td>20</td>\n",
       "      <td>jpg</td>\n",
       "      <td>banner</td>\n",
       "      <td>roi</td>\n",
       "      <td>140*40</td>\n",
       "      <td>打折</td>\n",
       "      <td>0</td>\n",
       "    </tr>\n",
       "    <tr>\n",
       "      <th>1</th>\n",
       "      <td>A387</td>\n",
       "      <td>178.70</td>\n",
       "      <td>0.0040</td>\n",
       "      <td>0.0324</td>\n",
       "      <td>2.0489</td>\n",
       "      <td>0.0030</td>\n",
       "      <td>19</td>\n",
       "      <td>jpg</td>\n",
       "      <td>banner</td>\n",
       "      <td>cpc</td>\n",
       "      <td>140*40</td>\n",
       "      <td>满减</td>\n",
       "      <td>0</td>\n",
       "    </tr>\n",
       "    <tr>\n",
       "      <th>2</th>\n",
       "      <td>A388</td>\n",
       "      <td>91.77</td>\n",
       "      <td>0.0022</td>\n",
       "      <td>0.0530</td>\n",
       "      <td>1.8771</td>\n",
       "      <td>0.0026</td>\n",
       "      <td>4</td>\n",
       "      <td>jpg</td>\n",
       "      <td>banner</td>\n",
       "      <td>cpc</td>\n",
       "      <td>140*40</td>\n",
       "      <td>满减</td>\n",
       "      <td>0</td>\n",
       "    </tr>\n",
       "    <tr>\n",
       "      <th>3</th>\n",
       "      <td>A389</td>\n",
       "      <td>1.09</td>\n",
       "      <td>0.0074</td>\n",
       "      <td>0.3382</td>\n",
       "      <td>4.2426</td>\n",
       "      <td>0.0153</td>\n",
       "      <td>10</td>\n",
       "      <td>jpg</td>\n",
       "      <td>banner</td>\n",
       "      <td>cpc</td>\n",
       "      <td>140*40</td>\n",
       "      <td>满减</td>\n",
       "      <td>0</td>\n",
       "    </tr>\n",
       "    <tr>\n",
       "      <th>4</th>\n",
       "      <td>A390</td>\n",
       "      <td>3.37</td>\n",
       "      <td>0.0028</td>\n",
       "      <td>0.1740</td>\n",
       "      <td>2.1934</td>\n",
       "      <td>0.0007</td>\n",
       "      <td>30</td>\n",
       "      <td>jpg</td>\n",
       "      <td>banner</td>\n",
       "      <td>cpc</td>\n",
       "      <td>140*40</td>\n",
       "      <td>满减</td>\n",
       "      <td>0</td>\n",
       "    </tr>\n",
       "  </tbody>\n",
       "</table>\n",
       "</div>"
      ],
      "text/plain": [
       "   渠道代号    日均UV   平均注册率   平均搜索量    访问深度   订单转化率  投放总时间 素材类型    广告类型 合作方式  \\\n",
       "0  A203    3.69  0.0071  0.0214  2.3071  0.0258     20  jpg  banner  roi   \n",
       "1  A387  178.70  0.0040  0.0324  2.0489  0.0030     19  jpg  banner  cpc   \n",
       "2  A388   91.77  0.0022  0.0530  1.8771  0.0026      4  jpg  banner  cpc   \n",
       "3  A389    1.09  0.0074  0.3382  4.2426  0.0153     10  jpg  banner  cpc   \n",
       "4  A390    3.37  0.0028  0.1740  2.1934  0.0007     30  jpg  banner  cpc   \n",
       "\n",
       "     广告尺寸 广告卖点  clusters  \n",
       "0  140*40   打折         0  \n",
       "1  140*40   满减         0  \n",
       "2  140*40   满减         0  \n",
       "3  140*40   满减         0  \n",
       "4  140*40   满减         0  "
      ]
     },
     "execution_count": 45,
     "metadata": {},
     "output_type": "execute_result"
    }
   ],
   "source": [
    "merge_data.head()"
   ]
  },
  {
   "cell_type": "code",
   "execution_count": 46,
   "metadata": {},
   "outputs": [
    {
     "data": {
      "text/html": [
       "<div>\n",
       "<style scoped>\n",
       "    .dataframe tbody tr th:only-of-type {\n",
       "        vertical-align: middle;\n",
       "    }\n",
       "\n",
       "    .dataframe tbody tr th {\n",
       "        vertical-align: top;\n",
       "    }\n",
       "\n",
       "    .dataframe thead th {\n",
       "        text-align: right;\n",
       "    }\n",
       "</style>\n",
       "<table border=\"1\" class=\"dataframe\">\n",
       "  <thead>\n",
       "    <tr style=\"text-align: right;\">\n",
       "      <th></th>\n",
       "      <th>素材类型</th>\n",
       "      <th>广告类型</th>\n",
       "      <th>合作方式</th>\n",
       "      <th>广告尺寸</th>\n",
       "      <th>广告卖点</th>\n",
       "    </tr>\n",
       "  </thead>\n",
       "  <tbody>\n",
       "    <tr>\n",
       "      <th>count</th>\n",
       "      <td>889</td>\n",
       "      <td>889</td>\n",
       "      <td>889</td>\n",
       "      <td>889</td>\n",
       "      <td>889</td>\n",
       "    </tr>\n",
       "    <tr>\n",
       "      <th>unique</th>\n",
       "      <td>4</td>\n",
       "      <td>5</td>\n",
       "      <td>4</td>\n",
       "      <td>8</td>\n",
       "      <td>6</td>\n",
       "    </tr>\n",
       "    <tr>\n",
       "      <th>top</th>\n",
       "      <td>jpg</td>\n",
       "      <td>横幅</td>\n",
       "      <td>cpc</td>\n",
       "      <td>600*90</td>\n",
       "      <td>直降</td>\n",
       "    </tr>\n",
       "    <tr>\n",
       "      <th>freq</th>\n",
       "      <td>536</td>\n",
       "      <td>348</td>\n",
       "      <td>552</td>\n",
       "      <td>645</td>\n",
       "      <td>345</td>\n",
       "    </tr>\n",
       "  </tbody>\n",
       "</table>\n",
       "</div>"
      ],
      "text/plain": [
       "       素材类型 广告类型 合作方式    广告尺寸 广告卖点\n",
       "count   889  889  889     889  889\n",
       "unique    4    5    4       8    6\n",
       "top     jpg   横幅  cpc  600*90   直降\n",
       "freq    536  348  552     645  345"
      ]
     },
     "execution_count": 46,
     "metadata": {},
     "output_type": "execute_result"
    }
   ],
   "source": [
    "merge_data.iloc[:,7:-1].describe(include='all')"
   ]
  },
  {
   "cell_type": "code",
   "execution_count": 56,
   "metadata": {},
   "outputs": [
    {
     "name": "stdout",
     "output_type": "stream",
     "text": [
      "                  0        1        2        3\n",
      "counts          154      349      313       73\n",
      "percentage     0.17     0.39     0.35     0.08\n",
      "日均UV        2717.42  933.015  1390.01  1904.37\n",
      "平均注册率         0.005    0.003    0.003    0.003\n",
      "平均搜索量         0.051    0.064    0.152    0.106\n",
      "访问深度          0.947    5.916    1.168    0.943\n",
      "订单转化率         0.007    0.006    0.017    0.009\n",
      "投放总时间         8.529     8.77    8.199    8.217\n",
      "素材类型            jpg      jpg      swf      swf\n",
      "广告类型         banner       横幅      不确定     tips\n",
      "合作方式            cpc      cpc      roi      cpm\n",
      "广告尺寸        308*388   600*90   600*90  450*300\n",
      "广告卖点             满减       直降       打折       打折\n"
     ]
    }
   ],
   "source": [
    "#计算各个聚类类别内部最显著特征值\n",
    "cluster_features = []#空列表，用来存储最终合并后的所有特征信息\n",
    "for line in range(4):#读取每个类的索引\n",
    "    label_data = merge_data[merge_data['clusters']==line]#获得特定类的数据\n",
    "    part1_data = label_data.iloc[:,1:7]#获得数据值型数据特征\n",
    "    part1_desc = part1_data.describe().round(3)#得到数值型特征的描述性统计信息\n",
    "    merge_data1 = part1_desc.iloc[2,:]#得到数值型特征的均值\n",
    "    part2_data = label_data.iloc[:,7:-1]#获得字符串型数据特征\n",
    "    part2_desc = part2_data.describe(include='all')#获得字符串数据特征的描述性统计信息\n",
    "    merge_data2 = part2_desc.iloc[2,:]#获得字符串型数据特征的最频繁值\n",
    "    merge_line = pd.concat((merge_data1,merge_data2),axis=0)#合并数值型和字符串型特征\n",
    "    cluster_features.append(merge_line)#将每个类别下的数据特征追加到列表\n",
    "    cluster_pd = pd.DataFrame(cluster_features).T#将列表转换为矩阵\n",
    "    all_cluster_set = pd.concat((clustering_count,clustering_ratio,cluster_pd),axis=0)#将每个聚类类别的所有信息合并\n",
    "print(all_cluster_set)"
   ]
  },
  {
   "cell_type": "raw",
   "metadata": {},
   "source": [
    "通过雷达图对个类别显著数值特征对比展示；\n",
    "各类别数据预处理，由于不同特征的数据量级差异很大，因此需要先对其做标准化处理，这样才能使得不同数据间具有对比的可能性。"
   ]
  },
  {
   "cell_type": "code",
   "execution_count": 59,
   "metadata": {},
   "outputs": [],
   "source": [
    "num_sets = cluster_pd.iloc[:6,:].T.astype(np.float64)#获取要展示的数据\n",
    "num_sets_max_min = model_scaler.fit_transform(num_sets)#获得标准化后的数据"
   ]
  },
  {
   "cell_type": "code",
   "execution_count": 64,
   "metadata": {},
   "outputs": [
    {
     "data": {
      "image/png": "[encoded data removed]",
      "text/plain": [
       "<Figure size 432x432 with 1 Axes>"
      ]
     },
     "metadata": {
      "needs_background": "light"
     },
     "output_type": "display_data"
    }
   ],
   "source": [
    "#画图\n",
    "fig = plt.figure(figsize=(6,6))#建立画布\n",
    "ax = fig.add_subplot(111,polar=True)#增加子网格，polar参数显示极坐标系\n",
    "labels = np.array(merge_data1.index)#设置要展示的数据标签\n",
    "cor_list = ['b','g','r','c','m','y','k','w']#定义不同类别的颜色\n",
    "angles = np.linspace(0,2*np.pi,len(labels),endpoint=False)#计算各个区间的角度\n",
    "angles = np.concatenate((angles,[angles[0]]))#建立相同首尾字段，以便于闭合\n",
    "\n",
    "for i in range(len(num_sets)):#循环每个类别\n",
    "    data_tmp = num_sets_max_min[i,:]#获得对应类数据\n",
    "    data = np.concatenate((data_tmp,[data_tmp[0]]))\n",
    "    ax.plot(angles,data,'o--',c=cor_list[i],label=i)#画线\n",
    "    ax.set_thetagrids(angles*180/np.pi,labels,fontproperties='SimHei')#设置极坐标轴\n",
    "    ax.set_title('个聚类类别显著性特征对比',fontproperties='SimHei')\n",
    "    ax.set_rlim(-0.2,1.2)#设置坐标轴尺度范围\n",
    "    plt.legend(loc=0)"
   ]
  },
  {
   "cell_type": "raw",
   "metadata": {},
   "source": [
    "初步分析：\n",
    "所有渠道被分为4个类别，每个类别的样本量为154，349，313，73，对应占比为17%，39%，35%，8%。第四个样本量较少。\n",
    "结合雷达图，可以清楚地看出不同类别广告媒体的特征倾向：\n",
    "聚类1（索引值为0):这类广告媒体的显著特征是日均UV和注册转化率较高，因此其“引流和拉新”的特征比较明显，比较符合广告媒体中引流的角色定位。\n",
    "聚类2（索引值为1):这类广告媒体除了访问深度和投放时间较高外，其他特征数都属于比较低的层次，因此此类广告媒体效果质量属于欠佳的情况。并且由于其占比达到39%，因此这是广告媒体的主体渠道之一。\n",
    "聚类3（索引值为2):这类广告媒体除了访问深度略差，在平均搜索量、日均UV、订单转化率等广告效果指标上表现都还可以，是一类综合效果比较好的媒体类。\n",
    "聚类4（索引值为3):各方面的特征都不明显，各个流量质量和流量数量的指标均处于中等偏上的层次。"
   ]
  },
  {
   "cell_type": "raw",
   "metadata": {},
   "source": [
    "深入分析：\n",
    "1）聚类1的广告更佳符合广告本身“广而告之”的基础诉求，因此适合再大规模的广告宣传和引流时使用，尤其对于新用户的注册转化上的效果非常明显，适合“拉新”使用。\n",
    "2）聚类2的广告渠道各方面表现均比较一般，因此需要业务部门重点考虑其投放的实际价值。\n",
    "3）聚类3的广告渠道的主要特点时转化效果较好，但短板是日均UV比较低，因此该类媒体无法为企业带来大量的流量以及新用户。这类广告的特质适合用户的转化，尤其是有关订单转换的提升。\n",
    "4）聚类4的广告渠道与聚类3的特质比较类似，但各方面表现更均衡，因此在各种场景需求下（例如引流和转化）都可以考虑这类渠道的广告投放。"
   ]
  },
  {
   "cell_type": "raw",
   "metadata": {},
   "source": [
    "对于以上4类广告媒体，需要针对其不同的特征做有针对的运营应用。\n",
    "1）对于聚类2的广告媒体，在资金不足或优化广告结构时，重点考虑其取舍问题。\n",
    "\n",
    "2）对于聚类3和聚类4的广告媒体，优化应用的方向有两个：\n",
    "1、在预算充足的情况下，优先做投放选择。考虑到这两类媒体的综合效果均处于较好的水平，因此投放媒体选择上会较能兼顾流量数量和质量。在增加预算的基础上，重点从媒体人群匹配、广告执行（例如打折卖点、中大型图片roi和cpm类合作方式）等方面做优化，能更有效地加强这两类媒体的效果。\n",
    "2、在预算有效的情况下，对于整体广告效果有支撑价值。考虑到其流量规模的局限性，这两类渠道更加适合在广告结构中作为一类具有流量质量支撑价值的角色，可以用来提升全局广告的订单质量效果，因此是一类非常关键的质量渠道。尤其是聚类3的广告媒体其质量指标表现非常优异，应该优先考虑投放组合。\n",
    "\n",
    "3）聚类1的广告媒体可以作为在每次大型促销活动时引流的骨干，因为这更符合广告本身在全部推送媒体中的角色定位。对于这类媒体的单位流量成本需要重点关注，实际投放过程中可以满减为促销点，通过较大尺寸（如308×338）的广告类型引导流量点击。"
   ]
  }
 ],
 "metadata": {
  "kernelspec": {
   "display_name": "Python 3",
   "language": "python",
   "name": "python3"
  },
  "language_info": {
   "codemirror_mode": {
    "name": "ipython",
    "version": 3
   },
   "file_extension": ".py",
   "mimetype": "text/x-python",
   "name": "python",
   "nbconvert_exporter": "python",
   "pygments_lexer": "ipython3",
   "version": "3.7.6"
  }
 },
 "nbformat": 4,
 "nbformat_minor": 4
}
